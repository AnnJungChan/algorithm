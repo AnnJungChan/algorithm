{
  "nbformat": 4,
  "nbformat_minor": 0,
  "metadata": {
    "colab": {
      "name": "Greedy_basic.ipynb",
      "provenance": [],
      "authorship_tag": "ABX9TyNlHCEuaaP0suU4ZKFKx9UD",
      "include_colab_link": true
    },
    "kernelspec": {
      "name": "python3",
      "display_name": "Python 3"
    },
    "language_info": {
      "name": "python"
    }
  },
  "cells": [
    {
      "cell_type": "markdown",
      "metadata": {
        "id": "view-in-github",
        "colab_type": "text"
      },
      "source": [
        "<a href=\"https://colab.research.google.com/github/AnnJungChan/algorithm/blob/main/Greedy/Greedy_basic.ipynb\" target=\"_parent\"><img src=\"https://colab.research.google.com/assets/colab-badge.svg\" alt=\"Open In Colab\"/></a>"
      ]
    },
    {
      "cell_type": "markdown",
      "source": [
        "# 그리디 알고리즘\n",
        "\n",
        "- 현재 상황에서 지금 가장 좋은 것만 고르는 방법\n",
        "- 현재의 선택이 나중에 미칠 영향을 고려하지 않음\n",
        "\n",
        "## 정당성\n",
        "\n",
        "- 그리디 알고리즘으로 문제를 풀었으면, 그 해법이 정당한지 항상 검토해야 함.\n",
        "- 그리디 알고리즘으로 거스름돈 문제를 해결할 수 있는 이유는 **가지고 있는 동전 중에서 큰 단위의 배수이므로 작은 단위의 동전들을 종합해 다른 해가 나올 수 없기 때문**\n",
        "-  ** 큰 단위가 작은 단위의 배수 일 때, 그리디 알고리즘 구현 가능**\n",
        "\n",
        "## 문제를 만났을 때\n",
        "\n",
        "- 바로 문제유형을 파악하기 어려우면 그리디\n",
        "- 그리디 -> 다이나믹 프로그래밍 -> 그래프 알고리즘"
      ],
      "metadata": {
        "id": "OPd7iPCm6uIh"
      }
    }
  ]
}