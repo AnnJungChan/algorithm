{
  "nbformat": 4,
  "nbformat_minor": 0,
  "metadata": {
    "colab": {
      "name": "python_conditional.ipynb",
      "provenance": [],
      "authorship_tag": "ABX9TyOZVi5qSmyU1x3TytsFNBBR",
      "include_colab_link": true
    },
    "kernelspec": {
      "name": "python3",
      "display_name": "Python 3"
    },
    "language_info": {
      "name": "python"
    }
  },
  "cells": [
    {
      "cell_type": "markdown",
      "metadata": {
        "id": "view-in-github",
        "colab_type": "text"
      },
      "source": [
        "<a href=\"https://colab.research.google.com/github/AnnJungChan/algorithm/blob/main/Python_basic/python_conditional.ipynb\" target=\"_parent\"><img src=\"https://colab.research.google.com/assets/colab-badge.svg\" alt=\"Open In Colab\"/></a>"
      ]
    },
    {
      "cell_type": "markdown",
      "source": [
        "# 조건문 기본\n",
        "\n",
        "- 들여쓰기는 띄워쓰기 4번이 표준이다.\n",
        "- 조건문에서 실행되는 소스코드가 한 줄일 경우, 줄바꿈을 하지 않음"
      ],
      "metadata": {
        "id": "Usj83QFOgwZL"
      }
    },
    {
      "cell_type": "markdown",
      "source": [
        "x = 15 \\\\\n",
        "x가 10이상일 때, x의 값이 출력되도록 하라"
      ],
      "metadata": {
        "id": "oTrJaCttg2aD"
      }
    },
    {
      "cell_type": "code",
      "execution_count": 1,
      "metadata": {
        "colab": {
          "base_uri": "https://localhost:8080/"
        },
        "id": "MJzKSYa5frHu",
        "outputId": "a8930330-922f-4d14-cd92-9e00ed06cd6a"
      },
      "outputs": [
        {
          "output_type": "stream",
          "name": "stdout",
          "text": [
            "15\n"
          ]
        }
      ],
      "source": [
        "x = 15\n",
        "if x >=10 :\n",
        "  print(x)"
      ]
    },
    {
      "cell_type": "markdown",
      "source": [
        "score = 85 \\\\\n",
        "성적 구간에 따른 학점을 출력하라\n",
        "- 90이상 : A \\\\\n",
        "- 90미만, 80 이상 : B \\\\\n",
        "- 80미만, 70이상 : C \\\\\n",
        "- 70미만 : F "
      ],
      "metadata": {
        "id": "k6qwXnfrhCwm"
      }
    },
    {
      "cell_type": "code",
      "source": [
        "x = 85\n",
        "if x>= 90 :\n",
        "  print(\"A\")\n",
        "elif (x<90) & (x>=80) :\n",
        "  print(\"B\")\n",
        "elif (x<80) & (x>=70) :\n",
        "  print(\"C\")\n",
        "else : print(\"F\")"
      ],
      "metadata": {
        "colab": {
          "base_uri": "https://localhost:8080/"
        },
        "id": "hnk1k3NAhUet",
        "outputId": "9b4ff66c-1914-4f19-8c3c-821e22700876"
      },
      "execution_count": 5,
      "outputs": [
        {
          "output_type": "stream",
          "name": "stdout",
          "text": [
            "B\n"
          ]
        }
      ]
    },
    {
      "cell_type": "code",
      "source": [
        "x = 85\n",
        "if x>=90 :\n",
        "  print(\"학점 : A\")\n",
        "elif x>=80 :\n",
        "  print(\"학점 : B\")\n",
        "elif x>=70 :\n",
        "  print(\"학점 : C\")\n",
        "else : print(\"학점 : F\")"
      ],
      "metadata": {
        "colab": {
          "base_uri": "https://localhost:8080/"
        },
        "id": "kkIrKqluhuR-",
        "outputId": "ab2068bc-6856-4d7b-93f0-c4d6544761f5"
      },
      "execution_count": 6,
      "outputs": [
        {
          "output_type": "stream",
          "name": "stdout",
          "text": [
            "학점 : B\n"
          ]
        }
      ]
    },
    {
      "cell_type": "markdown",
      "source": [
        "score = 85 \\\\\n",
        "성적이 70점 이상이면 성적이 70점 이상입니다.가 출력되도록 할  것 \\\\\n",
        "성적이 90점 이상이면, 우수한 성적입니다. 가 출력되도록 할 것 \\\\\n",
        "성적이 70점 미만이라면, 성적이 70점 미만입니다. 와 조금 더 분발하세요. 가 출력되도록 할 것 \\\\\n",
        "모든 프로세스가 다 끝나면 프로그램을 종료합니다. 가 출력되도록 할 것."
      ],
      "metadata": {
        "id": "Fk-bMKjvijKt"
      }
    },
    {
      "cell_type": "code",
      "source": [
        "score = 85\n",
        "\n",
        "if score >= 70 :\n",
        "      print(\"성적이 70점 이상입니다.\")\n",
        "      if score >= 90 :\n",
        "          print(\"우수한 성적입니다.\")\n",
        "else :\n",
        "    print(\"성적이 70점 미만입니다.\")\n",
        "    print(\"조금 더 분발하세요\")\n",
        "print(\"프로그램을 종료합니다.\")\n"
      ],
      "metadata": {
        "colab": {
          "base_uri": "https://localhost:8080/"
        },
        "id": "YU2yJHnejAP6",
        "outputId": "1a8e713d-6b94-41a2-ae20-5bd47fbfa4d8"
      },
      "execution_count": 9,
      "outputs": [
        {
          "output_type": "stream",
          "name": "stdout",
          "text": [
            "성적이 70점 이상입니다.\n",
            "프로그램을 종료합니다.\n"
          ]
        }
      ]
    },
    {
      "cell_type": "markdown",
      "source": [
        "score = 85 \\\\\n",
        "점수가 80점 이상일 때, 아무런 처리를 하지 않는다 \\\\\n",
        "점수가 80점 미만이면 \"성적이 80점 미만입니다\" 를 출력 \\\\\n",
        "프로그램이 종료되면, \"프로그램을 종료합니다.\" 출력"
      ],
      "metadata": {
        "id": "fXVSD70tkPWm"
      }
    },
    {
      "cell_type": "code",
      "source": [
        "score = 85\n",
        "if score >= 80 :\n",
        "    pass\n",
        "else :\n",
        "    print(\"성적이 80점 미만입니다.\")\n",
        "print(\"프로그램을 종료합니다.\")"
      ],
      "metadata": {
        "colab": {
          "base_uri": "https://localhost:8080/"
        },
        "id": "bFLpMGw5keo7",
        "outputId": "cbfa52a7-0699-4b36-d98e-56edb8cbe546"
      },
      "execution_count": 10,
      "outputs": [
        {
          "output_type": "stream",
          "name": "stdout",
          "text": [
            "프로그램을 종료합니다.\n"
          ]
        }
      ]
    },
    {
      "cell_type": "markdown",
      "source": [
        "score = 85 \\\\\n",
        "점수가 80점 이상일 때, \"Success\" 출력 \\\\\n",
        "점수가 80점 미만이면 \"Fail\" 출력 \\\\\n",
        "줄바꿈을 허용하지 않음 \\\\\n",
        "result 이용"
      ],
      "metadata": {
        "id": "Mcvyf07Ik3EK"
      }
    },
    {
      "cell_type": "code",
      "source": [
        "score = 85\n",
        "if score >= 80 : result = \"Success\"\n",
        "else : result = \"Fail\"\n",
        "print(result)"
      ],
      "metadata": {
        "colab": {
          "base_uri": "https://localhost:8080/"
        },
        "id": "bwtIFM7tk_kh",
        "outputId": "835ab5c9-a302-4954-ab6d-e2abaef22701"
      },
      "execution_count": 18,
      "outputs": [
        {
          "output_type": "stream",
          "name": "stdout",
          "text": [
            "Success\n"
          ]
        }
      ]
    },
    {
      "cell_type": "markdown",
      "source": [
        "score = 85 \\\\\n",
        "점수가 80점 이상일 때, \"Success\" 출력 \\\\\n",
        "점수가 80점 미만이면 \"Fail\" 출력 \\\\\n",
        "한줄로 작성할 것(조건부 표현식 이용) \\\\\n",
        "\n",
        "- 조건부 표현식\n",
        "- 도출되어야 할 결과 if 문(조건) else(if문에 부합하지 않으면 나오는 결과) "
      ],
      "metadata": {
        "id": "CYkHW516lllb"
      }
    },
    {
      "cell_type": "code",
      "source": [
        "score = 85\n",
        "result = \"Success\" if score >= 80 else \"Fail\"\n",
        "print(result)"
      ],
      "metadata": {
        "colab": {
          "base_uri": "https://localhost:8080/"
        },
        "id": "yg-Wt4fOlroN",
        "outputId": "735227a1-aa2a-431d-994a-eec9437d5e22"
      },
      "execution_count": 19,
      "outputs": [
        {
          "output_type": "stream",
          "name": "stdout",
          "text": [
            "Success\n"
          ]
        }
      ]
    }
  ]
}