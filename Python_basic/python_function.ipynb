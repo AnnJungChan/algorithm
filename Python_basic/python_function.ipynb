{
  "nbformat": 4,
  "nbformat_minor": 0,
  "metadata": {
    "colab": {
      "name": "python_function.ipynb",
      "provenance": [],
      "collapsed_sections": [],
      "authorship_tag": "ABX9TyOs9qBIkBGJQUor1Sq/H/d3",
      "include_colab_link": true
    },
    "kernelspec": {
      "name": "python3",
      "display_name": "Python 3"
    },
    "language_info": {
      "name": "python"
    }
  },
  "cells": [
    {
      "cell_type": "markdown",
      "metadata": {
        "id": "view-in-github",
        "colab_type": "text"
      },
      "source": [
        "<a href=\"https://colab.research.google.com/github/AnnJungChan/algorithm/blob/main/Python_basic/python_function.ipynb\" target=\"_parent\"><img src=\"https://colab.research.google.com/assets/colab-badge.svg\" alt=\"Open In Colab\"/></a>"
      ]
    },
    {
      "cell_type": "markdown",
      "source": [
        "# 함수\n",
        "\n",
        "- 동일한 알고리즘을 반복적으로 수행해야 할 때 유용함\n",
        "- 함수 내부에서 사용되는 매개변수 값을 정의\n",
        "- 반환하고자 하는 값을 return으로 정의\n",
        "- 매개변수나 return이 존재하지 않을 수도 있다.\n",
        "\n",
        "def 함수명(매개변수) \\\\\n",
        "    실행할 소스코드 \\\\\n",
        "    return 반환할 값 \\\\\n",
        "\n",
        "# global 키워드\n",
        "\n",
        "- 함수 안에서 함수 밖의 변수 데이터를 변경해야 하는 경우 사용\n",
        "- 해당 함수는 지역 변수를 만들지 않고, 함수 바깥에 선언된 변수를 바로 참조하게 된다.\n",
        "\n",
        "# 람다 표현식\n",
        "\n",
        "- 함수를 매우 간단하게 작성할 수 있음\n",
        "- 특정한 기능을 수행하는 함수를 한줄에 작성할 수 있다는 것이 특징임\n",
        "- (lambda 매개변수 : 함수)(넣을 값)"
      ],
      "metadata": {
        "id": "BVWp9KjBuLmF"
      }
    },
    {
      "cell_type": "markdown",
      "source": [
        "더하기 기능을 하는 함수를 만들어라"
      ],
      "metadata": {
        "id": "SXR3LQtouqGF"
      }
    },
    {
      "cell_type": "code",
      "execution_count": 2,
      "metadata": {
        "colab": {
          "base_uri": "https://localhost:8080/"
        },
        "id": "V0jW5p4RtKGR",
        "outputId": "950efc51-b370-4966-c3a7-972ff682877c"
      },
      "outputs": [
        {
          "output_type": "stream",
          "name": "stdout",
          "text": [
            "3\n"
          ]
        }
      ],
      "source": [
        "def add(a,b) :\n",
        "  return a + b\n",
        "\n",
        "print(add(1,2))"
      ]
    },
    {
      "cell_type": "markdown",
      "source": [
        "더하기 기능을 하는 함수를 만들어라(return을 사용하지 말 것)"
      ],
      "metadata": {
        "id": "1p25iFN8u3e8"
      }
    },
    {
      "cell_type": "code",
      "source": [
        "def add(a,b) : \n",
        "  print(a+b)\n",
        "\n",
        "add(1,2)"
      ],
      "metadata": {
        "colab": {
          "base_uri": "https://localhost:8080/"
        },
        "id": "-15oe1eju8Vt",
        "outputId": "bff54c48-6c19-4278-9caa-9531e7950593"
      },
      "execution_count": 8,
      "outputs": [
        {
          "output_type": "stream",
          "name": "stdout",
          "text": [
            "3\n"
          ]
        }
      ]
    },
    {
      "cell_type": "markdown",
      "source": [
        "더하기 기능을 하는 함수에서 b = 2, a =3일 때, b먼저 대입한 후, a를 대입하라."
      ],
      "metadata": {
        "id": "bwvrENvdvcQ3"
      }
    },
    {
      "cell_type": "code",
      "source": [
        "add(b = 2, a = 3)"
      ],
      "metadata": {
        "colab": {
          "base_uri": "https://localhost:8080/"
        },
        "id": "Is9OyWQXvha6",
        "outputId": "3276661b-9ed0-43d8-ab5d-2d93692448fe"
      },
      "execution_count": 10,
      "outputs": [
        {
          "output_type": "stream",
          "name": "stdout",
          "text": [
            "5\n"
          ]
        }
      ]
    },
    {
      "cell_type": "markdown",
      "source": [
        "a = 0 \\\\\n",
        "함수를 이용하여, 함수 안에서 함수 밖에 있는 변수 a에 1을 10번 더해서 함수 밖에 있는 변수 a를 바꾸는 함수 func()를 만들어라."
      ],
      "metadata": {
        "id": "UkbtepEgv6CF"
      }
    },
    {
      "cell_type": "code",
      "source": [
        "a = 0\n",
        "\n",
        "def func() :\n",
        "    global a\n",
        "    a += 1\n",
        "\n",
        "for _ in range(10) :\n",
        "    func()\n",
        "\n",
        "print(a)"
      ],
      "metadata": {
        "colab": {
          "base_uri": "https://localhost:8080/"
        },
        "id": "EWXwIKRVwRid",
        "outputId": "a500ea37-36c2-4dcc-98fd-8ad514890fd7"
      },
      "execution_count": 13,
      "outputs": [
        {
          "output_type": "stream",
          "name": "stdout",
          "text": [
            "10\n"
          ]
        }
      ]
    },
    {
      "cell_type": "markdown",
      "source": [
        "lambda 표현식으로 더하기 함수를 구현하고, 3과 7을 더하라."
      ],
      "metadata": {
        "id": "imsnLrcuw1M_"
      }
    },
    {
      "cell_type": "code",
      "source": [
        "print((lambda a, b : a+b)(3,7))"
      ],
      "metadata": {
        "colab": {
          "base_uri": "https://localhost:8080/"
        },
        "id": "as7DvjWuw5nn",
        "outputId": "0fe959bd-5518-42fa-ee47-ecb037279ed4"
      },
      "execution_count": 16,
      "outputs": [
        {
          "output_type": "stream",
          "name": "stdout",
          "text": [
            "10\n"
          ]
        }
      ]
    }
  ]
}