{
  "nbformat": 4,
  "nbformat_minor": 0,
  "metadata": {
    "colab": {
      "name": "python_input_output.ipynb",
      "provenance": [],
      "authorship_tag": "ABX9TyPGmnCrmoE0LJCWi8KvpxtA",
      "include_colab_link": true
    },
    "kernelspec": {
      "name": "python3",
      "display_name": "Python 3"
    },
    "language_info": {
      "name": "python"
    }
  },
  "cells": [
    {
      "cell_type": "markdown",
      "metadata": {
        "id": "view-in-github",
        "colab_type": "text"
      },
      "source": [
        "<a href=\"https://colab.research.google.com/github/AnnJungChan/algorithm/blob/main/Python_basic/python_input_output.ipynb\" target=\"_parent\"><img src=\"https://colab.research.google.com/assets/colab-badge.svg\" alt=\"Open In Colab\"/></a>"
      ]
    },
    {
      "cell_type": "markdown",
      "source": [
        "# 입출력\n",
        "\n",
        "- input() : 한 줄의 문자열을 입력받도록 해줌 [정수형으로 입력을 받을 때는 int() 함수를 사용해야 함]\n",
        "\n",
        "- list(map(int, input().split())) : 입력받은 문자열을 띄어쓰기로 구분하여 각각 정수 자료형의 데이터로 저장\n",
        "\n",
        "- input() : 문자열 받음\n",
        "- split() : 공백으로 문자열을 나눔\n",
        "- map(int,) : 문자열을 정수형으로 바꿈\n",
        "- list() : 숫자자료형으로 문자를 저장"
      ],
      "metadata": {
        "id": "_4MA0n2KQ5er"
      }
    },
    {
      "cell_type": "markdown",
      "source": [
        "데이터가 아래와 같이 주어져있다. \\\\\n",
        "<br>\n",
        "5 \\\\\n",
        "65 90 75 65 34\n",
        "<br>\n",
        "입출력하라."
      ],
      "metadata": {
        "id": "YPGv-kOOSh5D"
      }
    },
    {
      "cell_type": "code",
      "execution_count": 4,
      "metadata": {
        "colab": {
          "base_uri": "https://localhost:8080/"
        },
        "id": "ycDHj_xUQ01V",
        "outputId": "b54b6426-022e-4fd6-bf56-e23ec3fc82fd"
      },
      "outputs": [
        {
          "name": "stdout",
          "output_type": "stream",
          "text": [
            "5\n",
            "65 90 75 65 34\n"
          ]
        }
      ],
      "source": [
        "n = int(input())\n",
        "data = list(map(int,input().split()))"
      ]
    },
    {
      "cell_type": "code",
      "source": [
        "print(n, data)"
      ],
      "metadata": {
        "colab": {
          "base_uri": "https://localhost:8080/"
        },
        "id": "FbPI5m_JTD0k",
        "outputId": "399c9967-ff56-4f3a-e501-0fa814ac9cee"
      },
      "execution_count": 5,
      "outputs": [
        {
          "output_type": "stream",
          "name": "stdout",
          "text": [
            "5 [65, 90, 75, 65, 34]\n"
          ]
        }
      ]
    },
    {
      "cell_type": "markdown",
      "source": [
        "데이터가 아래와 같이 주어져있다. \\\\\n",
        "<br>\n",
        "3 5 7\n",
        "<br>\n",
        "입출력을 실시하고, 3을 n, 5를 m, 7을 k에 할당시켜라"
      ],
      "metadata": {
        "id": "pKDHwLRVTLy6"
      }
    },
    {
      "cell_type": "code",
      "source": [
        "n, m, k = map(int,input().split())"
      ],
      "metadata": {
        "colab": {
          "base_uri": "https://localhost:8080/"
        },
        "id": "Ta-oV1OlTXe0",
        "outputId": "ba7937b8-6bcc-48cf-c494-45d1180e4506"
      },
      "execution_count": 6,
      "outputs": [
        {
          "name": "stdout",
          "output_type": "stream",
          "text": [
            "3 5 7\n"
          ]
        }
      ]
    },
    {
      "cell_type": "code",
      "source": [
        "print(n,m,k)"
      ],
      "metadata": {
        "colab": {
          "base_uri": "https://localhost:8080/"
        },
        "id": "zxUbJ7CpTf6R",
        "outputId": "b099bb98-af87-46ed-d142-45b405621a2f"
      },
      "execution_count": 7,
      "outputs": [
        {
          "output_type": "stream",
          "name": "stdout",
          "text": [
            "3 5 7\n"
          ]
        }
      ]
    },
    {
      "cell_type": "markdown",
      "source": [
        "# 입력을 빠르게 받는 방법\n",
        "- input()은 입력을 받는데 시간이 오래걸린다.\n",
        "- sys 라이브러리를 사용\n",
        "- sys.stdin.readline() 함수를 사용\n",
        "- 한줄을 입력받은 후, rstrip() 함수를 호출할 것\n",
        "- 관행적으로 암기할 것\n",
        "- **코랩에서는 작동 안함**\n",
        "<br>\n",
        "\n",
        "## 최종코드\n",
        "\n",
        "import sys \\\\\n",
        "sys.stdin.readline.rstrip()"
      ],
      "metadata": {
        "id": "DqCeOnjnTktx"
      }
    },
    {
      "cell_type": "markdown",
      "source": [
        "Hello World \\\\\n",
        "를 입출력하라."
      ],
      "metadata": {
        "id": "YnV5njR5UMAX"
      }
    },
    {
      "cell_type": "code",
      "source": [
        "import sys\n",
        "data=sys.stdin.readline().rstrip()"
      ],
      "metadata": {
        "id": "H8CNLoC5T1iR"
      },
      "execution_count": 25,
      "outputs": []
    },
    {
      "cell_type": "code",
      "source": [
        "print(data)"
      ],
      "metadata": {
        "id": "fLSJ5YTDXCvq"
      },
      "execution_count": null,
      "outputs": []
    },
    {
      "cell_type": "markdown",
      "source": [
        "# 출력\n",
        "\n",
        "- print() 사용\n",
        "- print() 하나마다 줄바꿈 하나"
      ],
      "metadata": {
        "id": "3dlG7K8oXMAg"
      }
    },
    {
      "cell_type": "markdown",
      "source": [
        "a = 1 \\\\\n",
        "b = 2 \\\\\n",
        "를 한줄에 출력하라"
      ],
      "metadata": {
        "id": "FGa345-7XUwO"
      }
    },
    {
      "cell_type": "code",
      "source": [
        "a = 1\n",
        "b = 2\n",
        "print(a,b)"
      ],
      "metadata": {
        "colab": {
          "base_uri": "https://localhost:8080/"
        },
        "id": "M1FtM6ocXbi5",
        "outputId": "ea110861-aae8-458f-e0b4-397073349e37"
      },
      "execution_count": 26,
      "outputs": [
        {
          "output_type": "stream",
          "name": "stdout",
          "text": [
            "1 2\n"
          ]
        }
      ]
    },
    {
      "cell_type": "markdown",
      "source": [
        "a = 1 \\\\\n",
        "b = 2 \\\\\n",
        "를 값 하나당 한 줄로 2줄에 출력하라."
      ],
      "metadata": {
        "id": "XYVjFDnDXiO1"
      }
    },
    {
      "cell_type": "code",
      "source": [
        "a = 1\n",
        "b = 2\n",
        "print(a)\n",
        "print(b)"
      ],
      "metadata": {
        "colab": {
          "base_uri": "https://localhost:8080/"
        },
        "id": "hqh91gw9Xn3R",
        "outputId": "ed2911cb-09f9-496a-e82f-afbd7c4451f5"
      },
      "execution_count": 27,
      "outputs": [
        {
          "output_type": "stream",
          "name": "stdout",
          "text": [
            "1\n",
            "2\n"
          ]
        }
      ]
    },
    {
      "cell_type": "markdown",
      "source": [
        "아래 코드는 오류가 발생한다."
      ],
      "metadata": {
        "id": "IPuUOLe7Xrij"
      }
    },
    {
      "cell_type": "code",
      "source": [
        "answer = 7\n",
        "\n",
        "print(\"정답은\" + answer + \"입니다.\")"
      ],
      "metadata": {
        "colab": {
          "base_uri": "https://localhost:8080/",
          "height": 211
        },
        "id": "IiDe36rdYAd5",
        "outputId": "48c0f563-9970-45e0-9037-a0b26f0bf8df"
      },
      "execution_count": 28,
      "outputs": [
        {
          "output_type": "error",
          "ename": "TypeError",
          "evalue": "ignored",
          "traceback": [
            "\u001b[0;31m---------------------------------------------------------------------------\u001b[0m",
            "\u001b[0;31mTypeError\u001b[0m                                 Traceback (most recent call last)",
            "\u001b[0;32m<ipython-input-28-e014b48c76a5>\u001b[0m in \u001b[0;36m<module>\u001b[0;34m()\u001b[0m\n\u001b[1;32m      1\u001b[0m \u001b[0manswer\u001b[0m \u001b[0;34m=\u001b[0m \u001b[0;36m7\u001b[0m\u001b[0;34m\u001b[0m\u001b[0;34m\u001b[0m\u001b[0m\n\u001b[1;32m      2\u001b[0m \u001b[0;34m\u001b[0m\u001b[0m\n\u001b[0;32m----> 3\u001b[0;31m \u001b[0mprint\u001b[0m\u001b[0;34m(\u001b[0m\u001b[0;34m\"정답은\"\u001b[0m \u001b[0;34m+\u001b[0m \u001b[0manswer\u001b[0m \u001b[0;34m+\u001b[0m \u001b[0;34m\"입니다.\"\u001b[0m\u001b[0;34m)\u001b[0m\u001b[0;34m\u001b[0m\u001b[0;34m\u001b[0m\u001b[0m\n\u001b[0m",
            "\u001b[0;31mTypeError\u001b[0m: can only concatenate str (not \"int\") to str"
          ]
        }
      ]
    },
    {
      "cell_type": "markdown",
      "source": [
        "왜 오류가 발생하는가? \\\\\n",
        "정확한 코드로 고쳐라. \\\\\n",
        "이 때, 방법은 3가지이다."
      ],
      "metadata": {
        "id": "ix9_p4zBYHsC"
      }
    },
    {
      "cell_type": "code",
      "source": [
        "answer = 7\n",
        "print(\"정답은 \" + str(answer) + \" 입니다.\")"
      ],
      "metadata": {
        "colab": {
          "base_uri": "https://localhost:8080/"
        },
        "id": "7byQNckqYKTR",
        "outputId": "e8f7e7c3-1d33-43b3-f9e7-a4b36959d2d8"
      },
      "execution_count": 34,
      "outputs": [
        {
          "output_type": "stream",
          "name": "stdout",
          "text": [
            "정답은 7 입니다.\n"
          ]
        }
      ]
    },
    {
      "cell_type": "markdown",
      "source": [
        "문자형과 숫자형을 +로 같이 출력하기 위해선, 숫자를 문자형으로 변환해준 후, 출력해야한다."
      ],
      "metadata": {
        "id": "jfmGa_8OYRoU"
      }
    },
    {
      "cell_type": "code",
      "source": [
        "answer = 7\n",
        "print(\"정답은 \",answer, \" 입니다.\" )"
      ],
      "metadata": {
        "colab": {
          "base_uri": "https://localhost:8080/"
        },
        "id": "LDQPWQ4pYljj",
        "outputId": "5831364d-0e95-4e68-dbd4-e7c709a91770"
      },
      "execution_count": 35,
      "outputs": [
        {
          "output_type": "stream",
          "name": "stdout",
          "text": [
            "정답은  7  입니다.\n"
          ]
        }
      ]
    },
    {
      "cell_type": "code",
      "source": [
        "answer = 7\n",
        "print(\"정답은\",str(answer), \"입니다.\")"
      ],
      "metadata": {
        "colab": {
          "base_uri": "https://localhost:8080/"
        },
        "id": "kxL4abYOYypi",
        "outputId": "cc4d0c00-39a6-4857-a52b-23e91ab46240"
      },
      "execution_count": 36,
      "outputs": [
        {
          "output_type": "stream",
          "name": "stdout",
          "text": [
            "정답은 7 입니다.\n"
          ]
        }
      ]
    },
    {
      "cell_type": "markdown",
      "source": [
        "컴마로 구분하면 변수변환을 하지 않아도 되지만, 의도치 않은 공백이 생길 수 있다는 것에 유의하자."
      ],
      "metadata": {
        "id": "ZAAm0H_TYhAC"
      }
    },
    {
      "cell_type": "code",
      "source": [
        "answer = 7\n",
        "print(f\"정답은 {answer} 입니다.\")"
      ],
      "metadata": {
        "colab": {
          "base_uri": "https://localhost:8080/"
        },
        "id": "sjngJ9NaZA9T",
        "outputId": "cdfcd157-42c4-4107-88c1-f53c777b0671"
      },
      "execution_count": 37,
      "outputs": [
        {
          "output_type": "stream",
          "name": "stdout",
          "text": [
            "정답은 7 입니다.\n"
          ]
        }
      ]
    },
    {
      "cell_type": "markdown",
      "source": [
        "파이썬 3.6버전 이상부터는 f-string을 사용하여 자료형 변환 없이 출력가능하다."
      ],
      "metadata": {
        "id": "GlgMUDEAZOVM"
      }
    }
  ]
}