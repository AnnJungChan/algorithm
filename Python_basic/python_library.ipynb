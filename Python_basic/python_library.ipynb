{
  "nbformat": 4,
  "nbformat_minor": 0,
  "metadata": {
    "colab": {
      "name": "python_library.ipynb",
      "provenance": [],
      "authorship_tag": "ABX9TyNdkuM3gUQlDVt4KUp4Mqu3",
      "include_colab_link": true
    },
    "kernelspec": {
      "name": "python3",
      "display_name": "Python 3"
    },
    "language_info": {
      "name": "python"
    }
  },
  "cells": [
    {
      "cell_type": "markdown",
      "metadata": {
        "id": "view-in-github",
        "colab_type": "text"
      },
      "source": [
        "<a href=\"https://colab.research.google.com/github/AnnJungChan/algorithm/blob/main/Python_basic/python_library.ipynb\" target=\"_parent\"><img src=\"https://colab.research.google.com/assets/colab-badge.svg\" alt=\"Open In Colab\"/></a>"
      ]
    },
    {
      "cell_type": "markdown",
      "source": [
        "# 기본 라이브러리\n",
        "\n",
        "- 내장함수\n",
        "- itertools : 순열과 조합 라이브러리, 반복되는 형테의 데이터 처리\n",
        "- heapq : heap 기능 제공. 우선순위 큐 기능 구현\n",
        "- bisect : 이진탐색 기능 제공\n",
        "- collections : 덱, 카운터 등의 유용한 자료구조를 포함하고 있는 라이브러리\n",
        "- math : 필수적인 수학적 기능을 제공하는 라이브러리, 팩토리얼, 제곱근, 최대공약수, 삼각함수, pi"
      ],
      "metadata": {
        "id": "AwL_jJ4taazV"
      }
    },
    {
      "cell_type": "markdown",
      "source": [
        "# 내장함수"
      ],
      "metadata": {
        "id": "bovIbvWZa8Ri"
      }
    },
    {
      "cell_type": "markdown",
      "source": [
        "리스트 [1,2,3,4,5]의 모든 원소의 합을 반환하라."
      ],
      "metadata": {
        "id": "l_uJd5kTbNdb"
      }
    },
    {
      "cell_type": "code",
      "execution_count": 1,
      "metadata": {
        "colab": {
          "base_uri": "https://localhost:8080/"
        },
        "id": "0LC0ZPeSaPSP",
        "outputId": "d619a88c-4c66-468a-b83d-2372c1a89faa"
      },
      "outputs": [
        {
          "output_type": "stream",
          "name": "stdout",
          "text": [
            "15\n"
          ]
        }
      ],
      "source": [
        "result = sum([1,2,3,4,5])\n",
        "print(result)"
      ]
    },
    {
      "cell_type": "markdown",
      "source": [
        "7,3,5,2중 가장 작은 값을 반환하라."
      ],
      "metadata": {
        "id": "5HdVXxLkbaAR"
      }
    },
    {
      "cell_type": "code",
      "source": [
        "result = min(7,3,5,2)\n",
        "print(result)"
      ],
      "metadata": {
        "colab": {
          "base_uri": "https://localhost:8080/"
        },
        "id": "4LQmuBLobcOg",
        "outputId": "c8078535-6f02-4436-a36c-98ad6ac08416"
      },
      "execution_count": 3,
      "outputs": [
        {
          "output_type": "stream",
          "name": "stdout",
          "text": [
            "2\n"
          ]
        }
      ]
    },
    {
      "cell_type": "markdown",
      "source": [
        "7,3,5,2 중 가장 큰 값을 반환하라."
      ],
      "metadata": {
        "id": "0sS4m7WGbg0X"
      }
    },
    {
      "cell_type": "code",
      "source": [
        "result = max(7,3,5,2)\n",
        "print(result)"
      ],
      "metadata": {
        "colab": {
          "base_uri": "https://localhost:8080/"
        },
        "id": "r3kFqAyRbkYF",
        "outputId": "34ed0a1d-699b-421a-d802-d1fdb2288bcd"
      },
      "execution_count": 4,
      "outputs": [
        {
          "output_type": "stream",
          "name": "stdout",
          "text": [
            "7\n"
          ]
        }
      ]
    },
    {
      "cell_type": "markdown",
      "source": [
        "문자형 수식 \\\\\n",
        "\"(3+5)*7\" \\\\\n",
        "을 계산하라."
      ],
      "metadata": {
        "id": "ojSXB_wqbraR"
      }
    },
    {
      "cell_type": "code",
      "source": [
        "result = eval(\"(3+5)*7\")\n",
        "print(result)"
      ],
      "metadata": {
        "colab": {
          "base_uri": "https://localhost:8080/"
        },
        "id": "dJcVp2tpb0Cr",
        "outputId": "d417e8d0-09e9-4c8b-8b01-793ec2b6a466"
      },
      "execution_count": 7,
      "outputs": [
        {
          "output_type": "stream",
          "name": "stdout",
          "text": [
            "56\n"
          ]
        }
      ]
    },
    {
      "cell_type": "markdown",
      "source": [
        "[9,1,8,5,4]에 대해서\n",
        "- 오름차순 정렬하라\n",
        "- 내림차순 정렬하라"
      ],
      "metadata": {
        "id": "YGPCnVxNb_Tp"
      }
    },
    {
      "cell_type": "code",
      "source": [
        "data = [9,1,8,5,4]\n",
        "print(sorted(data))\n",
        "print(sorted(data,reverse = True))"
      ],
      "metadata": {
        "colab": {
          "base_uri": "https://localhost:8080/"
        },
        "id": "m8N6isi1b25i",
        "outputId": "e4be31d6-447b-4d37-992e-b0e71ebbff76"
      },
      "execution_count": 11,
      "outputs": [
        {
          "output_type": "stream",
          "name": "stdout",
          "text": [
            "[1, 4, 5, 8, 9]\n",
            "[9, 8, 5, 4, 1]\n"
          ]
        }
      ]
    },
    {
      "cell_type": "markdown",
      "source": [
        "[('홍길동',35),('이순신',75),('아무개',50)] \\\\\n",
        "에 대해서 숫자를 기준으로 내림차순으로 정렬하라."
      ],
      "metadata": {
        "id": "ElezmaUHccvr"
      }
    },
    {
      "cell_type": "code",
      "source": [
        "data = [('홍길동',35),('이순신',75),('아무개',50)]\n",
        "print(sorted(data, key = lambda x : x[1], reverse = True))"
      ],
      "metadata": {
        "colab": {
          "base_uri": "https://localhost:8080/"
        },
        "id": "DgWu4FrmdHpz",
        "outputId": "ac74ccaa-b3ff-466a-8723-9e083efdafc5"
      },
      "execution_count": 15,
      "outputs": [
        {
          "output_type": "stream",
          "name": "stdout",
          "text": [
            "[('이순신', 75), ('아무개', 50), ('홍길동', 35)]\n"
          ]
        }
      ]
    },
    {
      "cell_type": "markdown",
      "source": [
        "**리스트 안에 튜플이나 리스트로 구성된 데이터에 대해서는, key를 사용하여 특정 속성을 정렬 기준으로 정렬할 수 있다**\n",
        "\n",
        "- key는 람다함수로 하나씩 빼서 정의한다.\n",
        "- key = lambda x : x[1]"
      ],
      "metadata": {
        "id": "afQRfgUsc9fy"
      }
    },
    {
      "cell_type": "markdown",
      "source": [
        "[9,1,8,5,4]에 대해서 \\\\\n",
        "리스트 안의 내장함수로 오름차순 정렬하라."
      ],
      "metadata": {
        "id": "Qkh9OOOJdl19"
      }
    },
    {
      "cell_type": "code",
      "source": [
        "data = [9,1,8,5,4]\n",
        "data.sort()\n",
        "print(data)"
      ],
      "metadata": {
        "colab": {
          "base_uri": "https://localhost:8080/"
        },
        "id": "bo10XcJDdrSK",
        "outputId": "63bde0fa-2156-4abe-e770-d206a4470887"
      },
      "execution_count": 19,
      "outputs": [
        {
          "output_type": "stream",
          "name": "stdout",
          "text": [
            "[1, 4, 5, 8, 9]\n"
          ]
        }
      ]
    },
    {
      "cell_type": "markdown",
      "source": [
        "# itertools\n",
        "\n",
        "- 반복되는 데이터를 처리하는 기능\n",
        "- permutations, combinations를 주로 사용(순열, 조합)\n",
        "- product : 중복 고려 수열(repeat = 뽑을 갯수)\n",
        "- combinations_with_replacement : 중복 고려 조합"
      ],
      "metadata": {
        "id": "dQWj-eBveJOK"
      }
    },
    {
      "cell_type": "markdown",
      "source": [
        "A, B, C에서 3개를 뽑아 순서를 고려하여 나열하는 모든 경우의 수\n",
        "\n"
      ],
      "metadata": {
        "id": "YSszP1zPefhi"
      }
    },
    {
      "cell_type": "code",
      "source": [
        "from itertools import permutations\n",
        "\n",
        "data = [\"A\",\"B\", \"C\"]\n",
        "\n",
        "print(list(permutations(data,3)))"
      ],
      "metadata": {
        "colab": {
          "base_uri": "https://localhost:8080/"
        },
        "id": "IJryCWFueUrN",
        "outputId": "00fe7aa2-4cb2-4b44-fb3a-ffbe964b1536"
      },
      "execution_count": 24,
      "outputs": [
        {
          "output_type": "stream",
          "name": "stdout",
          "text": [
            "[('A', 'B', 'C'), ('A', 'C', 'B'), ('B', 'A', 'C'), ('B', 'C', 'A'), ('C', 'A', 'B'), ('C', 'B', 'A')]\n"
          ]
        }
      ]
    },
    {
      "cell_type": "markdown",
      "source": [
        "A, B, C에서 2개를 뽑아 순서를 고려하지 않고 나열하는 모든 경우의 수"
      ],
      "metadata": {
        "id": "Mbl7S68Ge65e"
      }
    },
    {
      "cell_type": "code",
      "source": [
        "from itertools import combinations\n",
        "\n",
        "data = [\"A\", \"B\", \"C\"]\n",
        "\n",
        "print(list(combinations(data,2)))"
      ],
      "metadata": {
        "colab": {
          "base_uri": "https://localhost:8080/"
        },
        "id": "QaxqTgRsfAYI",
        "outputId": "4534e7f1-5eab-4c14-d60a-a69da6ccb54c"
      },
      "execution_count": 25,
      "outputs": [
        {
          "output_type": "stream",
          "name": "stdout",
          "text": [
            "[('A', 'B'), ('A', 'C'), ('B', 'C')]\n"
          ]
        }
      ]
    },
    {
      "cell_type": "markdown",
      "source": [
        "A, B, C에서 순서를 고려하여 원소를 중복하여 2개를 뽑아서 나열하는 모든 경우의 수"
      ],
      "metadata": {
        "id": "uEpiIOKtfXIL"
      }
    },
    {
      "cell_type": "code",
      "source": [
        "from itertools import product\n",
        "\n",
        "data = [\"A\",\"B\", \"C\"]\n",
        "\n",
        "print(list(product(data,repeat = 2)))"
      ],
      "metadata": {
        "colab": {
          "base_uri": "https://localhost:8080/"
        },
        "id": "3ZcicK3zfbGz",
        "outputId": "c3f33055-bd36-4f5f-b1a0-5eeb7d1ca2cf"
      },
      "execution_count": 28,
      "outputs": [
        {
          "output_type": "stream",
          "name": "stdout",
          "text": [
            "[('A', 'A'), ('A', 'B'), ('A', 'C'), ('B', 'A'), ('B', 'B'), ('B', 'C'), ('C', 'A'), ('C', 'B'), ('C', 'C')]\n"
          ]
        }
      ]
    },
    {
      "cell_type": "markdown",
      "source": [
        "A, B, C에서 순서를 고려하지 않고 원소를 중복하여 2개를 뽑아서 나열하는 모든 경우의 수"
      ],
      "metadata": {
        "id": "s-tTDD2mgMV-"
      }
    },
    {
      "cell_type": "code",
      "source": [
        "from itertools import combinations_with_replacement\n",
        "\n",
        "data = [\"A\",\"B\",\"C\"]\n",
        "\n",
        "print(list(combinations_with_replacement(data,2)))"
      ],
      "metadata": {
        "colab": {
          "base_uri": "https://localhost:8080/"
        },
        "id": "UHEPPhehgPdP",
        "outputId": "055f4310-a364-4bbd-c508-a8db79f8e83a"
      },
      "execution_count": 30,
      "outputs": [
        {
          "output_type": "stream",
          "name": "stdout",
          "text": [
            "[('A', 'A'), ('A', 'B'), ('A', 'C'), ('B', 'B'), ('B', 'C'), ('C', 'C')]\n"
          ]
        }
      ]
    },
    {
      "cell_type": "markdown",
      "source": [
        "# heapq\n",
        "\n",
        "- 우선순위 큐 기능 구현\n",
        "- 삽입 : heapq.heappush()\n",
        "- 꺼냄 : heapq.heappop()\n",
        "- 힙에 들어가면 숫자들의 순서는 무의미하게 되며, 오름차순으로 정렬된다."
      ],
      "metadata": {
        "id": "jGtvnKg4gi5s"
      }
    },
    {
      "cell_type": "markdown",
      "source": [
        "힙정렬을 구현하고 \\\\\n",
        "힙 정렬을 통해 [1,3,5,7,9,2,4,6,8,0]을 오름차순 정렬하라."
      ],
      "metadata": {
        "id": "-MxeN4nihaD0"
      }
    },
    {
      "cell_type": "code",
      "source": [
        "import heapq"
      ],
      "metadata": {
        "id": "FnpaRTTShzWF"
      },
      "execution_count": 31,
      "outputs": []
    },
    {
      "cell_type": "code",
      "source": [
        "def heapsort(iterable) :\n",
        "    h = [] # 힙\n",
        "    result = [] # 우리의 결과\n",
        "    for value in iterable :\n",
        "        heapq.heappush(h,value) # 힙에 값 넣기\n",
        "\n",
        "    for _ in range(len(h)) :\n",
        "        result.append(heapq.heappop(h)) # 힙에서 값 빼기\n",
        "    return result"
      ],
      "metadata": {
        "id": "QwtV5kjyh1_L"
      },
      "execution_count": 40,
      "outputs": []
    },
    {
      "cell_type": "code",
      "source": [
        "result = heapsort([1,3,5,7,9,2,4,6,8,0])\n",
        "print(result)"
      ],
      "metadata": {
        "colab": {
          "base_uri": "https://localhost:8080/"
        },
        "id": "SO3P04YQi2nD",
        "outputId": "96d158d8-e434-4ad5-92f2-fa2fd8c811ef"
      },
      "execution_count": 41,
      "outputs": [
        {
          "output_type": "stream",
          "name": "stdout",
          "text": [
            "[0, 1, 2, 3, 4, 5, 6, 7, 8, 9]\n"
          ]
        }
      ]
    },
    {
      "cell_type": "markdown",
      "source": [
        "힙 정렬을 통해 [1,3,5,7,9,2,4,6,8,0]을 내림차순 정렬하라."
      ],
      "metadata": {
        "id": "nGXRtVkpje50"
      }
    },
    {
      "cell_type": "code",
      "source": [
        "def heapsort(iterable) :\n",
        "    h = []\n",
        "    result = []\n",
        "    for value in iterable :\n",
        "        heapq.heappush(h, -value) # -를 사용하여 힙에 넣어주고\n",
        "    for _ in range(len(h)) :\n",
        "        result.append(-heapq.heappop(h)) # 값이 나올 때 -를 사용하여 다시 힙에 붙여준다. 그러면 내림차순 정렬이 된다.\n",
        "    return result"
      ],
      "metadata": {
        "id": "N4pPBi9xjiFM"
      },
      "execution_count": 42,
      "outputs": []
    },
    {
      "cell_type": "code",
      "source": [
        "result = heapsort([1,3,5,7,9,2,4,6,8,0])\n",
        "print(result)"
      ],
      "metadata": {
        "colab": {
          "base_uri": "https://localhost:8080/"
        },
        "id": "vFkUSA7Cj__O",
        "outputId": "33d8a5db-c624-46d9-e6e1-71bfd4743442"
      },
      "execution_count": 43,
      "outputs": [
        {
          "output_type": "stream",
          "name": "stdout",
          "text": [
            "[9, 8, 7, 6, 5, 4, 3, 2, 1, 0]\n"
          ]
        }
      ]
    },
    {
      "cell_type": "markdown",
      "source": [
        "# bisect\n",
        "- 이진탐색 구현 라이브러리\n",
        "- 정렬된 배열에서 특정한 원소를 찾아야 할 때 매우 효과적\n",
        "- bisect_left(a , x) : **정렬된 순서를 유지**하면서 *리스트 a*에 *데이터 x*를 삽입할 가장 왼쪽 인덱스를 찾는 메서드\n",
        "- bisect_right(a, x) : **정렬된 순서를 유지**도록 *리스트 a*에 *데이터 x*를 삽입할 가장 오른쪽 인덱스를 찾는 메서드. "
      ],
      "metadata": {
        "id": "VARofr5qkTjS"
      }
    },
    {
      "cell_type": "markdown",
      "source": [
        "리스트 [1,2,4,4,8]에 새로운 숫자 4가 들어간다고 하자. \\\\\n",
        "이 때, 4는 어디에 들어가야 리스트가 정렬된 순서를 유지하는가? \\\\\n",
        "오른쪽과 왼쪽에서 접근했을 때, 모두 확인해보라.\n"
      ],
      "metadata": {
        "id": "ueK6BPnhlhXm"
      }
    },
    {
      "cell_type": "code",
      "source": [
        "from bisect import bisect_left, bisect_right"
      ],
      "metadata": {
        "id": "S-waL9WUlgLg"
      },
      "execution_count": 44,
      "outputs": []
    },
    {
      "cell_type": "code",
      "source": [
        "a = [1,2,4,4,8]\n",
        "x = 4\n",
        "\n",
        "print(bisect_left(a, x))\n",
        "print(bisect_right(a, x))"
      ],
      "metadata": {
        "colab": {
          "base_uri": "https://localhost:8080/"
        },
        "id": "piFua1Wpl_YM",
        "outputId": "a3eb71cf-ffe4-4fb1-c2fe-917ef6673ba0"
      },
      "execution_count": 47,
      "outputs": [
        {
          "output_type": "stream",
          "name": "stdout",
          "text": [
            "2\n",
            "4\n"
          ]
        }
      ]
    },
    {
      "cell_type": "markdown",
      "source": [
        "리스트 [1,2,3,3,3,3,4,4,8,9] 에서 \\\\\n",
        "1. 값이 4인 데이터의 갯수를 출력하고\n",
        "2. 값이 -1,3 범위에 있는 데이터의 갯수를 출력하라\n",
        "<br>\n",
        "단, 이를 함수로 구현하라."
      ],
      "metadata": {
        "id": "oiguLTtRmSTx"
      }
    },
    {
      "cell_type": "code",
      "source": [
        "def count_range(value_list,start_value,end_value) :\n",
        "    count=bisect_right(value_list,end_value)-bisect_left(value_list,start_value)\n",
        "    return count\n",
        "\n",
        "a = [1,2,3,3,3,3,4,4,8,9]\n",
        "\n",
        "print(count_range(a,4,4))\n",
        "print(count_range(a,-1,3))"
      ],
      "metadata": {
        "colab": {
          "base_uri": "https://localhost:8080/"
        },
        "id": "0695BS2qmuAr",
        "outputId": "4326920e-64f5-489e-8cf6-385801e615d8"
      },
      "execution_count": 50,
      "outputs": [
        {
          "output_type": "stream",
          "name": "stdout",
          "text": [
            "2\n",
            "6\n"
          ]
        }
      ]
    },
    {
      "cell_type": "code",
      "source": [
        "def count_range(value_list,start_value,end_value) :\n",
        "    left_value = bisect_left(value_list,start_value)\n",
        "    right_value = bisect_right(value_list,end_value)\n",
        "    return right_value- left_value\n",
        "\n",
        "a = [1,2,3,3,3,3,4,4,8,9]\n",
        "\n",
        "print(count_range(a,4,4))\n",
        "print(count_range(a,-1,3))"
      ],
      "metadata": {
        "colab": {
          "base_uri": "https://localhost:8080/"
        },
        "id": "xnB4gAF-ngGP",
        "outputId": "9d3947e0-088b-4c99-f646-490fd9d451e9"
      },
      "execution_count": 51,
      "outputs": [
        {
          "output_type": "stream",
          "name": "stdout",
          "text": [
            "2\n",
            "6\n"
          ]
        }
      ]
    },
    {
      "cell_type": "markdown",
      "source": [
        "# collections\n",
        "\n",
        "- 유용한 자료구조를 제공하는 라이브러리\n",
        "- deque : 큐를 구현, 리스트에서는 가장 앞쪽에 원소를 삭제하거나 삽입할 수 없기에, deque로 이를 구현하고 다시 리스트 형태로 전환시킴\n",
        "  - 인덱싱, 슬라이싱 사용불가\n",
        "  - 연속적으로 나열된 데이터의 시작 부분이나 끝 부분에 데이터를 삽입하거나 삭제할 때는 매우 효과적으로 사용됨.\n",
        "  - popleft() : 가장 왼쪽 원소 제거, 첫번째 원소 제거\n",
        "  - pop() : 가장 마지막 원소를 제거\n",
        "  - appendleft(x) : 첫번째 인덱스에 원소 x 삽입\n",
        "  - append(x) : 마지막 인덱스에 원소를 삽입\n",
        "- counter : 등장 횟수를 세는 기능을 제공\n",
        "  - iterable 객체 등장시 몇 번씩 등장했는지를 알려줌.\n",
        "  - 원소별 등장 횟수를 세는 기능이 필요할 때, 짧은 소스코드로 구현 가능"
      ],
      "metadata": {
        "id": "k_s3-fGEn4gy"
      }
    },
    {
      "cell_type": "markdown",
      "source": [
        "리스트 [2,3,4]에 대해서\n",
        "1. 가장 앞쪽에 1을 삽입하라\n",
        "2. 가장 뒤에 5를 삽입하라\n",
        "3. 가장 앞쪽 원소를 제거하라\n",
        "4. 가장 뒤에 원소를 제거하라\n",
        "<br>\n",
        "각 절차마다 print() 할 것(이 때, list 형태의 output이 필요하다.)"
      ],
      "metadata": {
        "id": "ofIu1zGqpDLl"
      }
    },
    {
      "cell_type": "code",
      "source": [
        "from collections import deque"
      ],
      "metadata": {
        "id": "SU-qZIk_pZWf"
      },
      "execution_count": 53,
      "outputs": []
    },
    {
      "cell_type": "code",
      "source": [
        "a = [2,3,4]\n",
        "a=deque(a)\n",
        "\n",
        "#1\n",
        "a.appendleft(1)\n",
        "print(list(a))\n",
        "\n",
        "#2\n",
        "a.append(5)\n",
        "print(list(a))\n",
        "\n",
        "#3\n",
        "a.popleft()\n",
        "print(list(a))\n",
        "\n",
        "#4\n",
        "a.pop()\n",
        "print(list(a))"
      ],
      "metadata": {
        "colab": {
          "base_uri": "https://localhost:8080/"
        },
        "id": "X42srjOfpWul",
        "outputId": "44689bba-9966-4f3d-eb36-2459733c0e37"
      },
      "execution_count": 63,
      "outputs": [
        {
          "output_type": "stream",
          "name": "stdout",
          "text": [
            "[1, 2, 3, 4]\n",
            "[1, 2, 3, 4, 5]\n",
            "[2, 3, 4, 5]\n",
            "[2, 3, 4]\n"
          ]
        }
      ]
    },
    {
      "cell_type": "markdown",
      "source": [
        "리스트 ['red','blue','red','green', 'blue', 'blue'] 에 대해서, \\\\\n",
        "1. blue는 몇번 등장했는가?\n",
        "2. greeen은 몇번 등장했는가?\n",
        "3. 각각의 등장 횟수를 사전의 형태로 만들어라"
      ],
      "metadata": {
        "id": "TrzJ0jUQqmNc"
      }
    },
    {
      "cell_type": "code",
      "source": [
        "from collections import Counter"
      ],
      "metadata": {
        "id": "T0wfwZUtqlUF"
      },
      "execution_count": 64,
      "outputs": []
    },
    {
      "cell_type": "code",
      "source": [
        "a = ['red','blue','red','green','blue','blue']\n",
        "\n",
        "a = Counter(a)\n",
        "\n",
        "print(a['blue'])\n",
        "print(a['green'])\n",
        "print(dict(a))"
      ],
      "metadata": {
        "colab": {
          "base_uri": "https://localhost:8080/"
        },
        "id": "oePT0t9qrA2u",
        "outputId": "413e1c08-54e7-4e15-a51d-ec13ba55ef32"
      },
      "execution_count": 69,
      "outputs": [
        {
          "output_type": "stream",
          "name": "stdout",
          "text": [
            "{'red': 2, 'blue': 3, 'green': 1}\n"
          ]
        }
      ]
    },
    {
      "cell_type": "markdown",
      "source": [
        "# math\n",
        "\n",
        "- 수학 계산을 요구하는 문제를 만났을 때 효과적으로 사용가능"
      ],
      "metadata": {
        "id": "aCGO5fvZrQ-V"
      }
    },
    {
      "cell_type": "markdown",
      "source": [
        "5!을 출력하라"
      ],
      "metadata": {
        "id": "xr3eubHkrapd"
      }
    },
    {
      "cell_type": "code",
      "source": [
        "import math\n",
        "print(math.factorial(5))"
      ],
      "metadata": {
        "colab": {
          "base_uri": "https://localhost:8080/"
        },
        "id": "jdA_V5uiraCp",
        "outputId": "f5da0225-6001-4b0f-c7be-7d73223418bd"
      },
      "execution_count": 72,
      "outputs": [
        {
          "output_type": "stream",
          "name": "stdout",
          "text": [
            "120\n"
          ]
        }
      ]
    },
    {
      "cell_type": "markdown",
      "source": [
        "7의 제곱근을 출력하라"
      ],
      "metadata": {
        "id": "UVk3ZCB9roXr"
      }
    },
    {
      "cell_type": "code",
      "source": [
        "import math\n",
        "print(math.sqrt(7))"
      ],
      "metadata": {
        "colab": {
          "base_uri": "https://localhost:8080/"
        },
        "id": "yfyUYFvxrqbZ",
        "outputId": "060a37ac-4e07-4bf0-ce42-8f8a28e8156e"
      },
      "execution_count": 73,
      "outputs": [
        {
          "output_type": "stream",
          "name": "stdout",
          "text": [
            "2.6457513110645907\n"
          ]
        }
      ]
    },
    {
      "cell_type": "markdown",
      "source": [
        "21과 14의 최대공약수는?"
      ],
      "metadata": {
        "id": "BnZeAoCJrubM"
      }
    },
    {
      "cell_type": "code",
      "source": [
        "import math\n",
        "print(math.gcd(21,14))"
      ],
      "metadata": {
        "colab": {
          "base_uri": "https://localhost:8080/"
        },
        "id": "pchc1iVIr_eD",
        "outputId": "6962a142-173e-41dc-9893-3a6a059f9ed5"
      },
      "execution_count": 75,
      "outputs": [
        {
          "output_type": "stream",
          "name": "stdout",
          "text": [
            "7\n"
          ]
        }
      ]
    },
    {
      "cell_type": "markdown",
      "source": [
        "pi와 자연상수 e를 출력하라"
      ],
      "metadata": {
        "id": "YMqdZpb-sJCP"
      }
    },
    {
      "cell_type": "code",
      "source": [
        "import math\n",
        "print(math.pi)\n",
        "print(math.e)"
      ],
      "metadata": {
        "colab": {
          "base_uri": "https://localhost:8080/"
        },
        "id": "1s0qIJn_sL00",
        "outputId": "d22b479e-1efa-403b-f0d8-8fc18e870f4e"
      },
      "execution_count": 76,
      "outputs": [
        {
          "output_type": "stream",
          "name": "stdout",
          "text": [
            "3.141592653589793\n",
            "2.718281828459045\n"
          ]
        }
      ]
    }
  ]
}