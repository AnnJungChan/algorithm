{
  "nbformat": 4,
  "nbformat_minor": 0,
  "metadata": {
    "colab": {
      "name": "python_repeat.ipynb",
      "provenance": [],
      "authorship_tag": "ABX9TyPSDEsOJ1/HyiimooNY4GUO",
      "include_colab_link": true
    },
    "kernelspec": {
      "name": "python3",
      "display_name": "Python 3"
    },
    "language_info": {
      "name": "python"
    }
  },
  "cells": [
    {
      "cell_type": "markdown",
      "metadata": {
        "id": "view-in-github",
        "colab_type": "text"
      },
      "source": [
        "<a href=\"https://colab.research.google.com/github/AnnJungChan/algorithm/blob/main/Python_basic/python_repeat.ipynb\" target=\"_parent\"><img src=\"https://colab.research.google.com/assets/colab-badge.svg\" alt=\"Open In Colab\"/></a>"
      ]
    },
    {
      "cell_type": "markdown",
      "source": [
        "# 반복문"
      ],
      "metadata": {
        "id": "9X5HwHAEm9_1"
      }
    },
    {
      "cell_type": "markdown",
      "source": [
        "# while 문\n",
        "\n",
        "- 조건문이 참일 때 한해서, 반복적으로 코드가 수행됨\n",
        "- while과 i, result로 구성\n",
        "- i, result는 초기값을 지정하고 반복문을 구현\n",
        "- if아 같이 올 때는 result 앞에 if가 옴"
      ],
      "metadata": {
        "id": "bUL9Wz4ZnCtU"
      }
    },
    {
      "cell_type": "markdown",
      "source": [
        "1부터 9까지 각 정수의 합을 계산하라"
      ],
      "metadata": {
        "id": "Y82GD_9tnVWk"
      }
    },
    {
      "cell_type": "code",
      "execution_count": 4,
      "metadata": {
        "colab": {
          "base_uri": "https://localhost:8080/"
        },
        "id": "EGonJ_dwmsw5",
        "outputId": "be7b7df6-0bac-427b-f08f-e7c13be5965a"
      },
      "outputs": [
        {
          "output_type": "stream",
          "name": "stdout",
          "text": [
            "45\n"
          ]
        }
      ],
      "source": [
        "i = 1\n",
        "result = 0\n",
        "\n",
        "while i <= 9 :\n",
        "    result += i\n",
        "    i += 1\n",
        "\n",
        "print(result)"
      ]
    },
    {
      "cell_type": "markdown",
      "source": [
        "1부터 9까지의 수 중에서 홀수만 더하라"
      ],
      "metadata": {
        "id": "ISAjjRW8oX_c"
      }
    },
    {
      "cell_type": "code",
      "source": [
        "i = 1\n",
        "result = 0\n",
        "\n",
        "while i<=9 :\n",
        "    if i % 2 == 1 :\n",
        "        result += i\n",
        "    i += 1 \n",
        "\n",
        "print(result)"
      ],
      "metadata": {
        "colab": {
          "base_uri": "https://localhost:8080/"
        },
        "id": "D67bv2g5obkj",
        "outputId": "6a368200-9ba7-45f7-a4c0-96ed60a1556c"
      },
      "execution_count": 8,
      "outputs": [
        {
          "output_type": "stream",
          "name": "stdout",
          "text": [
            "25\n"
          ]
        }
      ]
    },
    {
      "cell_type": "markdown",
      "source": [
        "# for 문\n",
        "\n",
        "- for 변수 in 리스트 : 실행할 소스코드\n",
        "- range(시작값, 끝값 +1)\n",
        "- range에 하나의 값만 넣으면 자동으로 시작값은 0이 됨\n",
        " - 주로 리스트나 튜플 데이터의 모든 원소를 첫번째 인덱스부터 방문해야 할 때 이 방법을 사용\n",
        " - 리스트나 튜플을 0부터 시작\n",
        "- 얼마든지 중복해서 사용가능함\n",
        "\n",
        "\n",
        "# continue\n",
        "\n",
        "- 반복문 안에서 continue를 만나면, 프로그램의 흐름은 \"*반복문의 처음*\" 으로 돌아간다.\n",
        "- 블랙리스트 문제에서 사용할 수 있다. (이 때, 블랙리스트는 집합형으로 만들어서 중복을 제거시키는 것이 좋음)"
      ],
      "metadata": {
        "id": "YbyA6SV1pBVE"
      }
    },
    {
      "cell_type": "markdown",
      "source": [
        "1부터 9까지 모든 값을 더하라"
      ],
      "metadata": {
        "id": "ke7xgw_JpOmQ"
      }
    },
    {
      "cell_type": "code",
      "source": [
        "result = 0\n",
        "for i in range(1,10) :\n",
        "    result += i\n",
        "    i += 1\n",
        "print(result)"
      ],
      "metadata": {
        "colab": {
          "base_uri": "https://localhost:8080/"
        },
        "id": "ak4OeKM8pUAd",
        "outputId": "0980fb87-10e1-40c8-c334-73beadc48788"
      },
      "execution_count": 11,
      "outputs": [
        {
          "output_type": "stream",
          "name": "stdout",
          "text": [
            "45\n"
          ]
        }
      ]
    },
    {
      "cell_type": "markdown",
      "source": [
        "score = [90,85,77,65,97] \\\\\n",
        "80점 이상이면 합격이다. \\\\\n",
        "학생의 합격여부를 학생의 번호로 출력하라 \\\\\n",
        "(번호는 앞에서부터 1번이다)"
      ],
      "metadata": {
        "id": "XTByVZt9p6ND"
      }
    },
    {
      "cell_type": "code",
      "source": [
        "score = [90,85,77,65,97]\n",
        "\n",
        "for i in range(5) :\n",
        "    if score[i] >= 80 :\n",
        "        print(i + 1 ,\"번 학생은 합격입니다.\")"
      ],
      "metadata": {
        "colab": {
          "base_uri": "https://localhost:8080/"
        },
        "id": "6bt6W3wcqMXN",
        "outputId": "7cd3dc9f-fe75-4ad8-dcf7-50468ba56d2f"
      },
      "execution_count": 12,
      "outputs": [
        {
          "output_type": "stream",
          "name": "stdout",
          "text": [
            "1 번 학생은 합격입니다.\n",
            "2 번 학생은 합격입니다.\n",
            "5 번 학생은 합격입니다.\n"
          ]
        }
      ]
    },
    {
      "cell_type": "markdown",
      "source": [
        "score = [90,85,77,65,97] \\\\\n",
        "컨닝을 한 학생 : 2번, 4번 \\\\\n",
        "80점 이상이면 합격이다. \\\\\n",
        "컨닝한 사람을 제외하고 합격한 학생의 번호를 출력하라."
      ],
      "metadata": {
        "id": "5fT4Law7q68k"
      }
    },
    {
      "cell_type": "code",
      "source": [
        "score = [90,85,77,65,97]\n",
        "cheating_list = {2,4}\n",
        "\n",
        "for i in range(5) :\n",
        "  if i+1 in cheating_list :\n",
        "    continue\n",
        "  if score[i] >= 80 :\n",
        "    print(i+1,\"번 학생은 합격입니다.\")"
      ],
      "metadata": {
        "colab": {
          "base_uri": "https://localhost:8080/"
        },
        "id": "JXlg1psSrI3s",
        "outputId": "b2cbaf32-21df-4121-80af-f1af48a375c7"
      },
      "execution_count": 13,
      "outputs": [
        {
          "output_type": "stream",
          "name": "stdout",
          "text": [
            "1 번 학생은 합격입니다.\n",
            "5 번 학생은 합격입니다.\n"
          ]
        }
      ]
    },
    {
      "cell_type": "markdown",
      "source": [
        "구구단 2단부터 9단까지의 모든 결과를 출력하라."
      ],
      "metadata": {
        "id": "E06cebkwsWpc"
      }
    },
    {
      "cell_type": "code",
      "source": [
        "for i in range(2,10) :\n",
        "    for j in range(2,10) :\n",
        "        print(i, \"X\" , j ,\"=\", i * j)\n",
        "    print() # 단마다 각각 띄워서 출력 가능함"
      ],
      "metadata": {
        "colab": {
          "base_uri": "https://localhost:8080/"
        },
        "id": "cD4WGokRr-Lk",
        "outputId": "7c651926-9b30-48c9-c187-9b34a3f26e13"
      },
      "execution_count": 18,
      "outputs": [
        {
          "output_type": "stream",
          "name": "stdout",
          "text": [
            "2 X 2 = 4\n",
            "2 X 3 = 6\n",
            "2 X 4 = 8\n",
            "2 X 5 = 10\n",
            "2 X 6 = 12\n",
            "2 X 7 = 14\n",
            "2 X 8 = 16\n",
            "2 X 9 = 18\n",
            "\n",
            "3 X 2 = 6\n",
            "3 X 3 = 9\n",
            "3 X 4 = 12\n",
            "3 X 5 = 15\n",
            "3 X 6 = 18\n",
            "3 X 7 = 21\n",
            "3 X 8 = 24\n",
            "3 X 9 = 27\n",
            "\n",
            "4 X 2 = 8\n",
            "4 X 3 = 12\n",
            "4 X 4 = 16\n",
            "4 X 5 = 20\n",
            "4 X 6 = 24\n",
            "4 X 7 = 28\n",
            "4 X 8 = 32\n",
            "4 X 9 = 36\n",
            "\n",
            "5 X 2 = 10\n",
            "5 X 3 = 15\n",
            "5 X 4 = 20\n",
            "5 X 5 = 25\n",
            "5 X 6 = 30\n",
            "5 X 7 = 35\n",
            "5 X 8 = 40\n",
            "5 X 9 = 45\n",
            "\n",
            "6 X 2 = 12\n",
            "6 X 3 = 18\n",
            "6 X 4 = 24\n",
            "6 X 5 = 30\n",
            "6 X 6 = 36\n",
            "6 X 7 = 42\n",
            "6 X 8 = 48\n",
            "6 X 9 = 54\n",
            "\n",
            "7 X 2 = 14\n",
            "7 X 3 = 21\n",
            "7 X 4 = 28\n",
            "7 X 5 = 35\n",
            "7 X 6 = 42\n",
            "7 X 7 = 49\n",
            "7 X 8 = 56\n",
            "7 X 9 = 63\n",
            "\n",
            "8 X 2 = 16\n",
            "8 X 3 = 24\n",
            "8 X 4 = 32\n",
            "8 X 5 = 40\n",
            "8 X 6 = 48\n",
            "8 X 7 = 56\n",
            "8 X 8 = 64\n",
            "8 X 9 = 72\n",
            "\n",
            "9 X 2 = 18\n",
            "9 X 3 = 27\n",
            "9 X 4 = 36\n",
            "9 X 5 = 45\n",
            "9 X 6 = 54\n",
            "9 X 7 = 63\n",
            "9 X 8 = 72\n",
            "9 X 9 = 81\n",
            "\n"
          ]
        }
      ]
    }
  ]
}