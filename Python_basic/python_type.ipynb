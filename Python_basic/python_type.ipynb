{
  "nbformat": 4,
  "nbformat_minor": 0,
  "metadata": {
    "colab": {
      "name": "python_type.ipynb",
      "provenance": [],
      "authorship_tag": "ABX9TyMHjjhvxqaEyMFFAA1svwbJ",
      "include_colab_link": true
    },
    "kernelspec": {
      "name": "python3",
      "display_name": "Python 3"
    },
    "language_info": {
      "name": "python"
    }
  },
  "cells": [
    {
      "cell_type": "markdown",
      "metadata": {
        "id": "view-in-github",
        "colab_type": "text"
      },
      "source": [
        "<a href=\"https://colab.research.google.com/github/AnnJungChan/algorithm/blob/main/Python_basic/python_type.ipynb\" target=\"_parent\"><img src=\"https://colab.research.google.com/assets/colab-badge.svg\" alt=\"Open In Colab\"/></a>"
      ]
    },
    {
      "cell_type": "markdown",
      "source": [
        "# 자료형"
      ],
      "metadata": {
        "id": "aHEszwyNHF4_"
      }
    },
    {
      "cell_type": "markdown",
      "source": [
        "# 수 자료형"
      ],
      "metadata": {
        "id": "AnSPzu8aHJr4"
      }
    },
    {
      "cell_type": "markdown",
      "source": [
        "1000 출력"
      ],
      "metadata": {
        "id": "VHMcNd6_dzJ1"
      }
    },
    {
      "cell_type": "code",
      "execution_count": 1,
      "metadata": {
        "colab": {
          "base_uri": "https://localhost:8080/"
        },
        "id": "26_qujGsHBy2",
        "outputId": "2da75f27-76db-42b9-ccc7-0e44f95b1607"
      },
      "outputs": [
        {
          "output_type": "stream",
          "name": "stdout",
          "text": [
            "1000\n"
          ]
        }
      ],
      "source": [
        "a = 1000\n",
        "print(a)"
      ]
    },
    {
      "cell_type": "markdown",
      "source": [
        "-7 출력"
      ],
      "metadata": {
        "id": "HkeZ43K4d0ja"
      }
    },
    {
      "cell_type": "code",
      "source": [
        "a = -7\n",
        "print(a)"
      ],
      "metadata": {
        "colab": {
          "base_uri": "https://localhost:8080/"
        },
        "id": "P7RcYKtfHQoX",
        "outputId": "93e9fab4-2e83-4322-8d7e-89d707894bb2"
      },
      "execution_count": 2,
      "outputs": [
        {
          "output_type": "stream",
          "name": "stdout",
          "text": [
            "-7\n"
          ]
        }
      ]
    },
    {
      "cell_type": "markdown",
      "source": [
        "0 출력"
      ],
      "metadata": {
        "id": "hEG0YwKnd17B"
      }
    },
    {
      "cell_type": "code",
      "source": [
        "a = 0\n",
        "print(a)"
      ],
      "metadata": {
        "colab": {
          "base_uri": "https://localhost:8080/"
        },
        "id": "rFi2H2LcHU2O",
        "outputId": "9a218add-a0e5-4bb6-e111-33ebf09b2697"
      },
      "execution_count": 3,
      "outputs": [
        {
          "output_type": "stream",
          "name": "stdout",
          "text": [
            "0\n"
          ]
        }
      ]
    },
    {
      "cell_type": "markdown",
      "source": [
        "# 실수형"
      ],
      "metadata": {
        "id": "ps5JJjtKHqJp"
      }
    },
    {
      "cell_type": "markdown",
      "source": [
        "157.93 출력"
      ],
      "metadata": {
        "id": "owxpIWLKd3Es"
      }
    },
    {
      "cell_type": "code",
      "source": [
        "a = 157.93\n",
        "print(a)"
      ],
      "metadata": {
        "colab": {
          "base_uri": "https://localhost:8080/"
        },
        "id": "qgo1JrCAHw8O",
        "outputId": "445abf98-9671-4361-ca7c-af8789eb9abf"
      },
      "execution_count": 4,
      "outputs": [
        {
          "output_type": "stream",
          "name": "stdout",
          "text": [
            "157.93\n"
          ]
        }
      ]
    },
    {
      "cell_type": "markdown",
      "source": [
        "-1837.2 출력"
      ],
      "metadata": {
        "id": "XYCZDoMKd6NV"
      }
    },
    {
      "cell_type": "code",
      "source": [
        "a = -1837.2\n",
        "print(a)"
      ],
      "metadata": {
        "colab": {
          "base_uri": "https://localhost:8080/"
        },
        "id": "Ne_Dbv1_H0L-",
        "outputId": "abda8df5-1f49-4aa5-899f-2ccc31995c26"
      },
      "execution_count": 5,
      "outputs": [
        {
          "output_type": "stream",
          "name": "stdout",
          "text": [
            "-1837.2\n"
          ]
        }
      ]
    },
    {
      "cell_type": "markdown",
      "source": [
        "5.0 출력(0 안쓰고)"
      ],
      "metadata": {
        "id": "-JaKi_H4d8gt"
      }
    },
    {
      "cell_type": "code",
      "source": [
        "a = 5.\n",
        "print(a)"
      ],
      "metadata": {
        "colab": {
          "base_uri": "https://localhost:8080/"
        },
        "id": "xe4mvbGHH3Af",
        "outputId": "071e5bf1-49f8-456e-ab6c-20b336475a10"
      },
      "execution_count": 6,
      "outputs": [
        {
          "output_type": "stream",
          "name": "stdout",
          "text": [
            "5.0\n"
          ]
        }
      ]
    },
    {
      "cell_type": "markdown",
      "source": [
        "-7 출력"
      ],
      "metadata": {
        "id": "kdd_P-DQd_pd"
      }
    },
    {
      "cell_type": "code",
      "source": [
        "a = -7\n",
        "print(a)"
      ],
      "metadata": {
        "colab": {
          "base_uri": "https://localhost:8080/"
        },
        "id": "th9B14A7H-cP",
        "outputId": "62a3c2e6-5cd0-487a-878e-78a8ef3363cc"
      },
      "execution_count": 7,
      "outputs": [
        {
          "output_type": "stream",
          "name": "stdout",
          "text": [
            "-7\n"
          ]
        }
      ]
    },
    {
      "cell_type": "markdown",
      "source": [
        "# e 표현\n",
        "- e(숫자)이면, 10의 (숫자) 승을 곱해준다는 이야기가 된다.\n",
        "- e(-숫자)이면, 1/10 (숫자) 승을 곱해준다는 이야기가 된다."
      ],
      "metadata": {
        "id": "NRFDVG1cISF3"
      }
    },
    {
      "cell_type": "markdown",
      "source": [
        "1000000000 출력(e표현 사용)"
      ],
      "metadata": {
        "id": "rF_d1imVeEBr"
      }
    },
    {
      "cell_type": "code",
      "source": [
        "a = 1e9\n",
        "print(a)"
      ],
      "metadata": {
        "colab": {
          "base_uri": "https://localhost:8080/"
        },
        "id": "zcbOgvSjIJWF",
        "outputId": "4a07dc5f-5616-4006-b1e9-9822c468e3d2"
      },
      "execution_count": 10,
      "outputs": [
        {
          "output_type": "stream",
          "name": "stdout",
          "text": [
            "1000000000.0\n"
          ]
        }
      ]
    },
    {
      "cell_type": "markdown",
      "source": [
        "752.5 출력(e표현 사용)"
      ],
      "metadata": {
        "id": "v15U20iCeKZV"
      }
    },
    {
      "cell_type": "code",
      "source": [
        "a = 75.25e1\n",
        "print(a)"
      ],
      "metadata": {
        "colab": {
          "base_uri": "https://localhost:8080/"
        },
        "id": "AvGRTcYTIMhu",
        "outputId": "9269696d-e24a-4ce9-8d80-f02e5b7b6d1d"
      },
      "execution_count": 12,
      "outputs": [
        {
          "output_type": "stream",
          "name": "stdout",
          "text": [
            "752.5\n"
          ]
        }
      ]
    },
    {
      "cell_type": "markdown",
      "source": [
        "3.594 출력(e표현 사용)"
      ],
      "metadata": {
        "id": "aRbG41J8eMDj"
      }
    },
    {
      "cell_type": "code",
      "source": [
        "a = 3954e-3\n",
        "print(a)"
      ],
      "metadata": {
        "colab": {
          "base_uri": "https://localhost:8080/"
        },
        "id": "mv3X6ChTIiJy",
        "outputId": "ed6f2c3e-4ec7-4d1e-a660-e08c87072da3"
      },
      "execution_count": 15,
      "outputs": [
        {
          "output_type": "stream",
          "name": "stdout",
          "text": [
            "3.954\n"
          ]
        }
      ]
    },
    {
      "cell_type": "markdown",
      "source": [
        "# 숫자표현\n",
        "\n",
        "- 컴퓨터는 실수정보 표현에 한계가 있다.\n",
        "- 이진수에서는 0.9를 명확하게 표현하지 못한다.\n",
        "- 이럴 때, 라운드 함수를 이용한다."
      ],
      "metadata": {
        "id": "c-lTC4RHI9Mv"
      }
    },
    {
      "cell_type": "markdown",
      "source": [
        "더하기가 안되는 문제를 해결하라"
      ],
      "metadata": {
        "id": "hicxhLVzeSLf"
      }
    },
    {
      "cell_type": "code",
      "source": [
        "a = 0.3+0.6\n",
        "print(a)"
      ],
      "metadata": {
        "colab": {
          "base_uri": "https://localhost:8080/"
        },
        "id": "SKZGJ9EZIvqW",
        "outputId": "a293415a-14bb-4ed6-e1bb-3c6c282f4109"
      },
      "execution_count": 17,
      "outputs": [
        {
          "output_type": "stream",
          "name": "stdout",
          "text": [
            "0.8999999999999999\n"
          ]
        }
      ]
    },
    {
      "cell_type": "markdown",
      "source": [
        "a는 0.9인가?"
      ],
      "metadata": {
        "id": "k3tc3rnNeUwd"
      }
    },
    {
      "cell_type": "code",
      "source": [
        "if a == 0.9 : \n",
        "  print(True)\n",
        "else :\n",
        "  print(False)"
      ],
      "metadata": {
        "colab": {
          "base_uri": "https://localhost:8080/"
        },
        "id": "MPLQlSsaI18G",
        "outputId": "2848d178-ef2c-4544-f63d-065165b4e55f"
      },
      "execution_count": 18,
      "outputs": [
        {
          "output_type": "stream",
          "name": "stdout",
          "text": [
            "False\n"
          ]
        }
      ]
    },
    {
      "cell_type": "markdown",
      "source": [
        "a를 0.9로 만들어라"
      ],
      "metadata": {
        "id": "fyF62r8meY_r"
      }
    },
    {
      "cell_type": "code",
      "source": [
        "a = 0.3 + 0.6\n",
        "print(round(a,4))"
      ],
      "metadata": {
        "colab": {
          "base_uri": "https://localhost:8080/"
        },
        "id": "ADoBx3aKJTWv",
        "outputId": "96d4ca67-2068-4823-b385-4cceebb33651"
      },
      "execution_count": 19,
      "outputs": [
        {
          "output_type": "stream",
          "name": "stdout",
          "text": [
            "0.9\n"
          ]
        }
      ]
    },
    {
      "cell_type": "markdown",
      "source": [
        "결과가 0.9로 출력되는가?"
      ],
      "metadata": {
        "id": "_wqX86Q8ebB8"
      }
    },
    {
      "cell_type": "code",
      "source": [
        "if round(a,4) == 0.9 :\n",
        "  print(True)\n",
        "else :\n",
        "  print(False)"
      ],
      "metadata": {
        "colab": {
          "base_uri": "https://localhost:8080/"
        },
        "id": "elhDDtMtJkJW",
        "outputId": "64bfbeaf-6d9a-4723-fd93-d0f60046a758"
      },
      "execution_count": 20,
      "outputs": [
        {
          "output_type": "stream",
          "name": "stdout",
          "text": [
            "True\n"
          ]
        }
      ]
    },
    {
      "cell_type": "markdown",
      "source": [
        "# 나누기, 나머지, 몫\n",
        "\n",
        "- 나누기 : /\n",
        "- 나머지 : %\n",
        "- 몫 : //"
      ],
      "metadata": {
        "id": "PYl7Z4zvJwJA"
      }
    },
    {
      "cell_type": "code",
      "source": [
        "a = 7\n",
        "b = 3"
      ],
      "metadata": {
        "id": "hOYf5gQ-J2p0"
      },
      "execution_count": 21,
      "outputs": []
    },
    {
      "cell_type": "markdown",
      "source": [
        "7 나누기 3"
      ],
      "metadata": {
        "id": "01WbKhoWeeun"
      }
    },
    {
      "cell_type": "code",
      "source": [
        "print(a/b)"
      ],
      "metadata": {
        "colab": {
          "base_uri": "https://localhost:8080/"
        },
        "id": "H9UTiHY2J5Gn",
        "outputId": "f72e48bd-e101-4b53-be8a-1fc79ec06e05"
      },
      "execution_count": 22,
      "outputs": [
        {
          "output_type": "stream",
          "name": "stdout",
          "text": [
            "2.3333333333333335\n"
          ]
        }
      ]
    },
    {
      "cell_type": "markdown",
      "source": [
        "7 나누기 3의 나머지"
      ],
      "metadata": {
        "id": "nw30qPOzeiOj"
      }
    },
    {
      "cell_type": "code",
      "source": [
        "print(a%b)"
      ],
      "metadata": {
        "colab": {
          "base_uri": "https://localhost:8080/"
        },
        "id": "nB9vFtDsJ7Nv",
        "outputId": "61b880f6-13f9-4a25-a7fc-5c787b2cbc95"
      },
      "execution_count": 23,
      "outputs": [
        {
          "output_type": "stream",
          "name": "stdout",
          "text": [
            "1\n"
          ]
        }
      ]
    },
    {
      "cell_type": "markdown",
      "source": [
        "7 나누기 3의 몫"
      ],
      "metadata": {
        "id": "kkP6WbKtekY3"
      }
    },
    {
      "cell_type": "code",
      "source": [
        "print(a//b)"
      ],
      "metadata": {
        "colab": {
          "base_uri": "https://localhost:8080/"
        },
        "id": "XalMezGCJ9LW",
        "outputId": "987fea5e-6589-403c-a6c4-aedb93f2ba87"
      },
      "execution_count": 24,
      "outputs": [
        {
          "output_type": "stream",
          "name": "stdout",
          "text": [
            "2\n"
          ]
        }
      ]
    },
    {
      "cell_type": "markdown",
      "source": [
        "# 거듭제곱"
      ],
      "metadata": {
        "id": "G2VUaD5qKCYs"
      }
    },
    {
      "cell_type": "markdown",
      "source": [
        "5의 3승"
      ],
      "metadata": {
        "id": "q30DRYomemjU"
      }
    },
    {
      "cell_type": "code",
      "source": [
        "a = 5\n",
        "b = 3\n",
        "\n",
        "print(a**b)"
      ],
      "metadata": {
        "colab": {
          "base_uri": "https://localhost:8080/"
        },
        "id": "NwBz03AcKDuM",
        "outputId": "60621b64-cc3d-44ae-e601-038512da195d"
      },
      "execution_count": 25,
      "outputs": [
        {
          "output_type": "stream",
          "name": "stdout",
          "text": [
            "125\n"
          ]
        }
      ]
    },
    {
      "cell_type": "markdown",
      "source": [
        "# 리스트 자료형\n",
        "\n",
        "- append, remove 지원"
      ],
      "metadata": {
        "id": "NiF5yGGvKKTa"
      }
    },
    {
      "cell_type": "code",
      "source": [
        "a = [1,2,3,4,5,6,7,8,9]\n",
        "print(a)"
      ],
      "metadata": {
        "colab": {
          "base_uri": "https://localhost:8080/"
        },
        "id": "sa59C8wFKQxO",
        "outputId": "4cee70b1-8dcd-41d4-dcff-2304811233d6"
      },
      "execution_count": 28,
      "outputs": [
        {
          "output_type": "stream",
          "name": "stdout",
          "text": [
            "[1, 2, 3, 4, 5, 6, 7, 8, 9]\n"
          ]
        }
      ]
    },
    {
      "cell_type": "markdown",
      "source": [
        "다섯번째 원소에 접근하고 있다."
      ],
      "metadata": {
        "id": "roucBEjQKb-O"
      }
    },
    {
      "cell_type": "code",
      "source": [
        "print(a[4])"
      ],
      "metadata": {
        "colab": {
          "base_uri": "https://localhost:8080/"
        },
        "id": "NGYR1dkZKWAh",
        "outputId": "d042d585-df69-4b7b-860e-c5e1cf1610e8"
      },
      "execution_count": 29,
      "outputs": [
        {
          "output_type": "stream",
          "name": "stdout",
          "text": [
            "5\n"
          ]
        }
      ]
    },
    {
      "cell_type": "markdown",
      "source": [
        "빈리스트를 생성하는 두가지 방법"
      ],
      "metadata": {
        "id": "b4K29p_mKh2o"
      }
    },
    {
      "cell_type": "code",
      "source": [
        "a = list()\n",
        "print(a)"
      ],
      "metadata": {
        "colab": {
          "base_uri": "https://localhost:8080/"
        },
        "id": "y01hY_wHKes3",
        "outputId": "d6d769fa-4d3a-46ae-f00c-030c21b9fcb6"
      },
      "execution_count": 31,
      "outputs": [
        {
          "output_type": "stream",
          "name": "stdout",
          "text": [
            "[]\n"
          ]
        }
      ]
    },
    {
      "cell_type": "code",
      "source": [
        "a = []\n",
        "print(a)"
      ],
      "metadata": {
        "colab": {
          "base_uri": "https://localhost:8080/"
        },
        "id": "cWepmeXWKsxQ",
        "outputId": "b4c20e84-68d6-44db-c5a4-ddfb94fe698e"
      },
      "execution_count": 32,
      "outputs": [
        {
          "output_type": "stream",
          "name": "stdout",
          "text": [
            "[]\n"
          ]
        }
      ]
    },
    {
      "cell_type": "markdown",
      "source": [
        "크기가 N이고, 모든 값이 0인 1차원 리스트로 초기화"
      ],
      "metadata": {
        "id": "dwjyrh5aK5qL"
      }
    },
    {
      "cell_type": "code",
      "source": [
        "n = 10\n",
        "a = [0] * n # [0]이라는 리스트가 n개\n",
        "print(a)"
      ],
      "metadata": {
        "colab": {
          "base_uri": "https://localhost:8080/"
        },
        "id": "3MccohkNLAPf",
        "outputId": "b62c460e-b64f-4d65-e3f2-d7e2669edfd4"
      },
      "execution_count": 34,
      "outputs": [
        {
          "output_type": "stream",
          "name": "stdout",
          "text": [
            "[0, 0, 0, 0, 0, 0, 0, 0, 0, 0]\n"
          ]
        }
      ]
    },
    {
      "cell_type": "markdown",
      "source": [
        "# 리스트 인덱싱과 슬라이싱"
      ],
      "metadata": {
        "id": "yyV5cXpGLNnO"
      }
    },
    {
      "cell_type": "code",
      "source": [
        "a = [1,2,3,4,5,6,7,8,9]"
      ],
      "metadata": {
        "id": "gMSoYmvVLSAJ"
      },
      "execution_count": 35,
      "outputs": []
    },
    {
      "cell_type": "markdown",
      "source": [
        "뒤에서 첫번째 원소를 출력하라"
      ],
      "metadata": {
        "id": "v5Y7I7zKLPlw"
      }
    },
    {
      "cell_type": "code",
      "source": [
        "print(a[-1])"
      ],
      "metadata": {
        "colab": {
          "base_uri": "https://localhost:8080/"
        },
        "id": "2r9cjm8sLNXG",
        "outputId": "f73392e2-7e01-41d4-cf32-95ea95368124"
      },
      "execution_count": 36,
      "outputs": [
        {
          "output_type": "stream",
          "name": "stdout",
          "text": [
            "9\n"
          ]
        }
      ]
    },
    {
      "cell_type": "markdown",
      "source": [
        "뒤에서 세번째 원소를 출력하라"
      ],
      "metadata": {
        "id": "jLizRAoeLZrO"
      }
    },
    {
      "cell_type": "code",
      "source": [
        "print(a[-3])"
      ],
      "metadata": {
        "colab": {
          "base_uri": "https://localhost:8080/"
        },
        "id": "z8ZMLmzdLbsM",
        "outputId": "5b17e066-f0e7-4441-807e-fe528240cb1f"
      },
      "execution_count": 37,
      "outputs": [
        {
          "output_type": "stream",
          "name": "stdout",
          "text": [
            "7\n"
          ]
        }
      ]
    },
    {
      "cell_type": "markdown",
      "source": [
        "네번째 원소의 값을 7로 변경하라"
      ],
      "metadata": {
        "id": "BY7DGs-ALek-"
      }
    },
    {
      "cell_type": "code",
      "source": [
        "a[3] = 7\n",
        "print(a)"
      ],
      "metadata": {
        "colab": {
          "base_uri": "https://localhost:8080/"
        },
        "id": "_BPWI7e_LhDW",
        "outputId": "cf55d667-c44e-44cc-d363-357602dfcc06"
      },
      "execution_count": 38,
      "outputs": [
        {
          "output_type": "stream",
          "name": "stdout",
          "text": [
            "[1, 2, 3, 7, 5, 6, 7, 8, 9]\n"
          ]
        }
      ]
    },
    {
      "cell_type": "markdown",
      "source": [
        "두번째 원소부터 네번째 원소까지 가져와라"
      ],
      "metadata": {
        "id": "qls_mtWULp53"
      }
    },
    {
      "cell_type": "code",
      "source": [
        "a = [1,2,3,4,5,6,7,8,9]"
      ],
      "metadata": {
        "id": "B1zPKlTdLsp2"
      },
      "execution_count": 39,
      "outputs": []
    },
    {
      "cell_type": "code",
      "source": [
        "print(a[1:4]) # 끝자리는 항상 끝자리, 첫자리는 -1"
      ],
      "metadata": {
        "colab": {
          "base_uri": "https://localhost:8080/"
        },
        "id": "HhkEs5YOLwdi",
        "outputId": "5d0ef47b-551c-44d0-db9b-5f6fd3fc5500"
      },
      "execution_count": 40,
      "outputs": [
        {
          "output_type": "stream",
          "name": "stdout",
          "text": [
            "[2, 3, 4]\n"
          ]
        }
      ]
    },
    {
      "cell_type": "markdown",
      "source": [
        "# 리스트 컴프리핸션\n",
        "\n",
        "- 대괄호 안에 조건문과 반복분 삽입시켜 리스트 초기화\n",
        "- 출력대상이 되는 값을 i로 표현 for 문 if 문"
      ],
      "metadata": {
        "id": "OX2uBzkGL8yG"
      }
    },
    {
      "cell_type": "markdown",
      "source": [
        "리스트 컴프리핸션을 이용하여 0부터 19까지의 수 중 홀수만 포함하는 리스트를 작성"
      ],
      "metadata": {
        "id": "1Eyhnn7hMcpR"
      }
    },
    {
      "cell_type": "code",
      "source": [
        "array = [i for i in range(20) if i % 2 == 1]\n",
        "print(array)"
      ],
      "metadata": {
        "colab": {
          "base_uri": "https://localhost:8080/"
        },
        "id": "kc4fQ4nrMUdI",
        "outputId": "03d522d1-0cf1-4754-e7b4-f9497807ccd9"
      },
      "execution_count": 42,
      "outputs": [
        {
          "output_type": "stream",
          "name": "stdout",
          "text": [
            "[1, 3, 5, 7, 9, 11, 13, 15, 17, 19]\n"
          ]
        }
      ]
    },
    {
      "cell_type": "markdown",
      "source": [
        "일반적인 반복문을 이용하여 0부터 19까지의 수 중 홀수만 포함하는 리스트를 작성"
      ],
      "metadata": {
        "id": "upUkigaSMmUU"
      }
    },
    {
      "cell_type": "code",
      "source": [
        "array = []\n",
        "for i in range(20) :\n",
        "  if i % 2 == 1 :\n",
        "    array.append(i)\n",
        "print(array)"
      ],
      "metadata": {
        "colab": {
          "base_uri": "https://localhost:8080/"
        },
        "id": "SPRTx32QMqXC",
        "outputId": "dedce307-bcf2-43c2-855f-50bf039a2679"
      },
      "execution_count": 44,
      "outputs": [
        {
          "output_type": "stream",
          "name": "stdout",
          "text": [
            "[1, 3, 5, 7, 9, 11, 13, 15, 17, 19]\n"
          ]
        }
      ]
    },
    {
      "cell_type": "markdown",
      "source": [
        "리스트 컴프리핸션을 이용하여 0부터 9까지의 수의 제곱 값을 포함하는 리스트"
      ],
      "metadata": {
        "id": "XZy55dkkM4iI"
      }
    },
    {
      "cell_type": "code",
      "source": [
        "array = [i*i for i in range(1,10)]\n",
        "print(array)"
      ],
      "metadata": {
        "colab": {
          "base_uri": "https://localhost:8080/"
        },
        "id": "TQDyZhrCM8mf",
        "outputId": "8f12bb43-a0bf-4969-bdb1-10fff9d635f1"
      },
      "execution_count": 46,
      "outputs": [
        {
          "output_type": "stream",
          "name": "stdout",
          "text": [
            "[1, 4, 9, 16, 25, 36, 49, 64, 81]\n"
          ]
        }
      ]
    },
    {
      "cell_type": "markdown",
      "source": [
        "N * M 크기의 2차원 리스트 초기화\n",
        "- 2차원 리스트 초기화 시, 반드시 리스트 컴프리 핸션을 사용할 것"
      ],
      "metadata": {
        "id": "gS4HKRGiNPWE"
      }
    },
    {
      "cell_type": "code",
      "source": [
        "n = 3\n",
        "m = 4\n",
        "array = [[0] * m for _ in range(n)]\n",
        "print(array)"
      ],
      "metadata": {
        "colab": {
          "base_uri": "https://localhost:8080/"
        },
        "id": "4EotbbavNUCz",
        "outputId": "ea80fb7e-ff14-415e-aae3-7819315e39f8"
      },
      "execution_count": 49,
      "outputs": [
        {
          "output_type": "stream",
          "name": "stdout",
          "text": [
            "[[0, 0, 0, 0], [0, 0, 0, 0], [0, 0, 0, 0]]\n"
          ]
        }
      ]
    },
    {
      "cell_type": "markdown",
      "source": [
        "- 반복문을 수행하되 반복을 위한 변수의 값을 무시하고자 할 때, _를 사용\n",
        "- 반복이 어느 무언가에 구애받지 않음"
      ],
      "metadata": {
        "id": "rFdzz4VkNgZ3"
      }
    },
    {
      "cell_type": "code",
      "source": [
        "n = 3\n",
        "m = 4\n",
        "array = [[0] * m] * n\n",
        "print(array)\n",
        "\n",
        "array[1][1] = 5\n",
        "print(array)"
      ],
      "metadata": {
        "colab": {
          "base_uri": "https://localhost:8080/"
        },
        "id": "YR8Pt02oOGfC",
        "outputId": "89778c36-f88c-4e53-8a48-fe4ce7f0e3e0"
      },
      "execution_count": 57,
      "outputs": [
        {
          "output_type": "stream",
          "name": "stdout",
          "text": [
            "[[0, 0, 0, 0], [0, 0, 0, 0], [0, 0, 0, 0]]\n",
            "[[0, 5, 0, 0], [0, 5, 0, 0], [0, 5, 0, 0]]\n"
          ]
        }
      ]
    },
    {
      "cell_type": "markdown",
      "source": [
        "리스트 컨프리핸션을 쓰지 않으면, 리스트 3개를 모두 동일 리스트라고 인식하여, 3개의 리스트에서 모두 1번째 로케이션이라고 인지하는 모든 값들이 다 5로 바뀐 것을 확인할 수 있음"
      ],
      "metadata": {
        "id": "oMJ10c6WOjqA"
      }
    },
    {
      "cell_type": "markdown",
      "source": [
        "언더바의 예시들"
      ],
      "metadata": {
        "id": "FEsO-CI_OhEv"
      }
    },
    {
      "cell_type": "markdown",
      "source": [
        "HELLO WORLD를 5번 출력하라"
      ],
      "metadata": {
        "id": "5Oep7xwsevfE"
      }
    },
    {
      "cell_type": "code",
      "source": [
        "for _ in range(5) :\n",
        "  print(\"HELLO WORLD\")"
      ],
      "metadata": {
        "colab": {
          "base_uri": "https://localhost:8080/"
        },
        "id": "DZXDIaZaNgK4",
        "outputId": "cfa7297a-a64a-46d2-ec57-e4cf16a0efbf"
      },
      "execution_count": 51,
      "outputs": [
        {
          "output_type": "stream",
          "name": "stdout",
          "text": [
            "HELLO WORLD\n",
            "HELLO WORLD\n",
            "HELLO WORLD\n",
            "HELLO WORLD\n",
            "HELLO WORLD\n"
          ]
        }
      ]
    },
    {
      "cell_type": "markdown",
      "source": [
        "1부터 9까지 모두 출력하라"
      ],
      "metadata": {
        "id": "PfYe8liFezRt"
      }
    },
    {
      "cell_type": "code",
      "source": [
        "summary = 0\n",
        "for i in range(1,10) :\n",
        "  summary += i\n",
        "  print(i)"
      ],
      "metadata": {
        "colab": {
          "base_uri": "https://localhost:8080/"
        },
        "id": "ljBPMhCHNunk",
        "outputId": "a3ea5fe9-d4a3-4004-8f73-eb4d8e8446a9"
      },
      "execution_count": 116,
      "outputs": [
        {
          "output_type": "stream",
          "name": "stdout",
          "text": [
            "1\n",
            "2\n",
            "3\n",
            "4\n",
            "5\n",
            "6\n",
            "7\n",
            "8\n",
            "9\n"
          ]
        }
      ]
    },
    {
      "cell_type": "markdown",
      "source": [
        "# 리스트 관련 메서드"
      ],
      "metadata": {
        "id": "7xI-a9TLPMfv"
      }
    },
    {
      "cell_type": "markdown",
      "source": [
        "![image.png](data:image/png;base64,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)"
      ],
      "metadata": {
        "id": "TmLpK1YRQTDP"
      }
    },
    {
      "cell_type": "markdown",
      "source": [
        "- insert함수가 N개면 시간복잡도는 O(N)\n",
        "- insert함수는 append 함수보다 시간복잡도가 크기 때문에, 남발하면 시간초과\n",
        "- remove 또한 insert함수와 마찬가지로 시간복잡도가 O(N)"
      ],
      "metadata": {
        "id": "oJrs-o4HQWt3"
      }
    },
    {
      "cell_type": "code",
      "source": [
        "a = [1,4,3]\n",
        "print(\"기본리스트 : \", a)"
      ],
      "metadata": {
        "colab": {
          "base_uri": "https://localhost:8080/"
        },
        "id": "MGh6HrQKPOI3",
        "outputId": "97d85816-c1db-4c8b-e842-735920f8b5b9"
      },
      "execution_count": 59,
      "outputs": [
        {
          "output_type": "stream",
          "name": "stdout",
          "text": [
            "기본리스트 :  [1, 4, 3]\n"
          ]
        }
      ]
    },
    {
      "cell_type": "markdown",
      "source": [
        "리스트에 2를 삽입하라"
      ],
      "metadata": {
        "id": "wTssR44HPeYH"
      }
    },
    {
      "cell_type": "code",
      "source": [
        "a.append(2)\n",
        "print(a)"
      ],
      "metadata": {
        "colab": {
          "base_uri": "https://localhost:8080/"
        },
        "id": "3kg4CzfsPaqK",
        "outputId": "ea8f504c-a45c-40cd-c6de-3f2d78e023f8"
      },
      "execution_count": 60,
      "outputs": [
        {
          "output_type": "stream",
          "name": "stdout",
          "text": [
            "[1, 4, 3, 2]\n"
          ]
        }
      ]
    },
    {
      "cell_type": "markdown",
      "source": [
        "리스트를 오름차순 정렬하라"
      ],
      "metadata": {
        "id": "Xvf44LFrPhze"
      }
    },
    {
      "cell_type": "code",
      "source": [
        "a.sort()\n",
        "print(a)"
      ],
      "metadata": {
        "colab": {
          "base_uri": "https://localhost:8080/"
        },
        "id": "8XQiDovUPjTp",
        "outputId": "9f0a3fb2-4edc-4651-a46e-0b5b7b0dfd99"
      },
      "execution_count": 63,
      "outputs": [
        {
          "output_type": "stream",
          "name": "stdout",
          "text": [
            "[1, 2, 3, 4]\n"
          ]
        }
      ]
    },
    {
      "cell_type": "markdown",
      "source": [
        "리스트를 내림차순 정렬하라"
      ],
      "metadata": {
        "id": "OWM42Dy_PmeH"
      }
    },
    {
      "cell_type": "code",
      "source": [
        "a.sort(reverse = True)\n",
        "print(a)"
      ],
      "metadata": {
        "colab": {
          "base_uri": "https://localhost:8080/"
        },
        "id": "h6TeAk6DPovv",
        "outputId": "acc4f771-a2a2-43a6-900b-4e8cfb573e7e"
      },
      "execution_count": 65,
      "outputs": [
        {
          "output_type": "stream",
          "name": "stdout",
          "text": [
            "[4, 3, 2, 1]\n"
          ]
        }
      ]
    },
    {
      "cell_type": "markdown",
      "source": [
        "리스트의 원소를 뒤집어라"
      ],
      "metadata": {
        "id": "5j91nWb4Psjw"
      }
    },
    {
      "cell_type": "code",
      "source": [
        "a.reverse()\n",
        "print(a)"
      ],
      "metadata": {
        "colab": {
          "base_uri": "https://localhost:8080/"
        },
        "id": "F2cfbkOUPu6G",
        "outputId": "28abe3f8-eba5-44c8-cc26-e5d97744a368"
      },
      "execution_count": 66,
      "outputs": [
        {
          "output_type": "stream",
          "name": "stdout",
          "text": [
            "[1, 2, 3, 4]\n"
          ]
        }
      ]
    },
    {
      "cell_type": "markdown",
      "source": [
        "인덱스 2에 3을 추가하라"
      ],
      "metadata": {
        "id": "ue2Sf9nQPyQf"
      }
    },
    {
      "cell_type": "code",
      "source": [
        "a.insert(2,3)\n",
        "print(a)"
      ],
      "metadata": {
        "colab": {
          "base_uri": "https://localhost:8080/"
        },
        "id": "ga_vZXiEP4Dq",
        "outputId": "5cf3ce13-fe6e-4d30-b2e5-a62b19c18da8"
      },
      "execution_count": 68,
      "outputs": [
        {
          "output_type": "stream",
          "name": "stdout",
          "text": [
            "[1, 2, 3, 3, 3, 4]\n"
          ]
        }
      ]
    },
    {
      "cell_type": "markdown",
      "source": [
        "값이 3인 데이터의 갯수는?"
      ],
      "metadata": {
        "id": "DGJlSHf4P8B9"
      }
    },
    {
      "cell_type": "code",
      "source": [
        "print(a.count(3))"
      ],
      "metadata": {
        "colab": {
          "base_uri": "https://localhost:8080/"
        },
        "id": "cJMvQV47P-Xp",
        "outputId": "0c53852a-dc37-4e5e-fc49-bd8024935bec"
      },
      "execution_count": 70,
      "outputs": [
        {
          "output_type": "stream",
          "name": "stdout",
          "text": [
            "3\n"
          ]
        }
      ]
    },
    {
      "cell_type": "markdown",
      "source": [
        "값이 1인 데이터를 삭제하라"
      ],
      "metadata": {
        "id": "-PaJZqjuQCYv"
      }
    },
    {
      "cell_type": "code",
      "source": [
        "a.remove(1)\n",
        "print(a)"
      ],
      "metadata": {
        "colab": {
          "base_uri": "https://localhost:8080/"
        },
        "id": "7EyVw4clQEhF",
        "outputId": "b2ce31e0-888f-4bfa-8066-0d5348d423c8"
      },
      "execution_count": 72,
      "outputs": [
        {
          "output_type": "stream",
          "name": "stdout",
          "text": [
            "[2, 3, 3, 3, 4]\n"
          ]
        }
      ]
    },
    {
      "cell_type": "markdown",
      "source": [
        "# 파이썬에서 특정한 값의 원소를 모두 제거하는 법"
      ],
      "metadata": {
        "id": "J6yU65SDQutP"
      }
    },
    {
      "cell_type": "code",
      "source": [
        "a = [1,2,3,4,5,5,5]\n",
        "print(\"기본리스트 : \", a)"
      ],
      "metadata": {
        "colab": {
          "base_uri": "https://localhost:8080/"
        },
        "id": "E7UthI5fQ6tM",
        "outputId": "f66e9225-5f21-4739-a9fb-bb3e302e523a"
      },
      "execution_count": 73,
      "outputs": [
        {
          "output_type": "stream",
          "name": "stdout",
          "text": [
            "기본리스트 :  [1, 2, 3, 4, 5, 5, 5]\n"
          ]
        }
      ]
    },
    {
      "cell_type": "markdown",
      "source": [
        "리스트 a에서 3과 5를 제거하라"
      ],
      "metadata": {
        "id": "_fXoAecVQyBX"
      }
    },
    {
      "cell_type": "code",
      "source": [
        "a = [1,2,3,4,5,5,5]\n",
        "remove_set = [3,5]\n",
        "a = [i for i in a if i not in remove_set]\n",
        "print(a)"
      ],
      "metadata": {
        "colab": {
          "base_uri": "https://localhost:8080/"
        },
        "id": "SF-_QFikRAg9",
        "outputId": "38887b5b-1ac7-452c-a862-0004aca59b2f"
      },
      "execution_count": 76,
      "outputs": [
        {
          "output_type": "stream",
          "name": "stdout",
          "text": [
            "[1, 2, 4]\n"
          ]
        }
      ]
    },
    {
      "cell_type": "markdown",
      "source": [
        "# 문자열 자료형"
      ],
      "metadata": {
        "id": "ZptYeoikRXHS"
      }
    },
    {
      "cell_type": "markdown",
      "source": [
        "# 문자열 초기화"
      ],
      "metadata": {
        "id": "CkPVEo2YRa1n"
      }
    },
    {
      "cell_type": "markdown",
      "source": [
        "Hello World"
      ],
      "metadata": {
        "id": "Smbyy_Z_fEU8"
      }
    },
    {
      "cell_type": "code",
      "source": [
        "data = \"Hello World\"\n",
        "print(data)"
      ],
      "metadata": {
        "colab": {
          "base_uri": "https://localhost:8080/"
        },
        "id": "n0Do0R0ARAMZ",
        "outputId": "d5d9f076-f93c-4272-db93-b86befbcdbf3"
      },
      "execution_count": 78,
      "outputs": [
        {
          "output_type": "stream",
          "name": "stdout",
          "text": [
            "Hello World\n"
          ]
        }
      ]
    },
    {
      "cell_type": "markdown",
      "source": [
        "Don't you know \"Python\"?"
      ],
      "metadata": {
        "id": "Mlgavl0xfGgU"
      }
    },
    {
      "cell_type": "code",
      "source": [
        "data = \"Don't you know \\\"Python\\\"?\"\n",
        "print(data)"
      ],
      "metadata": {
        "colab": {
          "base_uri": "https://localhost:8080/"
        },
        "id": "nBEYiiONSJ1U",
        "outputId": "abb9f18f-6d23-47d2-ebcb-3c9f1cba1c03"
      },
      "execution_count": 80,
      "outputs": [
        {
          "output_type": "stream",
          "name": "stdout",
          "text": [
            "Don't you know \"Python\"?\n"
          ]
        }
      ]
    },
    {
      "cell_type": "markdown",
      "source": [
        "- 기본적으로 문자열을 큰 따옴표로 구성하는 경우, 내부에 작은 따옴표를 포함할 수 있음\n",
        "- 백슬래쉬\\를 사용하면, 큰따옴표나 작은따옴포를 문자열에 원하는 만큼 포할시킬 수 있음 : \\\"문자\\\""
      ],
      "metadata": {
        "id": "8MJrXBQVSbTt"
      }
    },
    {
      "cell_type": "markdown",
      "source": [
        "# 문자열 연산\n",
        "- +를 사용하면 문자열을 단순히 던해서 연결\n",
        "- *를 사용하면 문자열을 여러번 출력"
      ],
      "metadata": {
        "id": "KIWo54BnS0EN"
      }
    },
    {
      "cell_type": "markdown",
      "source": [
        "기본 문자열"
      ],
      "metadata": {
        "id": "eRVxHRYXfMOa"
      }
    },
    {
      "cell_type": "code",
      "source": [
        "a = \"Hello\"\n",
        "b = \"World\""
      ],
      "metadata": {
        "id": "hxugZXkHfLLa"
      },
      "execution_count": 117,
      "outputs": []
    },
    {
      "cell_type": "markdown",
      "source": [
        "Hello World"
      ],
      "metadata": {
        "id": "asBF3z9ofNow"
      }
    },
    {
      "cell_type": "code",
      "source": [
        "print(a + \" \" + b)"
      ],
      "metadata": {
        "colab": {
          "base_uri": "https://localhost:8080/"
        },
        "id": "1GmyqnRES89y",
        "outputId": "4fb93561-7d52-4cd7-b79d-80941bec76cd"
      },
      "execution_count": 82,
      "outputs": [
        {
          "output_type": "stream",
          "name": "stdout",
          "text": [
            "Hello World\n"
          ]
        }
      ]
    },
    {
      "cell_type": "markdown",
      "source": [
        "String을 3번 이어서 출력하라"
      ],
      "metadata": {
        "id": "DsAdSQsEfP4F"
      }
    },
    {
      "cell_type": "code",
      "source": [
        "a = \"String\"\n",
        "print(a * 3)"
      ],
      "metadata": {
        "colab": {
          "base_uri": "https://localhost:8080/"
        },
        "id": "Od3Vhy1MTPNy",
        "outputId": "2f35b455-85bb-4c24-fbcc-cf8ed863dc22"
      },
      "execution_count": 83,
      "outputs": [
        {
          "output_type": "stream",
          "name": "stdout",
          "text": [
            "StringStringString\n"
          ]
        }
      ]
    },
    {
      "cell_type": "markdown",
      "source": [
        "ABCDEF에서 CD만 추출하라"
      ],
      "metadata": {
        "id": "drNKLeUITXPg"
      }
    },
    {
      "cell_type": "code",
      "source": [
        "a = \"ABCDEF\"\n",
        "print(a[2:4])"
      ],
      "metadata": {
        "colab": {
          "base_uri": "https://localhost:8080/"
        },
        "id": "UgtFgg_HTaJa",
        "outputId": "4d82a172-7969-4416-ea98-d90b280647fe"
      },
      "execution_count": 85,
      "outputs": [
        {
          "output_type": "stream",
          "name": "stdout",
          "text": [
            "CD\n"
          ]
        }
      ]
    },
    {
      "cell_type": "markdown",
      "source": [
        "# 튜플 자료형\n",
        "\n",
        "- 한번 선언한 값을 변경할 수 없음\n",
        "- 소괄호 사용\n",
        "- 바꿀 수 없는 특성을 이용하여, 내가 바꾸지 말아야 할 값을 바꾸었는지 판단함\n",
        "- 비용이 싸다"
      ],
      "metadata": {
        "id": "xULhFfCkTi8J"
      }
    },
    {
      "cell_type": "code",
      "source": [
        "a = (1,2,3,4)\n",
        "print(a)"
      ],
      "metadata": {
        "colab": {
          "base_uri": "https://localhost:8080/"
        },
        "id": "ErLOGK4OTlf2",
        "outputId": "7c56e318-2fe9-4fe7-a474-a3acfef6553a"
      },
      "execution_count": 87,
      "outputs": [
        {
          "output_type": "stream",
          "name": "stdout",
          "text": [
            "(1, 2, 3, 4)\n"
          ]
        }
      ]
    },
    {
      "cell_type": "markdown",
      "source": [
        "튜플의 세번째 원소를 7로 바꿀 것. 오류가 난다면 이유를 설명"
      ],
      "metadata": {
        "id": "yQhAM0Z5fVNr"
      }
    },
    {
      "cell_type": "code",
      "source": [
        "a[2] = 7"
      ],
      "metadata": {
        "colab": {
          "base_uri": "https://localhost:8080/",
          "height": 174
        },
        "id": "vit0f1rpTvAI",
        "outputId": "ea663a02-d6d7-4bed-f101-4b004b6d92ba"
      },
      "execution_count": 91,
      "outputs": [
        {
          "output_type": "error",
          "ename": "TypeError",
          "evalue": "ignored",
          "traceback": [
            "\u001b[0;31m---------------------------------------------------------------------------\u001b[0m",
            "\u001b[0;31mTypeError\u001b[0m                                 Traceback (most recent call last)",
            "\u001b[0;32m<ipython-input-91-47cac7a9a8fc>\u001b[0m in \u001b[0;36m<module>\u001b[0;34m()\u001b[0m\n\u001b[0;32m----> 1\u001b[0;31m \u001b[0ma\u001b[0m\u001b[0;34m[\u001b[0m\u001b[0;36m2\u001b[0m\u001b[0;34m]\u001b[0m \u001b[0;34m=\u001b[0m \u001b[0;36m7\u001b[0m\u001b[0;34m\u001b[0m\u001b[0;34m\u001b[0m\u001b[0m\n\u001b[0m",
            "\u001b[0;31mTypeError\u001b[0m: 'tuple' object does not support item assignment"
          ]
        }
      ]
    },
    {
      "cell_type": "markdown",
      "source": [
        "튜플은 선언한 값을 바꿀 수 없으므로 오류가 발생"
      ],
      "metadata": {
        "id": "xyvpk508TzlY"
      }
    },
    {
      "cell_type": "markdown",
      "source": [
        "# 사전 자료형\n",
        "\n",
        "- 변경 불가능한 데이터를 키로 사용할 수 있음\n",
        "- O(1)의 시간복잡도\n",
        "- 리스트보다 훨씬 빠르게 동작\n",
        "- 순서가 없기 때문에 인덱싱을 통해 자료의 값을 얻을 수 없음\n",
        "- \"학생 번호가 주어졌을 때, 해당 학생이 선택되었는지 여부\"를 출력하는 문제에서 효과적으로 사용"
      ],
      "metadata": {
        "id": "d3ku3rf6UIan"
      }
    },
    {
      "cell_type": "markdown",
      "source": [
        "사전을 만드시오"
      ],
      "metadata": {
        "id": "S3PPZAEDU1vX"
      }
    },
    {
      "cell_type": "markdown",
      "source": [
        "![image.png](data:image/png;base64,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)"
      ],
      "metadata": {
        "id": "ueCt7mJlUN6-"
      }
    },
    {
      "cell_type": "code",
      "source": [
        "data = dict()\n",
        "data['사과'] = 'Apple'\n",
        "data['바나나'] = 'Banana'\n",
        "data['코코넛'] = 'Coconut'\n",
        "print(data)"
      ],
      "metadata": {
        "colab": {
          "base_uri": "https://localhost:8080/"
        },
        "id": "fYNPewqTUT-J",
        "outputId": "bb2f24eb-5edc-4424-bce2-ccb5b150992b"
      },
      "execution_count": 94,
      "outputs": [
        {
          "output_type": "stream",
          "name": "stdout",
          "text": [
            "{'사과': 'Apple', '바나나': 'Banana', '코코넛': 'Coconut'}\n"
          ]
        }
      ]
    },
    {
      "cell_type": "markdown",
      "source": [
        "data는 사과를 키로가지는 데이터가 존재하는가? "
      ],
      "metadata": {
        "id": "MdFYQCXOU2-6"
      }
    },
    {
      "cell_type": "code",
      "source": [
        "if '사과' in data :\n",
        "  print(\"\\'사과\\'를 key로 가지는 데이터가 존재합니다.\")"
      ],
      "metadata": {
        "colab": {
          "base_uri": "https://localhost:8080/"
        },
        "id": "ZFMp2xy3U8oA",
        "outputId": "010f8ded-1afa-4e77-dc37-513631a30b5f"
      },
      "execution_count": 95,
      "outputs": [
        {
          "output_type": "stream",
          "name": "stdout",
          "text": [
            "'사과'를 key로 가지는 데이터가 존재합니다.\n"
          ]
        }
      ]
    },
    {
      "cell_type": "markdown",
      "source": [
        "키만 뽑아라"
      ],
      "metadata": {
        "id": "3R0ycGNaVM5Z"
      }
    },
    {
      "cell_type": "code",
      "source": [
        "key_list = data.keys()\n",
        "print(key_list)"
      ],
      "metadata": {
        "colab": {
          "base_uri": "https://localhost:8080/"
        },
        "id": "MsYEwnq2VOCz",
        "outputId": "e6aab8d0-ab6e-44fd-87f9-ff114968514d"
      },
      "execution_count": 98,
      "outputs": [
        {
          "output_type": "stream",
          "name": "stdout",
          "text": [
            "dict_keys(['사과', '바나나', '코코넛'])\n"
          ]
        }
      ]
    },
    {
      "cell_type": "markdown",
      "source": [
        "값들만 뽑아라"
      ],
      "metadata": {
        "id": "kvf_33w_VRch"
      }
    },
    {
      "cell_type": "code",
      "source": [
        "value_list = data.values()\n",
        "print(value_list)"
      ],
      "metadata": {
        "colab": {
          "base_uri": "https://localhost:8080/"
        },
        "id": "FPg3vd5uVYCB",
        "outputId": "afb5972e-3795-43d4-d18c-a8d34f748c3f"
      },
      "execution_count": 100,
      "outputs": [
        {
          "output_type": "stream",
          "name": "stdout",
          "text": [
            "dict_values(['Apple', 'Banana', 'Coconut'])\n"
          ]
        }
      ]
    },
    {
      "cell_type": "markdown",
      "source": [
        "각 키에 대한 값을 하나씩 뽑아라"
      ],
      "metadata": {
        "id": "mx-JuP_VVbv5"
      }
    },
    {
      "cell_type": "code",
      "source": [
        "for i in key_list :\n",
        "  print(data[i])"
      ],
      "metadata": {
        "colab": {
          "base_uri": "https://localhost:8080/"
        },
        "id": "b1mnV_DQVe04",
        "outputId": "6ea5c5a5-2856-435b-a769-87ec29795a52"
      },
      "execution_count": 101,
      "outputs": [
        {
          "output_type": "stream",
          "name": "stdout",
          "text": [
            "Apple\n",
            "Banana\n",
            "Coconut\n"
          ]
        }
      ]
    },
    {
      "cell_type": "markdown",
      "source": [
        "# 집합자료형\n",
        "\n",
        "- 중복을 허용하지 않음\n",
        "- 순서가 없음, 인덱싱으로 값을 얻을 수 없음\n",
        "- 사전자료형과 다르게, 키는 존재하지 않고 값만 담김\n",
        "- 시간복잡도는 O(1)\n",
        "- 특정한 데이터가 이미 등장했는지 여부를 체크할 때 매우 효과적이다."
      ],
      "metadata": {
        "id": "yoNjJDGPVlgZ"
      }
    },
    {
      "cell_type": "markdown",
      "source": [
        "집합 자료형 초기화 방법 2가지\n",
        "- 기본적인 수열을 1,1,2,3,4,4,5"
      ],
      "metadata": {
        "id": "aI07ZpX8W2Vj"
      }
    },
    {
      "cell_type": "code",
      "source": [
        "data = set([1,1,2,3,4,4,5])\n",
        "print(data) # 중복되는 값들이 삭제됨\n",
        "\n",
        "data = {1,1,2,3,4,4,5}\n",
        "print(data)"
      ],
      "metadata": {
        "colab": {
          "base_uri": "https://localhost:8080/"
        },
        "id": "aX56w1ZqVnO0",
        "outputId": "a1fb53f3-72e4-4738-fce7-fb893fcf2164"
      },
      "execution_count": 104,
      "outputs": [
        {
          "output_type": "stream",
          "name": "stdout",
          "text": [
            "{1, 2, 3, 4, 5}\n",
            "{1, 2, 3, 4, 5}\n"
          ]
        }
      ]
    },
    {
      "cell_type": "markdown",
      "source": [
        "기본 셋 \\\\\n",
        "a = 1,2,3,4,5 \\\\\n",
        "b = 3,4,5,6,7 \\\\"
      ],
      "metadata": {
        "id": "mDjgeh9pXLkD"
      }
    },
    {
      "cell_type": "code",
      "source": [
        "a = {1,2,3,4,5}\n",
        "b = {3,4,5,6,7}"
      ],
      "metadata": {
        "id": "sIm0doXoXcdq"
      },
      "execution_count": 105,
      "outputs": []
    },
    {
      "cell_type": "markdown",
      "source": [
        "합집합"
      ],
      "metadata": {
        "id": "aXMlpoEmXPxY"
      }
    },
    {
      "cell_type": "code",
      "source": [
        "print(a|b)"
      ],
      "metadata": {
        "colab": {
          "base_uri": "https://localhost:8080/"
        },
        "id": "lUz7-Jv9XiuI",
        "outputId": "d2e6a83c-f4cb-49bb-f5f3-d0ca9fcf6127"
      },
      "execution_count": 106,
      "outputs": [
        {
          "output_type": "stream",
          "name": "stdout",
          "text": [
            "{1, 2, 3, 4, 5, 6, 7}\n"
          ]
        }
      ]
    },
    {
      "cell_type": "markdown",
      "source": [
        "교집합"
      ],
      "metadata": {
        "id": "P5iC7SiTa8Lc"
      }
    },
    {
      "cell_type": "code",
      "source": [
        "print(a&b)"
      ],
      "metadata": {
        "colab": {
          "base_uri": "https://localhost:8080/"
        },
        "id": "-BHjVthra9wN",
        "outputId": "023d6eb4-7c78-459f-8c80-ad2e8c962f13"
      },
      "execution_count": 107,
      "outputs": [
        {
          "output_type": "stream",
          "name": "stdout",
          "text": [
            "{3, 4, 5}\n"
          ]
        }
      ]
    },
    {
      "cell_type": "markdown",
      "source": [
        "차집합"
      ],
      "metadata": {
        "id": "LSGwUb58a_i8"
      }
    },
    {
      "cell_type": "code",
      "source": [
        "print(a-b)"
      ],
      "metadata": {
        "colab": {
          "base_uri": "https://localhost:8080/"
        },
        "id": "ImlRsxepbAtP",
        "outputId": "191bfcb9-302f-4a65-9fdf-5603d0d26522"
      },
      "execution_count": 108,
      "outputs": [
        {
          "output_type": "stream",
          "name": "stdout",
          "text": [
            "{1, 2}\n"
          ]
        }
      ]
    },
    {
      "cell_type": "markdown",
      "source": [
        "# 집합자료형 관련 함수"
      ],
      "metadata": {
        "id": "TaLrMV3zbLDb"
      }
    },
    {
      "cell_type": "markdown",
      "source": [
        "기본 데이터 셋"
      ],
      "metadata": {
        "id": "rDSJCW1DbY27"
      }
    },
    {
      "cell_type": "code",
      "source": [
        "data = set([1,2,3])\n",
        "print(data)"
      ],
      "metadata": {
        "colab": {
          "base_uri": "https://localhost:8080/"
        },
        "id": "eNb9q2uMbVpG",
        "outputId": "9279a401-ec32-443e-8752-87a3186d23bc"
      },
      "execution_count": 110,
      "outputs": [
        {
          "output_type": "stream",
          "name": "stdout",
          "text": [
            "{1, 2, 3}\n"
          ]
        }
      ]
    },
    {
      "cell_type": "markdown",
      "source": [
        "4를 추가하라"
      ],
      "metadata": {
        "id": "HUcXynDVbfkS"
      }
    },
    {
      "cell_type": "code",
      "source": [
        "data.add(4)\n",
        "print(data)"
      ],
      "metadata": {
        "colab": {
          "base_uri": "https://localhost:8080/"
        },
        "id": "MwomPlrRbhuZ",
        "outputId": "65f864c9-2789-405a-9a65-d1897aed6f1a"
      },
      "execution_count": 112,
      "outputs": [
        {
          "output_type": "stream",
          "name": "stdout",
          "text": [
            "{1, 2, 3, 4}\n"
          ]
        }
      ]
    },
    {
      "cell_type": "markdown",
      "source": [
        "5,6을 추가하라"
      ],
      "metadata": {
        "id": "nWQprTxvbknB"
      }
    },
    {
      "cell_type": "code",
      "source": [
        "data.update([5,6])\n",
        "print(data)"
      ],
      "metadata": {
        "colab": {
          "base_uri": "https://localhost:8080/"
        },
        "id": "-3WGB0lBbmjk",
        "outputId": "c11d093e-e2c0-44a2-f8d4-25adc7162cb9"
      },
      "execution_count": 113,
      "outputs": [
        {
          "output_type": "stream",
          "name": "stdout",
          "text": [
            "{1, 2, 3, 4, 5, 6}\n"
          ]
        }
      ]
    },
    {
      "cell_type": "markdown",
      "source": [
        "3을 삭제하라"
      ],
      "metadata": {
        "id": "PnB2O3bcbrDa"
      }
    },
    {
      "cell_type": "code",
      "source": [
        "data.remove(3)\n",
        "print(data)"
      ],
      "metadata": {
        "colab": {
          "base_uri": "https://localhost:8080/"
        },
        "id": "jPmePaftbsf5",
        "outputId": "5f1bbdb2-642d-4f39-b0d8-9c53bbb01034"
      },
      "execution_count": 114,
      "outputs": [
        {
          "output_type": "stream",
          "name": "stdout",
          "text": [
            "{1, 2, 4, 5, 6}\n"
          ]
        }
      ]
    }
  ]
}