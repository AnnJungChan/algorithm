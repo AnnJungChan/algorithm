{
  "nbformat": 4,
  "nbformat_minor": 0,
  "metadata": {
    "colab": {
      "name": "python_conditional.ipynb",
      "provenance": [],
      "authorship_tag": "ABX9TyMaHZRPmsncz9/0sBtgSHdy",
      "include_colab_link": true
    },
    "kernelspec": {
      "name": "python3",
      "display_name": "Python 3"
    },
    "language_info": {
      "name": "python"
    }
  },
  "cells": [
    {
      "cell_type": "markdown",
      "metadata": {
        "id": "view-in-github",
        "colab_type": "text"
      },
      "source": [
        "<a href=\"https://colab.research.google.com/github/AnnJungChan/algorithm/blob/main/Python_basic_test/python_conditional.ipynb\" target=\"_parent\"><img src=\"https://colab.research.google.com/assets/colab-badge.svg\" alt=\"Open In Colab\"/></a>"
      ]
    },
    {
      "cell_type": "markdown",
      "source": [
        "x = 15 \\\\\n",
        "x가 10이상일 때, x의 값이 출력되도록 하라"
      ],
      "metadata": {
        "id": "oTrJaCttg2aD"
      }
    },
    {
      "cell_type": "code",
      "source": [
        ""
      ],
      "metadata": {
        "id": "PKMFKhydkBP1"
      },
      "execution_count": null,
      "outputs": []
    },
    {
      "cell_type": "markdown",
      "source": [
        "score = 85 \\\\\n",
        "성적 구간에 따른 학점을 출력하라\n",
        "- 90이상 : A \\\\\n",
        "- 90미만, 80 이상 : B \\\\\n",
        "- 80미만, 70이상 : C \\\\\n",
        "- 70미만 : F "
      ],
      "metadata": {
        "id": "k6qwXnfrhCwm"
      }
    },
    {
      "cell_type": "code",
      "source": [
        ""
      ],
      "metadata": {
        "id": "lkwKEXPCkBl3"
      },
      "execution_count": null,
      "outputs": []
    },
    {
      "cell_type": "markdown",
      "source": [
        "score = 85 \\\\\n",
        "성적이 70점 이상이면 성적이 70점 이상입니다.가 출력되도록 할  것 \\\\\n",
        "성적이 90점 이상이면, 우수한 성적입니다. 가 출력되도록 할 것 \\\\\n",
        "성적이 70점 미만이라면, 성적이 70점 미만입니다. 와 조금 더 분발하세요. 가 출력되도록 할 것 \\\\\n",
        "모든 프로세스가 다 끝나면 프로그램을 종료합니다. 가 출력되도록 할 것."
      ],
      "metadata": {
        "id": "Fk-bMKjvijKt"
      }
    },
    {
      "cell_type": "code",
      "source": [
        ""
      ],
      "metadata": {
        "id": "BJJhR5uikCVg"
      },
      "execution_count": null,
      "outputs": []
    },
    {
      "cell_type": "markdown",
      "source": [
        "score = 85 \\\\\n",
        "점수가 80점 이상일 때, 아무런 처리를 하지 않는다 \\\\\n",
        "점수가 80점 미만이면 \"성적이 80점 미만입니다\" 를 출력 \\\\\n",
        "프로그램이 종료되면, \"프로그램을 종료합니다.\" 출력"
      ],
      "metadata": {
        "id": "fXVSD70tkPWm"
      }
    },
    {
      "cell_type": "code",
      "source": [
        ""
      ],
      "metadata": {
        "id": "SabxgmtAkC5U"
      },
      "execution_count": null,
      "outputs": []
    },
    {
      "cell_type": "markdown",
      "source": [
        "score = 85 \\\\\n",
        "점수가 80점 이상일 때, \"Success\" 출력 \\\\\n",
        "점수가 80점 미만이면 \"Fail\" 출력 \\\\\n",
        "줄바꿈을 허용하지 않음 \\\\\n",
        "result 이용"
      ],
      "metadata": {
        "id": "Mcvyf07Ik3EK"
      }
    },
    {
      "cell_type": "code",
      "source": [
        ""
      ],
      "metadata": {
        "id": "k1VU7rHDkDWd"
      },
      "execution_count": null,
      "outputs": []
    },
    {
      "cell_type": "markdown",
      "source": [
        "score = 85 \\\\\n",
        "점수가 80점 이상일 때, \"Success\" 출력 \\\\\n",
        "점수가 80점 미만이면 \"Fail\" 출력 \\\\\n",
        "한줄로 작성할 것(조건부 표현식 이용) \\\\\n",
        "\n",
        "- 조건부 표현식\n",
        "- 도출되어야 할 결과 if 문(조건) else(if문에 부합하지 않으면 나오는 결과) "
      ],
      "metadata": {
        "id": "CYkHW516lllb"
      }
    },
    {
      "cell_type": "code",
      "source": [
        ""
      ],
      "metadata": {
        "id": "JT-xvkjSkD4-"
      },
      "execution_count": null,
      "outputs": []
    }
  ]
}