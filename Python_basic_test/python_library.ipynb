{
  "nbformat": 4,
  "nbformat_minor": 0,
  "metadata": {
    "colab": {
      "name": "python_library.ipynb",
      "provenance": [],
      "authorship_tag": "ABX9TyNzy/md7aTjnmBKsSp77P0+",
      "include_colab_link": true
    },
    "kernelspec": {
      "name": "python3",
      "display_name": "Python 3"
    },
    "language_info": {
      "name": "python"
    }
  },
  "cells": [
    {
      "cell_type": "markdown",
      "metadata": {
        "id": "view-in-github",
        "colab_type": "text"
      },
      "source": [
        "<a href=\"https://colab.research.google.com/github/AnnJungChan/algorithm/blob/main/Python_basic_test/python_library.ipynb\" target=\"_parent\"><img src=\"https://colab.research.google.com/assets/colab-badge.svg\" alt=\"Open In Colab\"/></a>"
      ]
    },
    {
      "cell_type": "markdown",
      "source": [
        "리스트 [1,2,3,4,5]의 모든 원소의 합을 반환하라."
      ],
      "metadata": {
        "id": "l_uJd5kTbNdb"
      }
    },
    {
      "cell_type": "code",
      "source": [
        ""
      ],
      "metadata": {
        "id": "YWfK9plLuEx_"
      },
      "execution_count": null,
      "outputs": []
    },
    {
      "cell_type": "markdown",
      "source": [
        "7,3,5,2중 가장 작은 값을 반환하라."
      ],
      "metadata": {
        "id": "5HdVXxLkbaAR"
      }
    },
    {
      "cell_type": "code",
      "source": [
        ""
      ],
      "metadata": {
        "id": "AN6duJFnuFFv"
      },
      "execution_count": null,
      "outputs": []
    },
    {
      "cell_type": "markdown",
      "source": [
        "7,3,5,2 중 가장 큰 값을 반환하라."
      ],
      "metadata": {
        "id": "0sS4m7WGbg0X"
      }
    },
    {
      "cell_type": "code",
      "source": [
        ""
      ],
      "metadata": {
        "id": "d9WKnWc8uFhC"
      },
      "execution_count": null,
      "outputs": []
    },
    {
      "cell_type": "markdown",
      "source": [
        "문자형 수식 \\\\\n",
        "\"(3+5)*7\" \\\\\n",
        "을 계산하라."
      ],
      "metadata": {
        "id": "ojSXB_wqbraR"
      }
    },
    {
      "cell_type": "code",
      "source": [
        ""
      ],
      "metadata": {
        "id": "ygbfrr8ruGV-"
      },
      "execution_count": null,
      "outputs": []
    },
    {
      "cell_type": "markdown",
      "source": [
        "[9,1,8,5,4]에 대해서\n",
        "- 오름차순 정렬하라\n",
        "- 내림차순 정렬하라"
      ],
      "metadata": {
        "id": "YGPCnVxNb_Tp"
      }
    },
    {
      "cell_type": "code",
      "source": [
        ""
      ],
      "metadata": {
        "id": "cRuFn_I4uG_G"
      },
      "execution_count": null,
      "outputs": []
    },
    {
      "cell_type": "markdown",
      "source": [
        "[('홍길동',35),('이순신',75),('아무개',50)] \\\\\n",
        "에 대해서 숫자를 기준으로 내림차순으로 정렬하라."
      ],
      "metadata": {
        "id": "ElezmaUHccvr"
      }
    },
    {
      "cell_type": "code",
      "source": [
        ""
      ],
      "metadata": {
        "id": "OdSTqTaguHfO"
      },
      "execution_count": null,
      "outputs": []
    },
    {
      "cell_type": "markdown",
      "source": [
        "[9,1,8,5,4]에 대해서 \\\\\n",
        "리스트 안의 내장함수로 오름차순 정렬하라."
      ],
      "metadata": {
        "id": "Qkh9OOOJdl19"
      }
    },
    {
      "cell_type": "code",
      "source": [
        ""
      ],
      "metadata": {
        "id": "nK9lP7RYuIJm"
      },
      "execution_count": null,
      "outputs": []
    },
    {
      "cell_type": "markdown",
      "source": [
        "A, B, C에서 3개를 뽑아 순서를 고려하여 나열하는 모든 경우의 수\n",
        "\n"
      ],
      "metadata": {
        "id": "YSszP1zPefhi"
      }
    },
    {
      "cell_type": "code",
      "source": [
        ""
      ],
      "metadata": {
        "id": "x4rgo6SouIke"
      },
      "execution_count": null,
      "outputs": []
    },
    {
      "cell_type": "markdown",
      "source": [
        "A, B, C에서 2개를 뽑아 순서를 고려하지 않고 나열하는 모든 경우의 수"
      ],
      "metadata": {
        "id": "Mbl7S68Ge65e"
      }
    },
    {
      "cell_type": "code",
      "source": [
        ""
      ],
      "metadata": {
        "id": "0KoMJQmduJE_"
      },
      "execution_count": null,
      "outputs": []
    },
    {
      "cell_type": "markdown",
      "source": [
        "A, B, C에서 순서를 고려하여 원소를 중복하여 2개를 뽑아서 나열하는 모든 경우의 수"
      ],
      "metadata": {
        "id": "uEpiIOKtfXIL"
      }
    },
    {
      "cell_type": "code",
      "source": [
        ""
      ],
      "metadata": {
        "id": "nmLSqF-iuJgX"
      },
      "execution_count": null,
      "outputs": []
    },
    {
      "cell_type": "markdown",
      "source": [
        "A, B, C에서 순서를 고려하지 않고 원소를 중복하여 2개를 뽑아서 나열하는 모든 경우의 수"
      ],
      "metadata": {
        "id": "s-tTDD2mgMV-"
      }
    },
    {
      "cell_type": "code",
      "source": [
        ""
      ],
      "metadata": {
        "id": "tu981lgmuKIu"
      },
      "execution_count": null,
      "outputs": []
    },
    {
      "cell_type": "markdown",
      "source": [
        "힙정렬을 구현하고 \\\\\n",
        "힙 정렬을 통해 [1,3,5,7,9,2,4,6,8,0]을 오름차순 정렬하라."
      ],
      "metadata": {
        "id": "-MxeN4nihaD0"
      }
    },
    {
      "cell_type": "code",
      "source": [
        ""
      ],
      "metadata": {
        "id": "VDm2pJ_XuKk8"
      },
      "execution_count": null,
      "outputs": []
    },
    {
      "cell_type": "markdown",
      "source": [
        "힙 정렬을 통해 [1,3,5,7,9,2,4,6,8,0]을 내림차순 정렬하라."
      ],
      "metadata": {
        "id": "nGXRtVkpje50"
      }
    },
    {
      "cell_type": "code",
      "source": [
        ""
      ],
      "metadata": {
        "id": "BAqMb672uLJ-"
      },
      "execution_count": null,
      "outputs": []
    },
    {
      "cell_type": "markdown",
      "source": [
        "리스트 [1,2,4,4,8]에 새로운 숫자 4가 들어간다고 하자. \\\\\n",
        "이 때, 4는 어디에 들어가야 리스트가 정렬된 순서를 유지하는가? \\\\\n",
        "오른쪽과 왼쪽에서 접근했을 때, 모두 확인해보라.\n"
      ],
      "metadata": {
        "id": "ueK6BPnhlhXm"
      }
    },
    {
      "cell_type": "code",
      "source": [
        ""
      ],
      "metadata": {
        "id": "qe6ZW2XyuLrW"
      },
      "execution_count": null,
      "outputs": []
    },
    {
      "cell_type": "markdown",
      "source": [
        "리스트 [1,2,3,3,3,3,4,4,8,9] 에서 \\\\\n",
        "1. 값이 4인 데이터의 갯수를 출력하고\n",
        "2. 값이 -1,3 범위에 있는 데이터의 갯수를 출력하라\n",
        "<br>\n",
        "단, 이를 함수로 구현하라."
      ],
      "metadata": {
        "id": "oiguLTtRmSTx"
      }
    },
    {
      "cell_type": "code",
      "source": [
        ""
      ],
      "metadata": {
        "id": "jRnYidABuMXD"
      },
      "execution_count": null,
      "outputs": []
    },
    {
      "cell_type": "markdown",
      "source": [
        "리스트 [2,3,4]에 대해서\n",
        "1. 가장 앞쪽에 1을 삽입하라\n",
        "2. 가장 뒤에 5를 삽입하라\n",
        "3. 가장 앞쪽 원소를 제거하라\n",
        "4. 가장 뒤에 원소를 제거하라\n",
        "<br>\n",
        "각 절차마다 print() 할 것(이 때, list 형태의 output이 필요하다.)"
      ],
      "metadata": {
        "id": "ofIu1zGqpDLl"
      }
    },
    {
      "cell_type": "code",
      "source": [
        ""
      ],
      "metadata": {
        "id": "42O9SAXIuNHY"
      },
      "execution_count": null,
      "outputs": []
    },
    {
      "cell_type": "markdown",
      "source": [
        "리스트 ['red','blue','red','green', 'blue', 'blue'] 에 대해서, \\\\\n",
        "1. blue는 몇번 등장했는가?\n",
        "2. greeen은 몇번 등장했는가?\n",
        "3. 각각의 등장 횟수를 사전의 형태로 만들어라"
      ],
      "metadata": {
        "id": "TrzJ0jUQqmNc"
      }
    },
    {
      "cell_type": "code",
      "source": [
        ""
      ],
      "metadata": {
        "id": "vCvQGKLwuN_H"
      },
      "execution_count": null,
      "outputs": []
    },
    {
      "cell_type": "markdown",
      "source": [
        "5!을 출력하라"
      ],
      "metadata": {
        "id": "xr3eubHkrapd"
      }
    },
    {
      "cell_type": "code",
      "source": [
        ""
      ],
      "metadata": {
        "id": "05zQIPmnuOfO"
      },
      "execution_count": null,
      "outputs": []
    },
    {
      "cell_type": "markdown",
      "source": [
        "7의 제곱근을 출력하라"
      ],
      "metadata": {
        "id": "UVk3ZCB9roXr"
      }
    },
    {
      "cell_type": "code",
      "source": [
        ""
      ],
      "metadata": {
        "id": "ITzo_ys7uPK-"
      },
      "execution_count": null,
      "outputs": []
    },
    {
      "cell_type": "markdown",
      "source": [
        "21과 14의 최대공약수는?"
      ],
      "metadata": {
        "id": "BnZeAoCJrubM"
      }
    },
    {
      "cell_type": "code",
      "source": [
        ""
      ],
      "metadata": {
        "id": "X5HKDrpduPx2"
      },
      "execution_count": null,
      "outputs": []
    },
    {
      "cell_type": "markdown",
      "source": [
        "pi와 자연상수 e를 출력하라"
      ],
      "metadata": {
        "id": "YMqdZpb-sJCP"
      }
    },
    {
      "cell_type": "code",
      "source": [
        ""
      ],
      "metadata": {
        "id": "3W-cXf33uQOu"
      },
      "execution_count": null,
      "outputs": []
    }
  ]
}