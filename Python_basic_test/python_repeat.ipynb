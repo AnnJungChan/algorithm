{
  "nbformat": 4,
  "nbformat_minor": 0,
  "metadata": {
    "colab": {
      "name": "python_repeat.ipynb",
      "provenance": [],
      "authorship_tag": "ABX9TyNdKn6Thk75ttwi83TKUZEd",
      "include_colab_link": true
    },
    "kernelspec": {
      "name": "python3",
      "display_name": "Python 3"
    },
    "language_info": {
      "name": "python"
    }
  },
  "cells": [
    {
      "cell_type": "markdown",
      "metadata": {
        "id": "view-in-github",
        "colab_type": "text"
      },
      "source": [
        "<a href=\"https://colab.research.google.com/github/AnnJungChan/algorithm/blob/main/Python_basic_test/python_repeat.ipynb\" target=\"_parent\"><img src=\"https://colab.research.google.com/assets/colab-badge.svg\" alt=\"Open In Colab\"/></a>"
      ]
    },
    {
      "cell_type": "markdown",
      "source": [
        "1부터 9까지 각 정수의 합을 계산하라"
      ],
      "metadata": {
        "id": "Y82GD_9tnVWk"
      }
    },
    {
      "cell_type": "code",
      "execution_count": null,
      "metadata": {
        "id": "EGonJ_dwmsw5"
      },
      "outputs": [],
      "source": [
        ""
      ]
    },
    {
      "cell_type": "markdown",
      "source": [
        "1부터 9까지의 수 중에서 홀수만 더하라"
      ],
      "metadata": {
        "id": "ISAjjRW8oX_c"
      }
    },
    {
      "cell_type": "code",
      "source": [
        ""
      ],
      "metadata": {
        "id": "D67bv2g5obkj"
      },
      "execution_count": null,
      "outputs": []
    },
    {
      "cell_type": "markdown",
      "source": [
        "1부터 9까지 모든 값을 더하라"
      ],
      "metadata": {
        "id": "ke7xgw_JpOmQ"
      }
    },
    {
      "cell_type": "code",
      "source": [
        ""
      ],
      "metadata": {
        "id": "ak4OeKM8pUAd"
      },
      "execution_count": null,
      "outputs": []
    },
    {
      "cell_type": "markdown",
      "source": [
        "score = [90,85,77,65,97] \\\\\n",
        "80점 이상이면 합격이다. \\\\\n",
        "학생의 합격여부를 학생의 번호로 출력하라 \\\\\n",
        "(번호는 앞에서부터 1번이다)"
      ],
      "metadata": {
        "id": "XTByVZt9p6ND"
      }
    },
    {
      "cell_type": "code",
      "source": [
        ""
      ],
      "metadata": {
        "id": "6bt6W3wcqMXN"
      },
      "execution_count": null,
      "outputs": []
    },
    {
      "cell_type": "markdown",
      "source": [
        "score = [90,85,77,65,97] \\\\\n",
        "컨닝을 한 학생 : 2번, 4번 \\\\\n",
        "80점 이상이면 합격이다. \\\\\n",
        "컨닝한 사람을 제외하고 합격한 학생의 번호를 출력하라."
      ],
      "metadata": {
        "id": "5fT4Law7q68k"
      }
    },
    {
      "cell_type": "code",
      "source": [
        ""
      ],
      "metadata": {
        "id": "JXlg1psSrI3s"
      },
      "execution_count": null,
      "outputs": []
    },
    {
      "cell_type": "markdown",
      "source": [
        "구구단 2단부터 9단까지의 모든 결과를 출력하라."
      ],
      "metadata": {
        "id": "E06cebkwsWpc"
      }
    },
    {
      "cell_type": "code",
      "source": [
        ""
      ],
      "metadata": {
        "id": "cD4WGokRr-Lk"
      },
      "execution_count": null,
      "outputs": []
    }
  ]
}