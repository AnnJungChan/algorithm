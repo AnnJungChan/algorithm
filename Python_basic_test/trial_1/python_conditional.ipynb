{
  "nbformat": 4,
  "nbformat_minor": 0,
  "metadata": {
    "colab": {
      "name": "python_conditional.ipynb",
      "provenance": [],
      "authorship_tag": "ABX9TyMincw6EPX6cvDza2puMXyq",
      "include_colab_link": true
    },
    "kernelspec": {
      "name": "python3",
      "display_name": "Python 3"
    },
    "language_info": {
      "name": "python"
    }
  },
  "cells": [
    {
      "cell_type": "markdown",
      "metadata": {
        "id": "view-in-github",
        "colab_type": "text"
      },
      "source": [
        "<a href=\"https://colab.research.google.com/github/AnnJungChan/algorithm/blob/main/Python_basic_test/trial_1/python_conditional.ipynb\" target=\"_parent\"><img src=\"https://colab.research.google.com/assets/colab-badge.svg\" alt=\"Open In Colab\"/></a>"
      ]
    },
    {
      "cell_type": "markdown",
      "source": [
        "score = 85 \\\\\n",
        "점수가 80점 이상일 때, \"Success\" 출력 \\\\\n",
        "점수가 80점 미만이면 \"Fail\" 출력 \\\\\n",
        "줄바꿈을 허용하지 않음 \\\\\n",
        "result 이용 \\\\\n",
        "if else를 포함한 문장은 2줄로 작성"
      ],
      "metadata": {
        "id": "Mcvyf07Ik3EK"
      }
    },
    {
      "cell_type": "code",
      "source": [
        ""
      ],
      "metadata": {
        "id": "7D2LR6AOmt9-"
      },
      "execution_count": null,
      "outputs": []
    },
    {
      "cell_type": "markdown",
      "source": [
        "score = 85 \\\\\n",
        "점수가 80점 이상일 때, \"Success\" 출력 \\\\\n",
        "점수가 80점 미만이면 \"Fail\" 출력 \\\\\n",
        "한줄로 작성할 것(조건부 표현식 이용) \\\\"
      ],
      "metadata": {
        "id": "CYkHW516lllb"
      }
    },
    {
      "cell_type": "code",
      "source": [
        ""
      ],
      "metadata": {
        "id": "n7yGLFmFmuTk"
      },
      "execution_count": null,
      "outputs": []
    }
  ]
}