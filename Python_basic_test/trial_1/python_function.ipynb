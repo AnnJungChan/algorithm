{
  "nbformat": 4,
  "nbformat_minor": 0,
  "metadata": {
    "colab": {
      "name": "python_function.ipynb",
      "provenance": [],
      "collapsed_sections": [],
      "authorship_tag": "ABX9TyPJ8ztO8mlHUjQW1dras4Bm",
      "include_colab_link": true
    },
    "kernelspec": {
      "name": "python3",
      "display_name": "Python 3"
    },
    "language_info": {
      "name": "python"
    }
  },
  "cells": [
    {
      "cell_type": "markdown",
      "metadata": {
        "id": "view-in-github",
        "colab_type": "text"
      },
      "source": [
        "<a href=\"https://colab.research.google.com/github/AnnJungChan/algorithm/blob/main/Python_basic_test/trial_1/python_function.ipynb\" target=\"_parent\"><img src=\"https://colab.research.google.com/assets/colab-badge.svg\" alt=\"Open In Colab\"/></a>"
      ]
    },
    {
      "cell_type": "markdown",
      "source": [
        "더하기 기능을 하는 함수를 만들어라(return을 사용하지 말 것)"
      ],
      "metadata": {
        "id": "1p25iFN8u3e8"
      }
    },
    {
      "cell_type": "code",
      "source": [
        ""
      ],
      "metadata": {
        "id": "0YMXD-Kdnhz2"
      },
      "execution_count": null,
      "outputs": []
    },
    {
      "cell_type": "markdown",
      "source": [
        "a = 0 \\\\\n",
        "함수를 이용하여, 함수 안에서 함수 밖에 있는 변수 a에 1을 10번 더해서 함수 밖에 있는 변수 a를 바꾸는 함수를 만들어라."
      ],
      "metadata": {
        "id": "UkbtepEgv6CF"
      }
    },
    {
      "cell_type": "code",
      "source": [
        ""
      ],
      "metadata": {
        "id": "iUPXWqv2nied"
      },
      "execution_count": null,
      "outputs": []
    },
    {
      "cell_type": "markdown",
      "source": [
        "lambda 표현식으로 더하기 함수를 구현하고, 3과 7을 더하라."
      ],
      "metadata": {
        "id": "imsnLrcuw1M_"
      }
    },
    {
      "cell_type": "code",
      "source": [
        ""
      ],
      "metadata": {
        "id": "L4aCgcy1ni5o"
      },
      "execution_count": null,
      "outputs": []
    }
  ]
}