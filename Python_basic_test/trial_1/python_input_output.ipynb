{
  "nbformat": 4,
  "nbformat_minor": 0,
  "metadata": {
    "colab": {
      "name": "python_input_output.ipynb",
      "provenance": [],
      "authorship_tag": "ABX9TyNMQOqS6QfTFW7rEm9HNGwJ",
      "include_colab_link": true
    },
    "kernelspec": {
      "name": "python3",
      "display_name": "Python 3"
    },
    "language_info": {
      "name": "python"
    }
  },
  "cells": [
    {
      "cell_type": "markdown",
      "metadata": {
        "id": "view-in-github",
        "colab_type": "text"
      },
      "source": [
        "<a href=\"https://colab.research.google.com/github/AnnJungChan/algorithm/blob/main/Python_basic_test/trial_1/python_input_output.ipynb\" target=\"_parent\"><img src=\"https://colab.research.google.com/assets/colab-badge.svg\" alt=\"Open In Colab\"/></a>"
      ]
    },
    {
      "cell_type": "markdown",
      "source": [
        "데이터가 아래와 같이 주어져있다. \\\\\n",
        "<br>\n",
        "5 \\\\\n",
        "65 90 75 65 34\n",
        "<br>\n",
        "입출력하라."
      ],
      "metadata": {
        "id": "YPGv-kOOSh5D"
      }
    },
    {
      "cell_type": "code",
      "source": [
        ""
      ],
      "metadata": {
        "id": "phgCtarmsjV9"
      },
      "execution_count": null,
      "outputs": []
    },
    {
      "cell_type": "markdown",
      "source": [
        "데이터가 아래와 같이 주어져있다. \\\\\n",
        "<br>\n",
        "3 5 7\n",
        "<br>\n",
        "입출력을 실시하고, 3을 n, 5를 m, 7을 k에 할당시켜라"
      ],
      "metadata": {
        "id": "pKDHwLRVTLy6"
      }
    },
    {
      "cell_type": "code",
      "source": [
        ""
      ],
      "metadata": {
        "id": "ODY_s-1bsjqF"
      },
      "execution_count": null,
      "outputs": []
    },
    {
      "cell_type": "markdown",
      "source": [
        "Hello World \\\\\n",
        "를 입출력하라. \\\\\n",
        "작동은 하지 않으므로 코드만 작성한다."
      ],
      "metadata": {
        "id": "YnV5njR5UMAX"
      }
    },
    {
      "cell_type": "code",
      "source": [
        ""
      ],
      "metadata": {
        "id": "gZenZQUmsj9A"
      },
      "execution_count": null,
      "outputs": []
    },
    {
      "cell_type": "markdown",
      "source": [
        "a = 1 \\\\\n",
        "b = 2 \\\\\n",
        "를 한줄에 출력하라"
      ],
      "metadata": {
        "id": "FGa345-7XUwO"
      }
    },
    {
      "cell_type": "code",
      "source": [
        ""
      ],
      "metadata": {
        "id": "E2jjG1GCskT6"
      },
      "execution_count": null,
      "outputs": []
    },
    {
      "cell_type": "markdown",
      "source": [
        "a = 1 \\\\\n",
        "b = 2 \\\\\n",
        "를 값 하나당 한 줄로 2줄에 출력하라."
      ],
      "metadata": {
        "id": "XYVjFDnDXiO1"
      }
    },
    {
      "cell_type": "code",
      "source": [
        ""
      ],
      "metadata": {
        "id": "-k2jjeaDskyd"
      },
      "execution_count": null,
      "outputs": []
    },
    {
      "cell_type": "markdown",
      "source": [
        "아래 코드는 오류가 발생한다."
      ],
      "metadata": {
        "id": "IPuUOLe7Xrij"
      }
    },
    {
      "cell_type": "code",
      "source": [
        "answer = 7\n",
        "\n",
        "print(\"정답은\" + answer + \"입니다.\")"
      ],
      "metadata": {
        "colab": {
          "base_uri": "https://localhost:8080/",
          "height": 210
        },
        "id": "IiDe36rdYAd5",
        "outputId": "7cf515d6-fe44-4731-8087-879f76fa2f5e"
      },
      "execution_count": 10,
      "outputs": [
        {
          "output_type": "error",
          "ename": "TypeError",
          "evalue": "ignored",
          "traceback": [
            "\u001b[0;31m---------------------------------------------------------------------------\u001b[0m",
            "\u001b[0;31mTypeError\u001b[0m                                 Traceback (most recent call last)",
            "\u001b[0;32m<ipython-input-10-e014b48c76a5>\u001b[0m in \u001b[0;36m<module>\u001b[0;34m()\u001b[0m\n\u001b[1;32m      1\u001b[0m \u001b[0manswer\u001b[0m \u001b[0;34m=\u001b[0m \u001b[0;36m7\u001b[0m\u001b[0;34m\u001b[0m\u001b[0;34m\u001b[0m\u001b[0m\n\u001b[1;32m      2\u001b[0m \u001b[0;34m\u001b[0m\u001b[0m\n\u001b[0;32m----> 3\u001b[0;31m \u001b[0mprint\u001b[0m\u001b[0;34m(\u001b[0m\u001b[0;34m\"정답은\"\u001b[0m \u001b[0;34m+\u001b[0m \u001b[0manswer\u001b[0m \u001b[0;34m+\u001b[0m \u001b[0;34m\"입니다.\"\u001b[0m\u001b[0;34m)\u001b[0m\u001b[0;34m\u001b[0m\u001b[0;34m\u001b[0m\u001b[0m\n\u001b[0m",
            "\u001b[0;31mTypeError\u001b[0m: can only concatenate str (not \"int\") to str"
          ]
        }
      ]
    },
    {
      "cell_type": "markdown",
      "source": [
        "왜 오류가 발생하는가? \\\\\n",
        "정확한 코드로 고쳐라. \\\\\n",
        "이 때, 방법은 3가지이다."
      ],
      "metadata": {
        "id": "ix9_p4zBYHsC"
      }
    },
    {
      "cell_type": "code",
      "source": [
        ""
      ],
      "metadata": {
        "id": "VfBG--mesiXN"
      },
      "execution_count": null,
      "outputs": []
    },
    {
      "cell_type": "code",
      "source": [
        ""
      ],
      "metadata": {
        "id": "vbBAz9eGsilF"
      },
      "execution_count": null,
      "outputs": []
    },
    {
      "cell_type": "code",
      "source": [
        ""
      ],
      "metadata": {
        "id": "SusDXjYOsidI"
      },
      "execution_count": null,
      "outputs": []
    }
  ]
}