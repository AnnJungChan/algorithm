{
  "nbformat": 4,
  "nbformat_minor": 0,
  "metadata": {
    "colab": {
      "name": "python_library.ipynb",
      "provenance": [],
      "authorship_tag": "ABX9TyMrvOh3vouYfm446oxPo6Vo",
      "include_colab_link": true
    },
    "kernelspec": {
      "name": "python3",
      "display_name": "Python 3"
    },
    "language_info": {
      "name": "python"
    }
  },
  "cells": [
    {
      "cell_type": "markdown",
      "metadata": {
        "id": "view-in-github",
        "colab_type": "text"
      },
      "source": [
        "<a href=\"https://colab.research.google.com/github/AnnJungChan/algorithm/blob/main/Python_basic_test/trial_1/python_library.ipynb\" target=\"_parent\"><img src=\"https://colab.research.google.com/assets/colab-badge.svg\" alt=\"Open In Colab\"/></a>"
      ]
    },
    {
      "cell_type": "markdown",
      "source": [
        "[('홍길동',35),('이순신',75),('아무개',50)] \\\\\n",
        "에 대해서 숫자를 기준으로 내림차순으로 정렬하라."
      ],
      "metadata": {
        "id": "ElezmaUHccvr"
      }
    },
    {
      "cell_type": "code",
      "source": [
        ""
      ],
      "metadata": {
        "id": "OdSTqTaguHfO"
      },
      "execution_count": null,
      "outputs": []
    },
    {
      "cell_type": "markdown",
      "source": [
        "A, B, C에서 3개를 뽑아 순서를 고려하여 나열하는 모든 경우의 수\n",
        "\n"
      ],
      "metadata": {
        "id": "YSszP1zPefhi"
      }
    },
    {
      "cell_type": "code",
      "source": [
        ""
      ],
      "metadata": {
        "id": "M9YMLGqyzZ4H"
      },
      "execution_count": null,
      "outputs": []
    },
    {
      "cell_type": "markdown",
      "source": [
        "A, B, C에서 2개를 뽑아 순서를 고려하지 않고 나열하는 모든 경우의 수"
      ],
      "metadata": {
        "id": "Mbl7S68Ge65e"
      }
    },
    {
      "cell_type": "code",
      "source": [
        ""
      ],
      "metadata": {
        "id": "AbURW1z8zcs3"
      },
      "execution_count": null,
      "outputs": []
    },
    {
      "cell_type": "markdown",
      "source": [
        "A, B, C에서 순서를 고려하여 원소를 중복하여 2개를 뽑아서 나열하는 모든 경우의 수"
      ],
      "metadata": {
        "id": "uEpiIOKtfXIL"
      }
    },
    {
      "cell_type": "code",
      "source": [
        ""
      ],
      "metadata": {
        "id": "nmLSqF-iuJgX"
      },
      "execution_count": null,
      "outputs": []
    },
    {
      "cell_type": "markdown",
      "source": [
        "A, B, C에서 순서를 고려하지 않고 원소를 중복하여 2개를 뽑아서 나열하는 모든 경우의 수"
      ],
      "metadata": {
        "id": "s-tTDD2mgMV-"
      }
    },
    {
      "cell_type": "code",
      "source": [
        ""
      ],
      "metadata": {
        "id": "tu981lgmuKIu"
      },
      "execution_count": null,
      "outputs": []
    },
    {
      "cell_type": "markdown",
      "source": [
        "힙정렬을 구현하고 \\\\\n",
        "힙 정렬을 통해 [1,3,5,7,9,2,4,6,8,0]을 오름차순 정렬하라."
      ],
      "metadata": {
        "id": "-MxeN4nihaD0"
      }
    },
    {
      "cell_type": "code",
      "source": [
        ""
      ],
      "metadata": {
        "id": "KBvRUGWX0PQ0"
      },
      "execution_count": null,
      "outputs": []
    },
    {
      "cell_type": "markdown",
      "source": [
        "힙 정렬을 통해 [1,3,5,7,9,2,4,6,8,0]을 내림차순 정렬하라."
      ],
      "metadata": {
        "id": "nGXRtVkpje50"
      }
    },
    {
      "cell_type": "code",
      "source": [
        ""
      ],
      "metadata": {
        "id": "BAqMb672uLJ-"
      },
      "execution_count": null,
      "outputs": []
    },
    {
      "cell_type": "markdown",
      "source": [
        "리스트 [2,3,4]에 대해서\n",
        "1. 가장 앞쪽에 1을 삽입하라\n",
        "2. 가장 뒤에 5를 삽입하라\n",
        "3. 가장 앞쪽 원소를 제거하라\n",
        "4. 가장 뒤에 원소를 제거하라\n",
        "<br>\n",
        "각 절차마다 print() 할 것(이 때, list 형태의 output이 필요하다.)"
      ],
      "metadata": {
        "id": "ofIu1zGqpDLl"
      }
    },
    {
      "cell_type": "code",
      "source": [
        ""
      ],
      "metadata": {
        "id": "42O9SAXIuNHY"
      },
      "execution_count": 42,
      "outputs": []
    },
    {
      "cell_type": "code",
      "source": [
        ""
      ],
      "metadata": {
        "id": "Z8DGlDsNyadA"
      },
      "execution_count": null,
      "outputs": []
    },
    {
      "cell_type": "markdown",
      "source": [
        "리스트 ['red','blue','red','green', 'blue', 'blue'] 에 대해서, \\\\\n",
        "1. blue는 몇번 등장했는가?\n",
        "2. greeen은 몇번 등장했는가?\n",
        "3. 각각의 등장 횟수를 사전의 형태로 만들어라"
      ],
      "metadata": {
        "id": "TrzJ0jUQqmNc"
      }
    },
    {
      "cell_type": "code",
      "source": [
        ""
      ],
      "metadata": {
        "id": "vCvQGKLwuN_H"
      },
      "execution_count": null,
      "outputs": []
    }
  ]
}