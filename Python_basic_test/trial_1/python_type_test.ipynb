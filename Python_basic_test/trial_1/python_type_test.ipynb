{
  "nbformat": 4,
  "nbformat_minor": 0,
  "metadata": {
    "colab": {
      "name": "python_type_test.ipynb",
      "provenance": [],
      "authorship_tag": "ABX9TyNcgC8hr4oATkHr1bz36/2O",
      "include_colab_link": true
    },
    "kernelspec": {
      "name": "python3",
      "display_name": "Python 3"
    },
    "language_info": {
      "name": "python"
    }
  },
  "cells": [
    {
      "cell_type": "markdown",
      "metadata": {
        "id": "view-in-github",
        "colab_type": "text"
      },
      "source": [
        "<a href=\"https://colab.research.google.com/github/AnnJungChan/algorithm/blob/main/Python_basic_test/trial_1/python_type_test.ipynb\" target=\"_parent\"><img src=\"https://colab.research.google.com/assets/colab-badge.svg\" alt=\"Open In Colab\"/></a>"
      ]
    },
    {
      "cell_type": "markdown",
      "source": [
        "크기가 N이고, 모든 값이 0인 1차원 리스트로 초기화"
      ],
      "metadata": {
        "id": "dwjyrh5aK5qL"
      }
    },
    {
      "cell_type": "markdown",
      "source": [
        "리스트 컴프리핸션을 이용하여 0부터 19까지의 수 중 홀수만 포함하는 리스트를 작성"
      ],
      "metadata": {
        "id": "1Eyhnn7hMcpR"
      }
    },
    {
      "cell_type": "markdown",
      "source": [
        "일반적인 반복문을 이용하여 0부터 19까지의 수 중 홀수만 포함하는 리스트를 작성"
      ],
      "metadata": {
        "id": "upUkigaSMmUU"
      }
    },
    {
      "cell_type": "markdown",
      "source": [
        "리스트 컴프리핸션을 이용하여 0부터 9까지의 수의 제곱 값을 포함하는 리스트"
      ],
      "metadata": {
        "id": "XZy55dkkM4iI"
      }
    },
    {
      "cell_type": "markdown",
      "source": [
        "3 * 4 크기의 2차원 리스트 초기화"
      ],
      "metadata": {
        "id": "gS4HKRGiNPWE"
      }
    },
    {
      "cell_type": "markdown",
      "source": [
        "1부터 9까지 모두 출력하라"
      ],
      "metadata": {
        "id": "PfYe8liFezRt"
      }
    },
    {
      "cell_type": "code",
      "source": [
        "a = [1,4,3]\n",
        "print(\"기본리스트 : \", a)"
      ],
      "metadata": {
        "colab": {
          "base_uri": "https://localhost:8080/"
        },
        "id": "MGh6HrQKPOI3",
        "outputId": "fbec1754-ba3b-44bc-cf26-879fbf6cb92a"
      },
      "execution_count": 50,
      "outputs": [
        {
          "output_type": "stream",
          "name": "stdout",
          "text": [
            "기본리스트 :  [1, 4, 3]\n"
          ]
        }
      ]
    },
    {
      "cell_type": "markdown",
      "source": [
        "인덱스 2에 3을 추가하라"
      ],
      "metadata": {
        "id": "ue2Sf9nQPyQf"
      }
    },
    {
      "cell_type": "markdown",
      "source": [
        "값이 3인 데이터의 갯수는?"
      ],
      "metadata": {
        "id": "DGJlSHf4P8B9"
      }
    },
    {
      "cell_type": "markdown",
      "source": [
        "값이 1인 데이터를 삭제하라"
      ],
      "metadata": {
        "id": "-PaJZqjuQCYv"
      }
    },
    {
      "cell_type": "code",
      "source": [
        "a = [1,2,3,4,5,5,5]\n",
        "print(\"기본리스트 : \", a)"
      ],
      "metadata": {
        "colab": {
          "base_uri": "https://localhost:8080/"
        },
        "id": "E7UthI5fQ6tM",
        "outputId": "b2361593-173a-4482-eff7-0b002f4fbd06"
      },
      "execution_count": 38,
      "outputs": [
        {
          "output_type": "stream",
          "name": "stdout",
          "text": [
            "기본리스트 :  [1, 2, 3, 4, 5, 5, 5]\n"
          ]
        }
      ]
    },
    {
      "cell_type": "markdown",
      "source": [
        "리스트 a에서 3과 5를 제거하라"
      ],
      "metadata": {
        "id": "_fXoAecVQyBX"
      }
    },
    {
      "cell_type": "markdown",
      "source": [
        "튜플은 선언한 값을 바꿀 수 없으므로 오류가 발생"
      ],
      "metadata": {
        "id": "xyvpk508TzlY"
      }
    },
    {
      "cell_type": "markdown",
      "source": [
        "사전을 만드시오"
      ],
      "metadata": {
        "id": "S3PPZAEDU1vX"
      }
    },
    {
      "cell_type": "markdown",
      "source": [
        "![image.png](data:image/png;base64,iVBORw0KGgoAAAANSUhEUgAAASYAAABsCAYAAADHcB9kAAAZi0lEQVR4nO3deXhM9/7A8fdMJpkkstqSEMtFY4tGr6JBa29dokIILtV7LaVF8WuLUkV/buv2Ktpq3BKUxloERe0NjdIIiUgIDUnEllWaSGSbmd8f+TmVZmFGIkM/r+fxPJnzXc73jPN85nu+c+Z8VAaDwYAQQpgRdXUPQAgh/khzOSuPuzqZNAnjWVuoyJNzR5jAxkJFUwfrcss1uTo92xNuP8YhiafF3OfqMz/ienUPQzyBBjV2rrBcLuWEEGZHApMQwuxIYBJCmJ0qDUwGvR5dUVGl96vXFaHX6yq9X2E+qvP/uKigoFr2K35XaYEpK/kmP636ssS20DVfEbVna2XtQnHtXAQ7571T6f2K6hH6TQC/3Sq5iL7+7dfJvJ5ULePZ9D+jSU+8Ui37FsWMDkwxB3dzJnij8i96/04A7qSncuq7tUq93MwMTgdvwPOVAXy/YAaJZ35RygwGA0cC/sP+xR+Z9KnYwOt5Ui9fIvnXC0a3FdUjYucmlg3qWuJf3ImjAIR/t47s1GSl7pVffkKlUhFzcDcnN6wq1dehLz9RzruyhHy9mPhTP5s81ucHv8bhZQtNbi8endGBKS0hjlsXY7h1MYZz+4I5sX5lmfXCNn9Dq559sbS24Xp0BDkZaUBxUNr/2Tx+DT3Ci2Mmo1ZbGD1olUrF80Ne46fVy4xuK6pHq14+jFq+iVHLN9HnvY9IS7hM7cZNy6x7bNUXdBj6D5zdG/LLxlXc/+OEgru5/LJhFS7PtCx3XylxseRkpJo8Vo+XenHjwjnSEuJM7kM8GqMDU9dxU+k7cwF9Zy6gXisvajcq++SK/XEfjZ/3LrHtXlBKijrNqP9uwtbx93sZfrt1nTPBG7n00yEK8+4CEHfiaIlP0tzMDOVT9i/tO/Nr6GF0hYXGHoKoBtoadji4uGHj5MyxlUvpOOyfOLm5K+XfvjWCw1/9m9zMDBLP/EKjv76Ax4u9uJOeyq2LMUq9uJ9DqNWoCXWaeJB3J5uze7YRtuUbks6GU9avq84f3ltiVv5r6BHyc7KB4jXQuJ9DCN8WVCIIqdUWNHquA7EhB6rirRAPwajAlHkjiaCJI1g73p/AUf0J3/otrV9+tVQ9g15P6pVLOLs3+n3b/welhNMnGbV8IzYOjkpZYsQvrH3Dn9vXEzm7eyvr3hxOYd5dLobs5+SGQKVexM7NxB75AQBH13oU5uWRlXLT6IMWj59Bryf+1HFWvtYPR7f69Joyu0T5awHr6TlxBmkJcdg61URbww4rG1tadHuFC4f3KvXOH9qDZx9f8nPusGLE37j8/x9e22ZNImLHplL73TrjTfT3fQGz55NZZKcmYzAY2PLeG5z6bh1Zt24QNOk1zt+3n5oNGpN6+WIVvBPiYWiMqVyjVh16vT0LCysrzv2wgzvpqTTr1LVUvbzsLHRFRTjUdVO2HQv8nKKCfHIy0sjLzkJbw14p279oPi9Pm0OL7n0A2DrzLWIOfM9fBw5n47TR9Jr8Piq1mpiD39N35r8AUFtosK9dlzvpqTjXb2jSwYvHw2AwsP7tUajUarpPeJcW3fugUqmUcgcXNywsrQDIyUgvcd549hnAwaX/osfE6RQV5PNr6BF6vf0+WSk38ernR9c3pgFgZVODpLPh/HXg8Ica06+hh7l9/SrjN+5HpVLxbL9BrJ88ipbd+6BSq3FwcePq2fBKfBeEMYwKTJZaa1ybt+bGhShOBK1g5FdBqC1Kd6G1s0OttuBOeiraGnYA2Dg68fel37Bv0Ty2z36b11duQa22QFdYyM2L0YSu+Yqfv/0agKyUW1jbO9D2VX9qONfm6tlTONR1o/DuXeq3bgsUfwLn3E4rcTkozJNKpWLEl98StmkNDi71KMjN4dAXH9Pv/Y+5fOIoLXv8DbcWngDYODpzJz1FadvMuxs7PpxK6pVLZFxLxOWZFsolYLPOPTiw5H+5GRvN7WuJpZYOKnI9OpKcjDTWjBmkbMu8eY2c2+nY1arDnbRUObeqkVGBCSBq73Z++HQOvafMotFzHcuso7bQULNhY25fS6RWw78A0MH/H1jZ1uCVd+by32EvE7p6GS+NnYLawgKNlZa/Tf9ftHZ2Sh/3ZlTtBv2dcz/swMnNnbavDlE+aYsv4VQ4utU39hBENVCpVMSfOs7N2HPUbNCYcz8E0+/9j0k4c5IrJ4/hPfINAGo1asKdtBQK8/Ow1FpjYWlJy559OX94LxlJCXj2GQBAbMh+fvj0QwbM+4yXxk0lev9OrkWdLnPff1w8B7CytaVJxxd5cczkEnVtHJwAyEhKoFajJpX+PoiHY9QaU3riFU4EreDvn6+lw9B/Vli3eddXSCpjKqytYcegBV9wdOVSkqJOo1KradapGwmnf6Z242bUbPgXvl8wg7gTIQB49vHl158OE3Pwe57t66f0czXyFE29u6Kx0hpzCKKaGfR69LrixWi9Xkfc8R9JjY/j9vWrANjXrku91l4lgkybPr7EHNjFr6FHaN3LB4AbMWdxb/NXmnTogsZKS/T+nRj0+lL7s3WuyfXoSAB+Pf4juZkZADT17sbVyFPYODhRu3EzspJvEjTpNdQWFhgMBpKiwmne9eUqfS9E+YwKTLUaNWH8hn008Hr+gXU7DvsnUXu3l/mtWQOv5+nyj4lsnz2ZvDvZ/O29j4gNOcCXvi+yqNdzOLm549WvOAhZ29nzlw6dsatdF/s6Lkofp7aso/PrbxozfGEGNFotVja26HU6Nv/PWOxq1aHnxBl8++ZwMq4lAtDlHxM5teX3e+IatXuB3MzbuLVsQ42atQFo1duHhPCf+cqvOytG9KHRcx2JDdmvBKF7Xhw9maCJf2e5fy+i9+2gblMPAFw9WuE9chzLh/bmq8E92DF3Gr7zl6BSq4kPC8XRtb5yeSkeP1VURo6hMh57knkjibAta3l56gfKtkNffIxr89Z4vjLgofq4m/UbKrUaazv7Etu3zZpEi+59aN27+NPyZmw0R1cuZdhngWV1Ix4TYx97Er1/J2kJlwHQWGlxdK1Pix590Fhpidq7nVa9+mGptcZgMLBmjB9+nyzD0aVeuf3pCgvJzczArlYdVGo1d3/LxNrBscTCOhRfvumLirC2dyjVh16vIyc9jRq1aiv31G16Zyxdx02VwFSFBjV2po2zbbnllRaYylJUkE/B3VyTFxHTE68QvX8nsSH7GRe0Rzlxiu9DUSkL66J6VOXzmPKys1BrNFjZlH/yVpXs1OQSs3NR+R4UmIxe/DaGxkr7SGtAao0GjdaaYYtXlbhD/P5bDcTTqazZzeMiQan6VWlgelTO9RvKOpIQf0LyPCYhhNmRwCSEMDsSmIQQZkcCkxDC7KiScwsM+XrJDSaMZ6lSUSiJnIUJtGoVdW0syy1XSYpwYarAwFWMHTumuochnkJyKSdMlp2dXd1DEE8pCUxCCLMjgUkIYXYkMAkhzI4EJiGE2am0wLR//34uXHhwnrfPP/+8snYphHhKmRSYIiMjmTBhQoltP/30E5cvFz9r59ixY+zevbvEv3tBa82aNY84ZPEkCw8PZ/DgwejLeNqksXQ6He+9914ljEqYG5MCU2FhYYVfFScnJ3Pt2jXl35YtW9i+fbvJgxRPj+XLl5Ofn8/Ro0cfuS+DwUBEREQljEqYG5Mee5KWlkZ6enq55UOGDCnxOjMzE2dnyTjxZ5eVlUVycjLz5s1j6dKldO/eHSie+Zw+fZqGDRuye/dutFot/fv3x8nJqcKyP4qKiuLHH3+kcePG9OvXD43GrJ/qIypg0ozp4sWLnD9/vtR0fO/evaxfvx6A9PR0Ll26BEBSUhJubsW5wgoKCkhISODOnTuPMm7xBNqwYQNDhw6lXbt2XLx4kczMTKB4Bj5t2jQ+/vhjPDw8sLGxYcCAAWRlZVVYdr+tW7eycOFC2rdvz40bNxg7dmx1HKKoJEZ/pBgMBrZt24anpyd79+7Fx8dHKXNwcFBmRhEREezbt49FixaRlJSEh0fxQ+BTU1NZsGABY8aMwdv74fOAiSff5s2b2bNnDyqViiFDhrBx40befLP4QYAXLlzg0KFD2NjYAJCfn8+aNWsYP358uWUTJ05U+v7yyy85cOAAWq2WTp06ERcXR2RkJG3btn38ByoemdGBad26dXTq1Ilx48YxZMgQOnXqRM2aNQHo0qULffv2LdVm2LBhNGlSnKOrfv36BAZKEoE/m9OnT5OWlsaKFSuA4hn1d999pwQmT09PJfAAdO7cmfnz5z+wDIp/GpOQkMCUKVOUbZcuXcLLy0sC0xPKqMAUHBzMqlWr2LVrF05OTsyaNYu+ffuycePGMuvr9XoyMjJo3749Z86cKXNdQPw5rFy5kvHjx9OsWTMAWrRoQVhYGFFRUXh4eJCbm1uifm5uLra2tsrf5ZUBWFlZ4eHhwaJFi5RteXl5aLWSc/BJ9dCBKT8/n5CQEHbv3o2DQ/GD4ocMGYKLiwuF9+WOO3jwIJ999hkajQZra2smT56Mra0trq6u9OrVq/KPQJi9nJwcfvnlFwICAlCrf1/WvHv3LqtXr2bhwoWcO3eO8+fP06pVK6B4Pere+VJRGYBWq0WtVpOZmYm7e3H68FGjRjF79mzatWv3uA5TVKKHDkxarbbMmyNfeumlEq979+5N7969H31k4qmxefNmBg0aVCIoAfj4+PDBBx8wf/58unTpwuLFi7G3tyc9PZ0aNWowYMAACgoKyi27/8uXzz77jJEjR9KxY0euXr1Ky5YtJSg9wSrt+9R27drRoEGDB9YbOHBgZe1SPCFGjx5d5nZLS0tiYmLIy8vD0tKSwMBAUlJSsLKyKnHZX16ZWq3m0KFDQPE61JEjR0hISMDR0ZFatWpV/YGJKlNpgelhA87cuXMra5fiKVS3bl2TyqA4UN37kkU82eRHvKLaWVpaMnPmTKPLxNNLApOodhYWFnTr1s3oMvH0ksAkhDA7EpiEEGZHApMQwuxoCgsLuXv3bnWPQzyh/vhjWiEeho2NDZaWFeSVu379uiEy8uxjHJJ4WuTn58vPPoRJ2rb1ol69euWWS8JLYbIlS5YybdrU6h6GeArJGpMQwuxIYBJCmB0JTEIIsyOBSQhhdiotMAUFBZGSklJhnbS0NIKCgh7Yl+SeE+LPzajAFB0drTxmAiA0NJRTp04BsGPHDjIyMgBYsWKF8vf9MjMz2bFjBwBHjhwhLCyszP1I7rmnzyeffELfvn3x8fHBx8cHPz8/vvjiC3Q6XXUPTZghowJTXFwcJ0+eVF5HRkYSExNTqt6uXbseeOPdmTNnOH/+vDG7F0+wmJgYPv30UyUB6tq1a7ly5Qr//ve/q3towgwZ/TwmnU5HUVGR8rcQprCzs2PKlCm8//77yrbo6GgOHDiARqNh8ODB1KtXj1u3bpGVlUV2djZHjx6lZcuW9OnTB5VKZVIbg8HAoUOHOH36NK6urvj7+5d4frgwD0avMW3YsAFfX198fX2VjBf3LF++nA0bNlTYPioqinfffbfMS717cnJyePfdd0tcNoqni06nY926dfj5+QHFywKzZs3Cy8uLBg0aMGjQIAoLCwkPD2fixIkcP36cLl26sHHjRr7++muT2yxcuJB9+/bx0ksvkZubyxtvvFFt74Eon9Ezptdee40PPvgAgGXLlpUo8/LyomXLlhW2b9iwISNHjmTPnj3l1tFqtYwcORJXV1djhyfM2FtvvYWDgwMGg4HExEScnZ2V9E03btxgyZIlNG3aFIBNmzYRFxcHgIuLC2+//TYAM2bMYPbs2UyYMMGkNgCLFi1CpVLh7e2tBCxhXio1h3KnTp1o0aJFmWUGgwGDwYCTkxNt27Ytdzak1+vRaDSSD+wpFBAQgKenp/L65MmT+Pv7ExISgp+fHzt37mTt2rWkp6dz4cIF8vPzAZTsKABNmjRRsjib0mbChAmsW7eO6OhocnNzyc7OrvLjFsYzOjDFxsaye/duoPj6/oUXXiiz3vTp07G2tiYjI4O8vDwMBkOp532vWrWKH3/8kezsbGWx/J133jF2SOIJ9cILL3D79m2KioqYOnUqnp6eTJs2DWdn5xKXWPdnV7m3tgQwZcoUo9oYDAYGDhzI7Nmz8ff3x8bGhg4dOlTlIQoTGRWYnn32Wa5du0ZCQgJQnJmiY8eOpeqtXr2a/Px8LCwsqFmzJtbW1gDKNBtg3Lhx+Pv7Y2Fhgb29vZKrDiixICqeXrGxsVhZWaHRaDh79ixLly5Fo9GQl5fHsWPHlMu88hjbJjs7G61Wq6QXu3TpEvHx8ZV6TKJyGBWYmjRpwqRJkx5Y70HZLAAcHR1xdHQ0ZvfiCXdvjQmK1xGLioqUG26HDRtGr1698Pb25ubNm0ydOpXFixczdOjQcvszto2DgwO1a9dm+PDhuLu7YzAYGDFiBAEBAbz11luVf8DCdIZKEhAQYLhx40aFdZKTkw0BAQEP7GvevHmVNSxRhRYvXlKp/aWkpBiSkpKqtI1erzfEx8cbMjIyjB2eeIzkeUzCZPI8JlFV5Ee8QgizI4FJCGF2JDAJIcyOBCYhhNmRwCSEMDsSmIQQZkfyygmTSV45YaoH5pUrKCgwSCZeYYpVq1YzZszo6h6GeAI9KBOvxtLSssIKQlTk/t84ClFZZI1JCGF2JDAJIcyOBCYhhNmRwCSEMDvVFphyc3PJy8srs+zYsWOcPSu3MAjxZ2X0o3W3bdvGzZs3yyzr1q0bnp6eJCUlsXPnzjLr2NraMnr0aAICAnB1dWXkyJGl6oSFheHu7o6Xl5exwxNmLCUlhblz53L58mVUKhUtWrRgzpw51K5du7qHpkhMTKRu3brY2NhU91D+1IwOTK6urmXeVBcUFISbmxuenp5YW1vTuHHjUnV0Oh1z5sxh9OjS977s3LmTgwcPAhAREcHkyZONHZowYzdv3mTAgAEsWbKETp06oVKp2L17NwMGDODIkSNmc6PmJ598wqRJk0okTRCPn9GBqXPnzqW26fV6goODlTs569Spg4+PT6l6V69exc3Nrdx+W7duDUBgYKCxwxJmbsGCBcydO7fE+ePj40NYWBihoaH07NkTKL6MDw8Px8PDg759+ypJBQoLC9m1axdXrlyhS5cueHt7K/2U1aaoqEiZeX///ffY29szdOhQtFot0dHR1KtXj5o1awKQnJxMZmYmv/32G/Hx8Rw+fBhbW1uaNGnyGN8hcT+jA5O/vz/Z2dmoVCol+4RerycsLIx58+YBxSnCly9frpTfy4CakZGhBJ8/cnBwIDs7Gzs7O7Oa2ovKceLEiVJ5CAE++ugj5e8PP/yQ3Nxc/Pz8CA0NJSgoiI0bN6LT6fD19aV///60b9+ehQsX4ufnx6hRo8ptk5eXx/jx43n11Vd59dVXOX78OK+//jqbNm3im2++YfDgwUqGn4iICMLDw+nZsyd6vR6dToder39s740ozejAtGXLFqB48VqtVisZUNq0aUP9+vUBlJMB4Pbt2zg7OwOwdu1akpOTAXBycmLlypVs3rwZg8GAlZUV9evXZ8yYMY9+VMKsFBYWolarS6Re+qNr164RGRnJrl27APD29mbq1KmEhISQkpJC165dlYSVbdq0YdmyZRW2ad++PVlZWXz00UdYWFjQoUMHmjdvXuE4vb29adq0KS+//DLNmjWrpKMXpjA54WVAQABOTk6MHTuW3NxcrK2tS+Tyusfb25vY2FgALly4oEzlx44dy9ixY5V6Fy9eBKB58+aSGvwpY2lpSXmPlr9x4wYZGRkkJiby4osvlijr0aMHp06dIjU1FX9/f2V7rVq1mDt3Lnv27Cm3Tfv27WnevDkWFhZA8ay9Tp06lXxkoqpUSiZeg8FAQEDAA+sNHTq03Ov2+fPno1KpWL9+PUOGDDGbxVBROdzd3YmOji61qLx69WqaNm2Km5sbOTk5JcpycnKws7MjNze3VFl4eDg1atQotw1Q6oPy/hnb/YEyMzPT9AMTVeKhA1NRURGLFi1SXh87dgxra2vS0tKUbYcPH0atVpe4Pk9PT2fhwoWl+ps0aZJyAgUHB5OamkpRURE7duzA19fXpIMR5mvOnDlMnjyZ4OBgnJycAIiPj2f79u0cPXoUlUrFnDlzmD59Ora2tuh0Or799ls+//xzMjIy+Oqrr+jatSsqlYpLly6xaNEiAgMDy21TERcXF+Lj45UF9L179+Lh4QGAhYUFRUVFVftmiAd66MCkVqvp0qWL8vr+v++n0+mU6XNF9aysrLh+/Tr/+c9/SEhIYNu2bRgMBoYPH05ISAjTp0+v8Hkt4sny/PPPM2fOHPr370/Dhg2xsLAgPj6e1atXY29vDxQvft9b4I6MjGTw4ME888wzABw9ehRfX19atWpFWFgYgYGB2NnZldvmzp075Y5lxIgRDBw4kKioKDIzM/Hy8uLeo3969OjBzJkzmTFjBt27d6/6N0aUqVrzym3duhUXF5cS6wQGg4Hg4GD0ej2DBw+urqGJh2BqXrmUlBR0Oh2urq6lFsR1Oh0JCQm4u7uXupy/e/cu169fp3Hjxmg0modqU56CggKSkpJo1KhRib4A8vLyUKlUspxQjSThpTCZJLwUVUV+xCuEMDsSmIQQZkcCkxDC7EhgEkKYHQlMQgizoyksLETSNwlTZWVlVfcQxBPoQembJOGlMFlZPwkR4mE8MOGl3MckhDA3ssYkhDA7EpiEEGZHApMQwuxIYBJCmB0JTEIIsyOBSQhhdv4Pc9qPX/RkUVYAAAAASUVORK5CYII=)"
      ],
      "metadata": {
        "id": "ueCt7mJlUN6-"
      }
    },
    {
      "cell_type": "markdown",
      "source": [
        "data는 사과를 키로가지는 데이터가 존재하는가? "
      ],
      "metadata": {
        "id": "MdFYQCXOU2-6"
      }
    },
    {
      "cell_type": "markdown",
      "source": [
        "키만 뽑아라"
      ],
      "metadata": {
        "id": "3R0ycGNaVM5Z"
      }
    },
    {
      "cell_type": "markdown",
      "source": [
        "값들만 뽑아라"
      ],
      "metadata": {
        "id": "kvf_33w_VRch"
      }
    },
    {
      "cell_type": "markdown",
      "source": [
        "각 키에 대한 값을 하나씩 뽑아라"
      ],
      "metadata": {
        "id": "mx-JuP_VVbv5"
      }
    },
    {
      "cell_type": "markdown",
      "source": [
        "기본 데이터 셋"
      ],
      "metadata": {
        "id": "rDSJCW1DbY27"
      }
    },
    {
      "cell_type": "code",
      "source": [
        "data = set([1,2,3])\n",
        "print(data)"
      ],
      "metadata": {
        "colab": {
          "base_uri": "https://localhost:8080/"
        },
        "id": "eNb9q2uMbVpG",
        "outputId": "df60bf2b-e5c8-4526-e89b-d6e2d380dae3"
      },
      "execution_count": 102,
      "outputs": [
        {
          "output_type": "stream",
          "name": "stdout",
          "text": [
            "{1, 2, 3}\n"
          ]
        }
      ]
    },
    {
      "cell_type": "markdown",
      "source": [
        "4를 추가하라"
      ],
      "metadata": {
        "id": "HUcXynDVbfkS"
      }
    },
    {
      "cell_type": "markdown",
      "source": [
        "5,6을 추가하라"
      ],
      "metadata": {
        "id": "nWQprTxvbknB"
      }
    },
    {
      "cell_type": "markdown",
      "source": [
        "3을 삭제하라"
      ],
      "metadata": {
        "id": "PnB2O3bcbrDa"
      }
    }
  ]
}