{
  "nbformat": 4,
  "nbformat_minor": 0,
  "metadata": {
    "colab": {
      "name": "sorting_basic.ipynb",
      "provenance": [],
      "collapsed_sections": [],
      "authorship_tag": "ABX9TyNOd7a7nrnjDA4INZ+qe+s3",
      "include_colab_link": true
    },
    "kernelspec": {
      "name": "python3",
      "display_name": "Python 3"
    },
    "language_info": {
      "name": "python"
    }
  },
  "cells": [
    {
      "cell_type": "markdown",
      "metadata": {
        "id": "view-in-github",
        "colab_type": "text"
      },
      "source": [
        "<a href=\"https://colab.research.google.com/github/AnnJungChan/algorithm/blob/main/Sorting/sorting_basic.ipynb\" target=\"_parent\"><img src=\"https://colab.research.google.com/assets/colab-badge.svg\" alt=\"Open In Colab\"/></a>"
      ]
    },
    {
      "cell_type": "markdown",
      "source": [
        "# 정렬 알고리즘\n",
        "\n",
        "- 데이터를 특정한 기준에 따라서 순서대로 나열\n",
        "- 오름차순, 내림차순\n",
        "- 이진탐색을 위한 밑바탕, 이진탐색을 위한 전처리 과정\n",
        "- 선택 정렬, 삽입 정렬, 퀵 정렬, 계수 정렬\n",
        "- 알고리즘의 효율성에서 중요한 문제로 작용\n"
      ],
      "metadata": {
        "id": "7-47q9PpH42t"
      }
    },
    {
      "cell_type": "markdown",
      "source": [
        "![image.png](data:image/png;base64,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)"
      ],
      "metadata": {
        "id": "RmaO0VDuIaxm"
      }
    },
    {
      "cell_type": "markdown",
      "source": [
        "- 컴퓨터는 인간과 다르게 데이터의 규칙을 직관적으로 알 수 없음\n",
        "- 어떻게 정렬할 것인지를 소스코드로 명명해야함\n",
        "- 우선 오름차순으로 정렬을 시키면, 내림차순으로 정렬을 시키지 않아도 됨(그냥 reverse 쓰기!)"
      ],
      "metadata": {
        "id": "tHjdZwr0IfFb"
      }
    },
    {
      "cell_type": "markdown",
      "source": [
        "# 스와프\n",
        "\n",
        "- 스와프는 파이썬에만 있는 유용한 두 객체의 값 바꾸기 함수\n",
        "- 객체의 값을 변경할 때 유용하다"
      ],
      "metadata": {
        "id": "W9GN1FjiMJSk"
      }
    },
    {
      "cell_type": "code",
      "source": [
        "array = [3,5]\n",
        "\n",
        "array[0], array[1] = array[1], array[0]\n",
        "\n",
        "print(array)"
      ],
      "metadata": {
        "colab": {
          "base_uri": "https://localhost:8080/"
        },
        "id": "TgdGC8o7MUMH",
        "outputId": "a23a772c-8955-48c5-eb6e-59adaba529d9"
      },
      "execution_count": null,
      "outputs": [
        {
          "output_type": "stream",
          "name": "stdout",
          "text": [
            "[5, 3]\n"
          ]
        }
      ]
    },
    {
      "cell_type": "markdown",
      "source": [
        "array의 원소들이 서로 바뀐 것을 확인할 수 있다."
      ],
      "metadata": {
        "id": "svHMH44RMa00"
      }
    },
    {
      "cell_type": "markdown",
      "source": [
        "# 선택 정렬\n",
        "\n",
        "- \"가장 작은 것을 선택한다\"의 의미\n",
        "- 데이터가 무작위로 있을 때, 가장 작은 데이터를 선택해 맨 앞에 있는 데이터와 바꾸고, 그 다음 작은 데이터를 선택해 두 번째 데이터와 바꾸는 과정을 반복\n",
        "\n",
        "** 단지 위치만 바꾸는 것이다! 다른 것을 바꾸는 것이 아닌 위치만 변경시킨다!! **\n",
        "\n",
        "- 즉, 맨 앞에 있는 데이터와 가장 작은 데이터의 위치만 변경시킨다.\n",
        "\n",
        "- 시간복잡도가 O(N^2)임\n",
        "- 선택정렬의 경우 데이터의 갯수가 10,000개 이상이면 정렬 속도가 급격히 느려지는 것을 확인할 수 있음\n",
        "- 매우 비효율적\n",
        "- 코딩 테스트에서는 특정한 리스트에서 가장 작은 데이터를 찾는 일이 잦으므로 선택 정렬 소스코드 형태에 익숙해질 필요가 있다."
      ],
      "metadata": {
        "id": "QagURsKpI4C9"
      }
    },
    {
      "cell_type": "markdown",
      "source": [
        "## 문제\n",
        "\n",
        "[7,5,9,0,3,1,6,2,4,8]을 선택정렬을 이용해 오름차순으로 정렬하라."
      ],
      "metadata": {
        "id": "ogOMK8iMKF1d"
      }
    },
    {
      "cell_type": "markdown",
      "source": [
        "### 풀이\n",
        "\n",
        "- 스와프를 이용하라"
      ],
      "metadata": {
        "id": "oW5-otR9K5zI"
      }
    },
    {
      "cell_type": "code",
      "source": [
        "array = [7,5,9,0,3,1,6,2,4,8]\n",
        "\n",
        "for i in range(len(array)) :\n",
        "    min_index = i\n",
        "\n",
        "    for j in range(min_index + 1, len(array)) :\n",
        "        if array[min_index]>array[j] :\n",
        "            min_index = j\n",
        "    array[i], array[min_index] = array[min_index], array[i]\n",
        "\n",
        "print(array)"
      ],
      "metadata": {
        "colab": {
          "base_uri": "https://localhost:8080/"
        },
        "id": "GkMKghx0LMhX",
        "outputId": "e5435170-41c3-4a49-9d1a-89f62451ebf3"
      },
      "execution_count": null,
      "outputs": [
        {
          "output_type": "stream",
          "name": "stdout",
          "text": [
            "[0, 1, 2, 3, 4, 5, 6, 7, 8, 9]\n"
          ]
        }
      ]
    },
    {
      "cell_type": "markdown",
      "source": [
        "# 삽입 정렬\n",
        "\n",
        "- \"데이터를 하나씩 확인하며, 각 데이터를 적절한 위치에 삽입하면 어떨까?\"\n",
        "- 선택 정렬에 비해 실행 시간 측면에서 더 효율적인 알고리즘\n",
        "- 필요할 때만 위치를 바꾸기 때문에 데이터가 **거의 정렬되어 있을 때 훨씬 효율적**\n",
        "- 특정한 데이터가 적절한 위치에 들어가기 이전에, 그 앞에까지의 데이터는 이미 정렬되어있다고 가정\n",
        "- 정렬되어 있는 데이터의 리스트의 적절한 위치를 찾은 뒤에, 그 위치에 삽입된다는 점이 특징\n",
        "- 삽입 정렬은 첫번째 데이터는 그 자체로 정렬되어 있다고 생각하기 때문에 두번째 데이터부터 시작\n",
        "- 삽입 정렬에서는 특정 데이터의 왼쪽에 있는 데이터들은 이미 정렬된 상태이므로 자기보다 작은 데이터를 살펴볼 필요 없이 그 자리에 삽입됨\n",
        "- 시간복잡도 : O(N^2)\n",
        "- 반복문이 2번 중첩되어 사용됨\n",
        "- 거의 정렬되어 있는 상태로 주어져있는 문제는 삽입정렬을 이용하자!"
      ],
      "metadata": {
        "id": "358EOgZQMhfk"
      }
    },
    {
      "cell_type": "code",
      "source": [
        "array = [7,5,9,0,3,1,6,2,4,8]\n",
        "\n",
        "for i in range(1,len(array)) :\n",
        "    for j in range(i,0,-1) :\n",
        "        # 인덱스 i부터 1까지 감소하며 반복하는 문법\n",
        "        if array[j]<array[j-1] :\n",
        "            array[j], array[j-1] = array[j-1], array[j]\n",
        "        else :\n",
        "            # 자기보다 작은 데이터를 만나면 그 위치에서 멈춤\n",
        "            break\n",
        "\n",
        "print(array)"
      ],
      "metadata": {
        "colab": {
          "base_uri": "https://localhost:8080/"
        },
        "id": "zjkq7pirGwu_",
        "outputId": "0d29fd31-459b-430a-aa45-92ce9580f597"
      },
      "execution_count": null,
      "outputs": [
        {
          "output_type": "stream",
          "name": "stdout",
          "text": [
            "[0, 1, 2, 3, 4, 5, 6, 7, 8, 9]\n"
          ]
        }
      ]
    },
    {
      "cell_type": "markdown",
      "source": [
        "# 퀵 정렬\n",
        "\n",
        "- \"기준 데이터를 설정하고 그 기준보다 큰 데이터와 작은 데이터의 위치를 바꾸면 어떨까?\"\n",
        "- 기준을 설정한 다음 큰 수와 작은 수를 교홚나 후, 리스트를 반으로 나누는 방식으로 동작\n",
        "- 피벗 : 큰 숫자와 작은 숫자를 교환할 때, 교환하기 위한 기준\n",
        "- 퀵 정렬을 수행하기 전에는 피벗을 어떻게 설정할 것인지 미리 명시해줘야함\n",
        "- 호어분할 : \"리스트에서 첫번째 데이터를 피벗으로 정한다\"\n",
        "- 피벗 설정 후에는 **왼쪽부터 피벗보다 큰 데이터**를 찾고, **오른쪽에서부터 피벗보다 작은 데이터**를 찾는다. 그 다음, 큰 데이터와 작은 데이터의 위치를 서로 교환해준다.\n",
        "<br>\n",
        "- 평균 시간 복잡도는 O(NlogN)\n",
        "- 삽입 정렬과는 다르게, **이미 데이터가 정렬되어 있을 경우** 매우 느리게 작동\n",
        "<br>\n",
        "- 데이터가 정렬되어 있지 않음 : 삽입정렬\n",
        "- 데이터가 정렬되어 있음 : 퀵 정렬\n",
        "<br>\n",
        "<br>\n",
        "1. 호어분할 : 리스트에서 첫번째 데이터를 피벗으로 정한다.\n",
        "2. 왼쪽에서부터는 피벗보다 큰 데이터를 찾고, 오른쪽에서는 피벗보다 작은 데이터를 찾는다. 그 후, 찾은 두 대상의 위치를 바꿔준다.\n",
        "3. 결국, 피벗보다 큰 데이터 셋의 모임과 피벗보다 작은 데이터 셋의 모임으로 데이터가 2개로 분할되는 것을 확인할 수 있다.\n",
        "4. 그 후, 각각의 파티션에 대해서도 또 다시 1~3을 반복한다.\n",
        "5. 현재 리스트의 데이터가 1개일 때, 정렬이 종료된다."
      ],
      "metadata": {
        "id": "XvlZByopMSzU"
      }
    },
    {
      "cell_type": "markdown",
      "source": [
        "5 7 9 0 3 1 6 2 4 8 \\\\\n",
        "(5) [7] 9 0 3 1 6 2 [4] 8 <br>\n",
        "각각 왼쪽에서는 피벗보다 큰 데이터를, 오른쪽에서는 피벗보다 작은 데이터를 찾는다. <br>\n",
        "(5) [4] 9 0 3 1 6 2 [7] 8 <br>\n",
        "두 데이터의 위치를 바꿔준다.\n",
        "\n",
        "---\n",
        "다시시작 \\\\\n",
        "(5) 4 [9] 0 3 1 6 [2] 7 8 <br>\n",
        "(5) 4 [2] 0 3 1 6 [9] 7 8 <br>\n",
        "\n",
        "---\n",
        "다시시작 \\\\\n",
        "(5) 4 2 0 3 [1] <-> [6] 9 7 8 <br>\n",
        "더이상 할 것이 없어서 교차되었음 \\\\\n",
        "마지막 남은 원소 1과 5를 교환함\n",
        "\n",
        "---\n",
        "\n",
        "1 4 2 0 3 [5] 6 9 7 8 <br>\n",
        "\n",
        "5보다 큰 데이터, 5보다 작은 데이터로 분할 된 사실을 알 수 있음\n",
        "\n",
        "---"
      ],
      "metadata": {
        "id": "rJa9uMQDaDEp"
      }
    },
    {
      "cell_type": "markdown",
      "source": [
        "## 일반적인 퀵 정렬 알고리즘"
      ],
      "metadata": {
        "id": "b7cgwDJSlQpn"
      }
    },
    {
      "cell_type": "code",
      "source": [
        "array = [5,7,9,0,3,1,6,2,4,8]\n",
        "\n",
        "def quick_sort(array, start, end) :\n",
        "    if start >= end :\n",
        "        return\n",
        "    pivot = start\n",
        "    # 피벗을 첫번째 원소(호어분할)\n",
        "    left = start + 1\n",
        "    # left는 시작하는 원소\n",
        "    # 호어 분할에서는 첫번째 원소가 피벗이므로, 첫번째 원소에 1을 더한 원소를 왼쪽 원소라고 칭함\n",
        "    right = end\n",
        "    # 오른쪽 원소는 가장 끝에 있는 원소\n",
        "\n",
        "    # 이제 우리는 왼쪽에서는 피벗보다 큰 데이터를 찾고, 오른쪽에서는 피벗보다 작은 데이터를 찾는다\n",
        "\n",
        "    while left <= right :\n",
        "        # 피벗보다 큰 데이터를 찾을 때 까지 반복\n",
        "        while left <= end and array[left] <= array[pivot] :\n",
        "            # left <= end : left값이 end까지 갈 때 동안\n",
        "            # 왼쪽의 값이 pivot값 보다 작다면, (우리는 왼쪽으로 가는 값은 pivot값 보다 커야 타겟으로 잡는다)\n",
        "            left += 1\n",
        "            # 그냥 지나간다와 같은 의미\n",
        "\n",
        "        # 피벗보다 작은 데이터를 찾을 때 까지 반복\n",
        "        while right > start and array[right] >= array[pivot] :\n",
        "            # right > start : right는 오른쪽에서 왼쪽으로 오는 값인데,이 값이 시작값보다 크다면(계속 우리는 0이 될때까지 오른쪽으로만 간다)\n",
        "            # 이 때, 오른ㅉ고으로 가는 값이 pivot의 값보다 크다면 (우리는 오른쪽으로 갈 때, pivot의 값보다 작은 것을 타겟으로 잡음)\n",
        "            right -= 1\n",
        "            # 그냥 지나간다는 의미\n",
        "        if left > right :\n",
        "            # 정렬이 끝남 (오른쪽이 왼쪽보다 크다)\n",
        "            array[right], array[pivot] = array[pivot], array[right]\n",
        "            # 정렬이 다 종료되었다면, 마지막 \"right원소\"와 \"피벗 원소\"를 교체시켜준다. \n",
        "        else :\n",
        "            array[left], array[right] = array[right], array[left]\n",
        "            # 일반조건에 대해서(pass 조건) 모두 지켜지지 않는 모든 경우에 대해서 left와 right의 순서 변경!\n",
        "    \n",
        "    quick_sort(array,start,right-1)\n",
        "    # 그리고 right 기준으로 잘라서 왼쪽 퀵정렬\n",
        "    quick_sort(array,right + 1, end)\n",
        "    # right기준으로 잘라서 오른쪽 퀵 정렬\n",
        "\n",
        "quick_sort(array,0,len(array)-1)\n",
        "print(array)"
      ],
      "metadata": {
        "colab": {
          "base_uri": "https://localhost:8080/"
        },
        "id": "XAM5qyKBRqRn",
        "outputId": "cfa30b85-3a0e-499f-fba0-eb1a0319dab0"
      },
      "execution_count": null,
      "outputs": [
        {
          "output_type": "stream",
          "name": "stdout",
          "text": [
            "[0, 1, 2, 3, 4, 5, 6, 7, 8, 9]\n"
          ]
        }
      ]
    },
    {
      "cell_type": "markdown",
      "source": [
        "## 파이썬에서의 퀵 정렬 알고리즘"
      ],
      "metadata": {
        "id": "Ses8aA26lUa9"
      }
    },
    {
      "cell_type": "code",
      "source": [
        "array = [8,7,9,0,3,1,6,2,4,8]\n",
        "\n",
        "def quick_sort(array) :\n",
        "    \n",
        "    if len(array) <= 1:\n",
        "        return array\n",
        "\n",
        "    pivot = array[0] # 첫번째 원소는 피벗\n",
        "    tail = array[1:] # 피벗을 제외한 리스트\n",
        "\n",
        "    left_side = [x for x in tail if x<= pivot] # pivot보다 x가 작으면 모두 left side\n",
        "    right_side = [x for x in tail if x > pivot] # pivot보다 x가 크면 모두 right side\n",
        "\n",
        "    # 결론적으로는 피벗을 중심으로 left에는 작은 값이, right 에는 큰 값이 놓이게 되니까, 그냥 앞에 절차들 다 무시하고 결론만 생각\n",
        "\n",
        "    return quick_sort(left_side) + [pivot] + quick_sort(right_side)\n",
        "\n",
        "    # 결론적으로 left와 right에서 계속 퀵 정렬을 반복함\n",
        "\n",
        "print(quick_sort(array))"
      ],
      "metadata": {
        "colab": {
          "base_uri": "https://localhost:8080/"
        },
        "id": "KjV4uh-qlY_p",
        "outputId": "03dab464-09c8-4c41-8287-e60a2be5fcb7"
      },
      "execution_count": null,
      "outputs": [
        {
          "output_type": "stream",
          "name": "stdout",
          "text": [
            "[0, 1, 2, 3, 4, 6, 7, 8, 8, 9]\n"
          ]
        }
      ]
    },
    {
      "cell_type": "markdown",
      "source": [
        "# 계수 정렬\n",
        "\n",
        "- 특정한 조건일 부합할 때만 사용할 수 있는 매우 빠른 정렬 알고리즘\n",
        "- **데이터의 크기 범위가 제한되어 정수 형태로 표현할 수 있을 때**만 사용\n",
        "- 무한한 범위를 가지는 실수형 데이터가 주어지는 경우 계수 정렬은 사용하기 힘듬\n",
        "- 가장 큰 데이터와 가장 작은 데이터의 차이가 1,000,000을 넘지 않을 때 효과적으로 사용\n",
        "- 별도의 리스트를 선언하고 그 안에 정렬에 대한 정보를 담는다는 특징이 있음\n",
        "- 시간복잡도 O(N+K)\n",
        "-  N : 리스트의 길이\n",
        "-  K : 데이터 수 만큼 반복\n",
        "- 동일한 값이 여러개 등등할 때 적합 "
      ],
      "metadata": {
        "id": "wIw7C3vDodg0"
      }
    },
    {
      "cell_type": "markdown",
      "source": [
        "7 5 9 0 3 1 6 2 9 1 4 8 0 5 2\n",
        "---\n",
        "\n",
        "1. 가장 큰 데이터와 가장 작은 데이터의 범위가 모두 담길 수 있도록 하나의 리스트를 생성 \\\\\n",
        "- 가장 큰 데이터 : 9 \\\\\n",
        "- 가장 작은 데이터 : 0 \\\\\n",
        "- 우리가 정의할 리스트의 length : 0~9까지가 모두 들어갈 수 있는 크기의 리스트 -> 리스트의 크기가 10\n",
        "- 이 때, 이 리스트의 숫자를 모두 0이라고 놓는다\n",
        "<br>\n",
        "\n",
        "[0 0 0 0 0 0 0 0 0 0]\n",
        "\n",
        "---\n",
        "\n",
        "2. 데이터를 하나씩 확인하며 데이터의 값과 동일한 인덱스의 데이터를 1씩 증가시키면 계수 정렬이 완료된다.\n",
        "- 리스트에는 각 데이터가 몇번 등장했는지 그 횟수를 기록한다\n",
        "\n",
        "0) [0 1 2 3 4 5 6 7 8 9]\n",
        "\n",
        "1) [0 0 0 0 0 0 0 1 0 0]  7 \\\\\n",
        "2) [0 0 0 0 0 1 0 1 0 0]  5 \\\\\n",
        "3) [0 0 0 0 0 1 0 1 0 1]  9 \\\\\n",
        "4) [1 0 0 0 0 1 0 1 0 1]  0 \\\\\n",
        "5) [1 0 0 1 0 1 0 1 0 1]  3 \\\\\n",
        "6) [1 1 0 1 0 1 0 1 0 1]  1 \\\\\n",
        "... \\\\\n",
        "15) [2 2 2 1 1 2 1 1 1 2] 2 \\\\"
      ],
      "metadata": {
        "id": "oTHD3HbupsHM"
      }
    },
    {
      "cell_type": "code",
      "source": [
        "array = [7, 5, 9, 0, 3, 1, 6 ,2 ,9, 1, 4, 8, 5, 2]\n",
        "\n",
        "# 리스트 초기회\n",
        "# 1. 가장 큰 범위와 가장 작은 범위가 담길 수 있도록 리스트를 0으로 초기화\n",
        "\n",
        "count = [0] * (max(array) + 1)\n",
        "\n",
        "# 2. 각 해당하는 인덱스에서 그에 해당하면 count를 1씩 증가시킴\n",
        "for i in range(len(array)) :\n",
        "    count[array[i]] += 1\n",
        "\n",
        "# 3. 리스트에 기록된 정렬정보로 정렬된 데이터 출력\n",
        "for i in range(len(count)) :\n",
        "    for j in range(count[i]) :\n",
        "        print(i, end = \" \")\n",
        "        # 띄어쓰기 구분으로 등장한 만큼 리스트 출력"
      ],
      "metadata": {
        "colab": {
          "base_uri": "https://localhost:8080/"
        },
        "id": "lMtToRwSORbv",
        "outputId": "b909cebc-16fd-4687-ac99-bc3f868bd2dd"
      },
      "execution_count": 14,
      "outputs": [
        {
          "output_type": "stream",
          "name": "stdout",
          "text": [
            "0 1 1 2 2 3 4 5 5 6 7 8 9 9 "
          ]
        }
      ]
    },
    {
      "cell_type": "markdown",
      "source": [
        "# 정렬 라이브러리\n",
        "\n",
        "- 최악의 경우에도 O(NlogN)의 시간 복잡도를 보장\n",
        "- 병합 정렬과 삽입 정렬의 아이디어를 더한 하이브리드 방식의 정렬 알고리즘을 사용\n",
        "- 단순히 정렬해야 되는 상황 : 제한 조건이 주어져있지 않다면, 정렬 라이브러리 사용\n",
        "- 데이터 범위가 제한되어 있을 때 : 계수 정렬 사용"
      ],
      "metadata": {
        "id": "yuuY0vRURGta"
      }
    },
    {
      "cell_type": "markdown",
      "source": [
        "- sorted() : 퀵정렬보다 느리지만 최악의 경우어도 어느정도의 시간 복잡도를 보장, 리스트, 딕셔너리 자료형을 받아서 반환"
      ],
      "metadata": {
        "id": "dyqFcN37TMst"
      }
    },
    {
      "cell_type": "code",
      "source": [
        "array = [7,5,9,0,3,1,6,2,4,8]\n",
        "result = sorted(array)\n",
        "print(result)"
      ],
      "metadata": {
        "colab": {
          "base_uri": "https://localhost:8080/"
        },
        "id": "wpl6BQgURZF8",
        "outputId": "c13a1008-ead8-49a3-e14a-472b6a296f7c"
      },
      "execution_count": 15,
      "outputs": [
        {
          "output_type": "stream",
          "name": "stdout",
          "text": [
            "[0, 1, 2, 3, 4, 5, 6, 7, 8, 9]\n"
          ]
        }
      ]
    },
    {
      "cell_type": "markdown",
      "source": [
        "- sort() : 리스트 원소 안에 있는 내장함수, 그냥 그대로 정렬할 수 있음(다른 변수에 지정할 필요가 없음)"
      ],
      "metadata": {
        "id": "sudFJLVzRjNf"
      }
    },
    {
      "cell_type": "code",
      "source": [
        "array = [7,5,9,0,3,1,6,2,4,8]\n",
        "array.sort()\n",
        "print(array)"
      ],
      "metadata": {
        "colab": {
          "base_uri": "https://localhost:8080/"
        },
        "id": "5XttlN1VRutK",
        "outputId": "6163a55c-98e3-4513-ec1e-de52a29d2bce"
      },
      "execution_count": 16,
      "outputs": [
        {
          "output_type": "stream",
          "name": "stdout",
          "text": [
            "[0, 1, 2, 3, 4, 5, 6, 7, 8, 9]\n"
          ]
        }
      ]
    },
    {
      "cell_type": "markdown",
      "source": [
        "- sorted(), sort()의 key : 리스트의 데이터가 튜플로 구성되어 있을 때, key를 지정하여 정렬 할 수 있다."
      ],
      "metadata": {
        "id": "QGs3-TWVR-1I"
      }
    },
    {
      "cell_type": "code",
      "source": [
        "array = [('바나나', 2), ('사과',5),('당근',3)]\n",
        "\n",
        "def setting(data) :\n",
        "    return data[1] # 파이썬은 0부터 시작\n",
        "\n",
        "result = sorted(array, key = setting) # key에 함수를 넣어주면, 그 키에 맞게 데이터가 정렬됨\n",
        "print(result)"
      ],
      "metadata": {
        "colab": {
          "base_uri": "https://localhost:8080/"
        },
        "id": "BkFK3Z8MSgIs",
        "outputId": "537b9077-d4ba-4812-f624-c7c3ecb37c71"
      },
      "execution_count": 23,
      "outputs": [
        {
          "output_type": "stream",
          "name": "stdout",
          "text": [
            "[('바나나', 2), ('당근', 3), ('사과', 5)]\n"
          ]
        }
      ]
    }
  ]
}